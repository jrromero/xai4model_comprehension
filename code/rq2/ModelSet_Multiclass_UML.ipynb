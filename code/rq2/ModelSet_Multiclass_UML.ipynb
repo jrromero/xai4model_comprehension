{
  "cells": [
    {
      "cell_type": "markdown",
      "metadata": {
        "id": "i7w_FMJVlYYi"
      },
      "source": [
        "Authors: José Raúl Romero (jrromero@uco.es), Aurora Ramírez (aurora.ramirez@uma.es), Francisco Javier Alcaide (f52almef@uco.es)"
      ]
    },
    {
      "cell_type": "markdown",
      "metadata": {
        "id": "ZSkjoCvu8pBu"
      },
      "source": [
        "**Multiclass classification problem notebook for UML data set**\n",
        "\n",
        "- The \"dummies\" and \"unknown\" cases will be ignored.\n",
        "\n",
        "- SVC, RF and KNN have been used\n",
        "\n",
        "- For the metrics we consider the \"macro\" approach with the aim that the metrics are not affected by their number.\n",
        "\n",
        "- It has been verified that after 10 classes there is a higher decrease in performance.\n",
        "\n",
        "- It has been proven that working with the 10 most frequent classes and deleting the rest results in better performance than grouping the rest into a single class.\n",
        "\n",
        "- Explainability, the 5 classes with the best performance in F1-score. The instances that have obtained the highest probability for that class were studied.\n",
        "\n",
        "- Local explainability: 10 features with the greatest contribution in each technique have been considered. And for the coincidence metrics between techniques, the TOP5 has been considered."
      ]
    },
    {
      "cell_type": "markdown",
      "metadata": {
        "id": "43uij0ADRn8c"
      },
      "source": [
        "# Installation:"
      ]
    },
    {
      "cell_type": "markdown",
      "metadata": {
        "id": "HO5BR5La95Vt"
      },
      "source": [
        "It is important to define the path to the folder that contains the Modelset files, in this notebook using the variable \"MODELSET_HOME\"."
      ]
    },
    {
      "cell_type": "code",
      "execution_count": null,
      "metadata": {
        "id": "nvt1MSTkRn8d"
      },
      "outputs": [],
      "source": [
        "MODELSET_HOME = \"\""
      ]
    },
    {
      "cell_type": "code",
      "execution_count": null,
      "metadata": {
        "id": "CTOw27VxEu9V"
      },
      "outputs": [],
      "source": [
        "import warnings\n",
        "warnings.filterwarnings('ignore')"
      ]
    },
    {
      "cell_type": "code",
      "execution_count": null,
      "metadata": {
        "colab": {
          "base_uri": "https://localhost:8080/"
        },
        "id": "YDd25qKDUA3L",
        "outputId": "4c05f4c1-986f-467e-9b15-a0f73c3d30c8"
      },
      "outputs": [],
      "source": [
        "!pip install kaleido"
      ]
    },
    {
      "cell_type": "code",
      "execution_count": null,
      "metadata": {
        "colab": {
          "base_uri": "https://localhost:8080/"
        },
        "id": "ZxsoiVlQRn8c",
        "outputId": "98491db5-8f6a-45ef-96f1-a8b8bbbc3106"
      },
      "outputs": [],
      "source": [
        "!pip install modelset-py"
      ]
    },
    {
      "cell_type": "code",
      "execution_count": null,
      "metadata": {
        "colab": {
          "base_uri": "https://localhost:8080/"
        },
        "id": "gjjUpRMKRn8d",
        "outputId": "ba113845-6259-47e7-e927-bf87792b9ec8"
      },
      "outputs": [],
      "source": [
        "!pip install dalex -U"
      ]
    },
    {
      "cell_type": "code",
      "execution_count": null,
      "metadata": {
        "colab": {
          "base_uri": "https://localhost:8080/"
        },
        "id": "xswWhYrqRn8d",
        "outputId": "20e7b027-608f-4abe-842d-a621af672a8c"
      },
      "outputs": [],
      "source": [
        "!pip install lime"
      ]
    },
    {
      "cell_type": "code",
      "execution_count": null,
      "metadata": {
        "colab": {
          "base_uri": "https://localhost:8080/",
          "height": 384
        },
        "id": "K7qAZlpARn8d",
        "outputId": "39562fa7-9fa6-4cbd-81e4-4ba9be09757f"
      },
      "outputs": [],
      "source": [
        "import sys\n",
        "import pandas as pd\n",
        "import re\n",
        "import plotly\n",
        "import kaleido\n",
        "import pickle\n",
        "import numpy as np\n",
        "import dalex as dx\n",
        "import os\n",
        "import modelset.dataset as ds\n",
        "import matplotlib.pyplot as plt\n",
        "import seaborn as sns\n",
        "from sklearn.preprocessing import LabelEncoder, StandardScaler\n",
        "from sklearn.model_selection import train_test_split\n",
        "from sklearn.neighbors import KNeighborsClassifier\n",
        "from sklearn.ensemble import RandomForestClassifier\n",
        "from sklearn.svm import SVC\n",
        "from sklearn.metrics import accuracy_score, classification_report, confusion_matrix, precision_score, recall_score, f1_score, ConfusionMatrixDisplay, balanced_accuracy_score\n",
        "from sklearn.model_selection import GridSearchCV, cross_validate\n",
        "from sklearn.inspection import permutation_importance"
      ]
    },
    {
      "cell_type": "markdown",
      "metadata": {
        "id": "lnZF5LXUDLT-"
      },
      "source": [
        "## Functions:"
      ]
    },
    {
      "cell_type": "code",
      "execution_count": null,
      "metadata": {
        "id": "HXFG4sh7vmlV"
      },
      "outputs": [],
      "source": [
        "# Function to evaluate the sign of values\n",
        "def evaluate_value(value):\n",
        "    if value >= 0:\n",
        "        return \"Positive\"\n",
        "    else:\n",
        "        return \"Negative\""
      ]
    },
    {
      "cell_type": "code",
      "execution_count": null,
      "metadata": {
        "id": "OeVjRkElvmlW"
      },
      "outputs": [],
      "source": [
        "# Create the MultiIndex columns\n",
        "columns_multi = pd.MultiIndex.from_tuples([\n",
        "    ('Breakdown', 'Ranking'), ('Breakdown', 'Sign'),\n",
        "    ('Shap', 'Ranking'), ('Shap', 'Sign'),\n",
        "    ('Lime', 'Ranking'), ('Lime', 'Sign')\n",
        "])"
      ]
    },
    {
      "cell_type": "code",
      "execution_count": null,
      "metadata": {
        "id": "m1cPpg5wvmlW"
      },
      "outputs": [],
      "source": [
        "# Function to evaluate the top 5 features\n",
        "def top5_features(df, case):\n",
        "    set_expl = {}\n",
        "\n",
        "    for tech in ['Breakdown', 'Shap', 'Lime']:\n",
        "        inst_top5 = set(df[df[(tech, 'Ranking')].isin([1, 2, 3, 4, 5])].index)\n",
        "        set_expl[tech] = inst_top5\n",
        "\n",
        "    result_case = {\n",
        "        f'TOP5 {tech}': ', '.join(set_expl[tech]) for tech in ['Breakdown', 'Shap', 'Lime']\n",
        "    }\n",
        "\n",
        "    for tech1, inst_top5_1 in set_expl.items():\n",
        "        for tech2, inst_top5_2 in set_expl.items():\n",
        "            if tech1 < tech2:\n",
        "                col_name = f'{tech1}-{tech2}'\n",
        "                result_case[col_name] = len(inst_top5_1.intersection(inst_top5_2)) / 5\n",
        "\n",
        "    df_top5_case = pd.DataFrame(result_case, index=[case])\n",
        "\n",
        "    return df_top5_case"
      ]
    },
    {
      "cell_type": "code",
      "execution_count": null,
      "metadata": {
        "id": "tGSU1_EsvmlW"
      },
      "outputs": [],
      "source": [
        "# Function to evaluate the top 5 ranking\n",
        "def top5_rank(df, case):\n",
        "    set_expl = {}\n",
        "\n",
        "    for tech in ['Breakdown', 'Shap', 'Lime']:\n",
        "        inst_top5 = df[df[(tech, 'Ranking')].isin([1, 2, 3, 4, 5])]\n",
        "        inst_top5_str = ', '.join([f'{ranking}:{inst}' for ranking, inst in zip(inst_top5[(tech, 'Ranking')], inst_top5.index)])\n",
        "\n",
        "        set_expl[tech] = inst_top5_str\n",
        "\n",
        "    result_case = {\n",
        "        f'TOP5 {tech}': set_expl[tech] for tech in ['Breakdown', 'Shap', 'Lime']\n",
        "    }\n",
        "\n",
        "    for tech1, inst_top5_1 in set_expl.items():\n",
        "        for tech2, inst_top5_2 in set_expl.items():\n",
        "            if tech1 < tech2:\n",
        "                col_name = f'{tech1}-{tech2}'\n",
        "\n",
        "                coincidence = [inst for inst in inst_top5_1.split(', ') if inst in inst_top5_2.split(', ') and inst.split(':')[1] == inst.split(':')[1]]\n",
        "                num_coincidence = len(coincidence)\n",
        "\n",
        "                result_case[col_name] = num_coincidence / 5\n",
        "\n",
        "    df_top5_rank = pd.DataFrame(result_case, index=[case])\n",
        "\n",
        "    return df_top5_rank"
      ]
    },
    {
      "cell_type": "code",
      "execution_count": null,
      "metadata": {
        "id": "sKierinqvmlW"
      },
      "outputs": [],
      "source": [
        "# Function to evaluate the top 5 sign\n",
        "def top5_sign(df, case):\n",
        "    set_expl = {}\n",
        "\n",
        "    for tech in ['Breakdown', 'Shap', 'Lime']:\n",
        "        inst_top5 = df[df[(tech, 'Ranking')].isin([1, 2, 3, 4, 5])]\n",
        "        inst_top5_str = ', '.join([f'{inst}:{sign}' for inst, sign in zip(inst_top5.index, inst_top5[(tech, 'Sign')])])\n",
        "\n",
        "        set_expl[tech] = inst_top5_str\n",
        "\n",
        "    result_case = {\n",
        "        f'TOP5 {tech}': set_expl[tech] for tech in ['Breakdown', 'Shap', 'Lime']\n",
        "    }\n",
        "\n",
        "    for tech1, inst_top5_1 in set_expl.items():\n",
        "        for tech2, inst_top5_2 in set_expl.items():\n",
        "            if tech1 < tech2:\n",
        "                col_name = f'{tech1}-{tech2}'\n",
        "\n",
        "                coincidence = [inst for inst in inst_top5_1.split(', ') if inst in inst_top5_2.split(', ')]\n",
        "                num_coincidence = len(coincidence)\n",
        "\n",
        "                result_case[col_name] = num_coincidence / 5\n",
        "\n",
        "    df_top5_sign = pd.DataFrame(result_case, index=[case])\n",
        "\n",
        "    return df_top5_sign"
      ]
    },
    {
      "cell_type": "code",
      "execution_count": null,
      "metadata": {
        "id": "faQ4GONWvmlW"
      },
      "outputs": [],
      "source": [
        "# Function to evaluate the top 5 sign and ranking\n",
        "def top5_rank_sign(df, case):\n",
        "    set_expl = {}\n",
        "\n",
        "    for tech in ['Breakdown', 'Shap', 'Lime']:\n",
        "        inst_top5 = df[df[(tech, 'Ranking')].isin([1, 2, 3, 4, 5])]\n",
        "        inst_top5_str = ', '.join([f'{ranking}:{inst}:{sign}' for ranking, inst, sign in zip(inst_top5[(tech, 'Ranking')], inst_top5.index, inst_top5[(tech, 'Sign')])])\n",
        "        set_expl[tech] = inst_top5_str\n",
        "\n",
        "    result_case = {\n",
        "        f'TOP5 {tech}': set_expl[tech] for tech in ['Breakdown', 'Shap', 'Lime']\n",
        "    }\n",
        "\n",
        "    for tech1, inst_top5_1 in set_expl.items():\n",
        "        for tech2, inst_top5_2 in set_expl.items():\n",
        "            if tech1 < tech2:\n",
        "                col_name = f'{tech1}-{tech2}'\n",
        "\n",
        "                coincidence = [inst for inst in inst_top5_1.split(', ') if inst in inst_top5_2.split(', ') and inst.split(':')[1] == inst.split(':')[1] and inst.split(':')[2] == inst.split(':')[2]]\n",
        "                num_coincidence = len(coincidence)\n",
        "                result_case[col_name] = num_coincidence / 5\n",
        "\n",
        "    df_top5_rank_sign = pd.DataFrame(result_case, index=[case])\n",
        "\n",
        "    return df_top5_rank_sign"
      ]
    },
    {
      "cell_type": "code",
      "execution_count": null,
      "metadata": {
        "id": "GpDavpdcTzdy"
      },
      "outputs": [],
      "source": [
        "# Function to obtain the dataframes of the tech Breakdown, SHAP, and LIME.\n",
        "def preprocess_dfs(breakdown_df, shap_df, lime_df, n, m):\n",
        "\n",
        "    pattern = re.compile(r'(?:<=|<|>=|>)\\s*(\\w+)\\s*(?:<=|<|>=|>)')\n",
        "\n",
        "    breakdown_df = breakdown_df.loc[:, ['variable_name', 'contribution', 'sign']]\n",
        "    breakdown_df = breakdown_df.drop(index=[0, n+1])\n",
        "    breakdown_df['sign'] = breakdown_df['sign'].replace({1.0: 'Positive', 0.0: 'Null', -1.0: 'Negative'})\n",
        "    breakdown_df = breakdown_df.sort_values(by='contribution', key=lambda x: abs(x), ascending=False)\n",
        "\n",
        "    shap_df = shap_df.loc[:, ['variable_name', 'contribution', 'sign']]\n",
        "    shap_df = shap_df.tail(n)\n",
        "    shap_df['sign'] = shap_df['sign'].replace({1.0: 'Positive', 0.0: 'Null', -1.0: 'Negative'})\n",
        "    shap_df = shap_df.sort_values(by='contribution', key=lambda x: abs(x), ascending=False)\n",
        "\n",
        "    lime_list = []\n",
        "    for feature in lime_df['variable']:\n",
        "      if pattern.findall(feature):\n",
        "        match = pattern.search(feature)\n",
        "        if match:\n",
        "          lime_list.append(match.group(1))\n",
        "      else:\n",
        "        splits = feature.split(\" \")\n",
        "        lime_list.append(splits[0])\n",
        "\n",
        "    lime_df[\"Feature\"] = lime_list\n",
        "    lime_df[\"Sign\"] = lime_df[\"effect\"].apply(evaluate_value)\n",
        "    lime_df = lime_df.sort_values(by='effect', key=lambda x: abs(x), ascending=False)\n",
        "    lime_df = lime_df.drop(columns=['variable'])\n",
        "\n",
        "    breakdown_df['Ranking'] = breakdown_df['contribution'].abs().rank(ascending=False).astype(int)\n",
        "    breakdown_df.rename(columns={'sign': 'Sign', 'variable_name':'Feature'}, inplace=True)\n",
        "    breakdown_df = breakdown_df[['Feature', 'Ranking', 'contribution', 'Sign']]\n",
        "\n",
        "    shap_df['Ranking'] = shap_df['contribution'].abs().rank(ascending=False).astype(int)\n",
        "    shap_df.rename(columns={'sign': 'Sign', 'variable_name':'Feature'}, inplace=True)\n",
        "    shap_df = shap_df[['Feature', 'Ranking', 'contribution', 'Sign']]\n",
        "\n",
        "    lime_df['Ranking'] = lime_df['effect'].abs().rank(ascending=False).astype(int)\n",
        "    lime_df = lime_df.head(m)\n",
        "    lime_df = lime_df[['Feature', 'Ranking', 'effect', 'Sign']]\n",
        "\n",
        "    breakdown_df = breakdown_df.drop(columns=['contribution'])\n",
        "    shap_df = shap_df.drop(columns=['contribution'])\n",
        "    lime_df = lime_df.drop(columns=['effect'])\n",
        "\n",
        "    breakdown_df = breakdown_df.head(m)\n",
        "    breakdown_df = breakdown_df.reset_index(drop=True)\n",
        "\n",
        "    shap_df= shap_df.head(m)\n",
        "    shap_df = shap_df.reset_index(drop=True)\n",
        "\n",
        "    lime_df = lime_df.reset_index(drop=True)\n",
        "\n",
        "    breakdown_features = list(breakdown_df['Feature'])\n",
        "    shap_features = list(shap_df['Feature'])\n",
        "    lime_features = list(lime_df['Feature'])\n",
        "    all_features = list(set(breakdown_features + shap_features + lime_features))\n",
        "    all_features = all_features[::-1]\n",
        "\n",
        "    df_final = pd.DataFrame(index=range(len(all_features)), columns=columns_multi)\n",
        "    df_final['Feature'] = list(all_features)\n",
        "    df_final = df_final[['Feature', 'Breakdown', 'Shap', 'Lime']]\n",
        "\n",
        "    #print(breakdown_features)\n",
        "    #print(shap_features)\n",
        "    #print(lime_features)\n",
        "    print(all_features)\n",
        "\n",
        "    for feature in df_final['Feature']:\n",
        "\n",
        "        breakdown_row = breakdown_df[breakdown_df['Feature'] == feature]\n",
        "        if not breakdown_row.empty:\n",
        "\n",
        "            ranking_breakdown = breakdown_row.iloc[0]['Ranking']\n",
        "            sign_breakdown = breakdown_row.iloc[0]['Sign']\n",
        "            df_final.loc[df_final['Feature'] == feature, ('Breakdown', 'Ranking')] = ranking_breakdown\n",
        "            df_final.loc[df_final['Feature'] == feature, ('Breakdown', 'Sign')] = sign_breakdown\n",
        "        else:\n",
        "\n",
        "            df_final.loc[df_final['Feature'] == feature, ('Breakdown', 'Ranking')] = '-'\n",
        "            df_final.loc[df_final['Feature'] == feature, ('Breakdown', 'Sign')] = '-'\n",
        "\n",
        "\n",
        "        shap_row = shap_df[shap_df['Feature'] == feature]\n",
        "        if not shap_row.empty:\n",
        "            ranking_shap = shap_row.iloc[0]['Ranking']\n",
        "            sign_shap = shap_row.iloc[0]['Sign']\n",
        "            df_final.loc[df_final['Feature'] == feature, ('Shap', 'Ranking')] = ranking_shap\n",
        "            df_final.loc[df_final['Feature'] == feature, ('Shap', 'Sign')] = sign_shap\n",
        "        else:\n",
        "            df_final.loc[df_final['Feature'] == feature, ('Shap', 'Ranking')] = '-'\n",
        "            df_final.loc[df_final['Feature'] == feature, ('Shap', 'Sign')] = '-'\n",
        "\n",
        "\n",
        "        lime_row = lime_df[lime_df['Feature'] == feature]\n",
        "        if not lime_row.empty:\n",
        "            ranking_lime = lime_row.iloc[0]['Ranking']\n",
        "            sign_lime = lime_row.iloc[0]['Sign']\n",
        "            df_final.loc[df_final['Feature'] == feature, ('Lime', 'Ranking')] = ranking_lime\n",
        "            df_final.loc[df_final['Feature'] == feature, ('Lime', 'Sign')] = sign_lime\n",
        "        else:\n",
        "            df_final.loc[df_final['Feature'] == feature, ('Lime', 'Ranking')] = '-'\n",
        "            df_final.loc[df_final['Feature'] == feature, ('Lime', 'Sign')] = '-'\n",
        "\n",
        "\n",
        "    ranking_breakdown = df_final[('Breakdown', 'Ranking')]\n",
        "    values_valid = ranking_breakdown[ranking_breakdown != '-']\n",
        "    cases_invalid = ranking_breakdown[ranking_breakdown == '-'].index\n",
        "    cases_valid = []\n",
        "    cases_invalid_restantes = list(cases_invalid)\n",
        "    cases_valid.extend(values_valid.sort_values().index.tolist())\n",
        "\n",
        "    for cas in cases_invalid:\n",
        "        value_shap = df_final.at[cas, ('Shap', 'Ranking')]\n",
        "        if value_shap != '-':\n",
        "            cases_valid.extend([cas])\n",
        "            cases_invalid_restantes.remove(cas)\n",
        "\n",
        "    for cas in cases_invalid_restantes:\n",
        "        value_lime = df_final.at[cas, ('Lime', 'Ranking')]\n",
        "        if value_lime != '-':\n",
        "            cases_valid.extend([cas])\n",
        "\n",
        "    df_final = df_final.loc[cases_valid]\n",
        "    df_final.set_index('Feature', inplace=True)\n",
        "    return breakdown_df, shap_df, lime_df, df_final\n"
      ]
    },
    {
      "cell_type": "code",
      "execution_count": null,
      "metadata": {
        "id": "hRJp47VbKwSg"
      },
      "outputs": [],
      "source": [
        "# Function to create final dataframes with all the disagreement metrics and calculate the means of disagreement metrics for each pair of techniques.\n",
        "def calculate_metrics(df_list):\n",
        "    df_final = pd.concat(df_list)\n",
        "\n",
        "    mean_bd_shap = df_final['Breakdown-Shap'].mean()\n",
        "    mean_bd_lime = df_final['Breakdown-Lime'].mean()\n",
        "    mean_lime_shap = df_final['Lime-Shap'].mean()\n",
        "\n",
        "    return df_final, mean_bd_shap, mean_bd_lime, mean_lime_shap"
      ]
    },
    {
      "cell_type": "code",
      "execution_count": null,
      "metadata": {
        "id": "a_yhb2aG-J61"
      },
      "outputs": [],
      "source": [
        "# Function to create dictionaries containing the disagreement metrics dataframes\n",
        "def create_metrics_dfs(metrics_dict, metric_type):\n",
        "    dfs = {'Model_comparison': {}, 'Class_comparison': {}}\n",
        "    columns_model = ['Class', 'Mean Breakdown-Shap', 'Mean Breakdown-Lime', 'Mean Lime-Shap']\n",
        "    columns_class = ['Model', 'Mean Breakdown-Shap', 'Mean Breakdown-Lime', 'Mean Lime-Shap']\n",
        "    metric_names = [f'Mean_{metric_type}_BD_Shap', f'Mean_{metric_type}_BD_Lime', f'Mean_{metric_type}_Lime_Shap']\n",
        "\n",
        "    for model_name, indexes_dict in metrics_dict.items():\n",
        "        for index_name, metrics in indexes_dict.items():\n",
        "            if model_name not in dfs['Class_comparison']:\n",
        "                dfs['Class_comparison'][model_name] = pd.DataFrame(columns=columns_model)\n",
        "\n",
        "            get_metrics = [metrics.get(metric_name) for metric_name in metric_names]\n",
        "            class_data = [index_name] + get_metrics\n",
        "            dfs['Class_comparison'][model_name] = pd.concat([dfs['Class_comparison'][model_name], pd.Series(class_data, index=columns_model).to_frame().T], ignore_index=True)\n",
        "\n",
        "            if index_name not in dfs['Model_comparison']:\n",
        "                dfs['Model_comparison'][index_name] = pd.DataFrame(columns=columns_class)\n",
        "\n",
        "            get_metrics = [metrics.get(metric_name) for metric_name in metric_names]\n",
        "            model_data = [model_name] + get_metrics\n",
        "            dfs['Model_comparison'][index_name] = pd.concat([dfs['Model_comparison'][index_name], pd.Series(model_data, index=columns_class).to_frame().T], ignore_index=True)\n",
        "\n",
        "    return dfs"
      ]
    },
    {
      "cell_type": "code",
      "execution_count": null,
      "metadata": {
        "id": "PTPkqcK1TqaC"
      },
      "outputs": [],
      "source": [
        "# Function to obtain dataframes of explanations, disagreement metrics, and each of the disagreement metrics dataframes\n",
        "def calculate_metrics_for_indices(models_dict, indexes_dict, X_test, X_train, y_train, num_features, top_num_features):\n",
        "    results_dict = {}\n",
        "    metrics_dict = {}\n",
        "\n",
        "    for model_name, model in models_dict.items():\n",
        "        results_dict[model_name] = {}\n",
        "        metrics_dict[model_name] = {}\n",
        "\n",
        "        exp = dx.Explainer(model, X_train, y_train)\n",
        "\n",
        "        for index_name, indices in indexes_dict.items():\n",
        "          results_dict[model_name][index_name] = {}\n",
        "          metrics_dict[model_name][index_name] = {}\n",
        "          model_results = results_dict[model_name][index_name]\n",
        "          df_list_top = []\n",
        "          df_list_rank = []\n",
        "          df_list_sign = []\n",
        "          df_list_rank_sign = []\n",
        "\n",
        "          for i in indices:\n",
        "            instance = X_test.loc[i]\n",
        "\n",
        "            breakdown = exp.predict_parts(instance, type=\"break_down\", random_state=42)\n",
        "            shap = exp.predict_parts(instance, type=\"shap\", random_state=42)\n",
        "            lime = exp.predict_surrogate(instance, random_state=42)\n",
        "            breakdown_df = breakdown.result\n",
        "            shap_df = shap.result\n",
        "            lime_df = lime.result\n",
        "\n",
        "            breakdown_df, shap_df, lime_df, df_final = preprocess_dfs(breakdown_df, shap_df, lime_df, num_features, top_num_features)\n",
        "\n",
        "            model_results[f\"breakdown_df_{i}\"] = breakdown_df\n",
        "            model_results[f\"shap_df_{i}\"] = shap_df\n",
        "            model_results[f\"lime_df_{i}\"] = lime_df\n",
        "            model_results[f\"df_final_{i}\"] = df_final\n",
        "\n",
        "            metrics_dict[model_name][index_name][f\"df_top_metric_{i}\"] = top3_features(df_final, i)\n",
        "            metrics_dict[model_name][index_name][f'df_rank_metric_{i}'] = top3_rank(df_final, i)\n",
        "            metrics_dict[model_name][index_name][f'df_sign_metric_{i}'] = top3_sign(df_final, i)\n",
        "            metrics_dict[model_name][index_name][f'df_rank_sign_metric_{i}'] = top3_rank_sign(df_final, i)\n",
        "\n",
        "            #model_results[f\"df_top_metric_{i}\"] = top3_features(df_final, i)\n",
        "            #model_results[f'df_rank_metric_{i}'] = top3_rank(df_final, i)\n",
        "            #model_results[f'df_sign_metric_{i}'] = top3_sign(df_final, i)\n",
        "            #model_results[f'df_rank_sign_metric_{i}'] = top3_rank_sign(df_final, i)\n",
        "\n",
        "            df_list_top.append(metrics_dict[model_name][index_name][f'df_top_metric_{i}'])\n",
        "            df_list_rank.append(metrics_dict[model_name][index_name][f'df_rank_metric_{i}'])\n",
        "            df_list_sign.append(metrics_dict[model_name][index_name][f'df_sign_metric_{i}'])\n",
        "            df_list_rank_sign.append(metrics_dict[model_name][index_name][f'df_rank_sign_metric_{i}'])\n",
        "\n",
        "          df_top_metric_final, mean_top_bd_shap, mean_top_bd_lime, mean_top_lime_shap = calculate_metrics(df_list_top)\n",
        "          df_rank_metric_final, mean_rank_bd_shap, mean_rank_bd_lime, mean_rank_lime_shap = calculate_metrics(df_list_rank)\n",
        "          df_sign_metric_final, mean_sign_bd_shap, mean_sign_bd_lime, mean_sign_lime_shap = calculate_metrics(df_list_sign)\n",
        "          df_rank_sign_metric_final, mean_rank_sign_bd_shap, mean_rank_sign_bd_lime, mean_rank_sign_lime_shap = calculate_metrics(df_list_rank_sign)\n",
        "\n",
        "          metrics_dict[model_name][index_name][f'Mean_top_BD_Shap'] = mean_top_bd_shap\n",
        "          metrics_dict[model_name][index_name][f'Mean_top_BD_Lime'] = mean_top_bd_lime\n",
        "          metrics_dict[model_name][index_name][f'Mean_top_Lime_Shap'] = mean_top_lime_shap\n",
        "          metrics_dict[model_name][index_name][f'df_top_metric_final'] = df_top_metric_final\n",
        "\n",
        "          metrics_dict[model_name][index_name][f'Mean_rank_BD_Shap'] = mean_rank_bd_shap\n",
        "          metrics_dict[model_name][index_name][f'Mean_rank_BD_Lime'] = mean_rank_bd_lime\n",
        "          metrics_dict[model_name][index_name][f'Mean_rank_Lime_Shap'] = mean_rank_lime_shap\n",
        "          metrics_dict[model_name][index_name][f'df_rank_metric_final'] = df_rank_metric_final\n",
        "\n",
        "          metrics_dict[model_name][index_name][f'Mean_sign_BD_Shap'] = mean_sign_bd_shap\n",
        "          metrics_dict[model_name][index_name][f'Mean_sign_BD_Lime'] = mean_sign_bd_lime\n",
        "          metrics_dict[model_name][index_name][f'Mean_sign_Lime_Shap'] = mean_sign_lime_shap\n",
        "          metrics_dict[model_name][index_name][f'df_sign_metric_final'] = df_sign_metric_final\n",
        "\n",
        "          metrics_dict[model_name][index_name][f'Mean_rank_sign_BD_Shap'] = mean_rank_sign_bd_shap\n",
        "          metrics_dict[model_name][index_name][f'Mean_rank_sign_BD_Lime'] = mean_rank_sign_bd_lime\n",
        "          metrics_dict[model_name][index_name][f'Mean_rank_sign_Lime_Shap'] = mean_rank_sign_lime_shap\n",
        "          metrics_dict[model_name][index_name][f'df_rank_sign_metric_final'] = df_rank_sign_metric_final\n",
        "\n",
        "    top_metric_df = create_metrics_dfs(metrics_dict, 'top')\n",
        "    rank_metric_df = create_metrics_dfs(metrics_dict, 'rank')\n",
        "    sign_metric_df = create_metrics_dfs(metrics_dict, 'sign')\n",
        "    rank_sign_metric_df = create_metrics_dfs(metrics_dict, 'rank_sign')\n",
        "\n",
        "    return metrics_dict, results_dict, top_metric_df, rank_metric_df, sign_metric_df, rank_sign_metric_df\n"
      ]
    },
    {
      "cell_type": "markdown",
      "metadata": {
        "id": "XxWMqJgNKnHr"
      },
      "source": [
        "# Load y Preprocess:"
      ]
    },
    {
      "cell_type": "markdown",
      "metadata": {
        "id": "TCtow8SNvJkY"
      },
      "source": [
        "In this section, we will perform data loading, cleaning, preprocessing, and an initial data analysis."
      ]
    },
    {
      "cell_type": "code",
      "execution_count": null,
      "metadata": {},
      "outputs": [],
      "source": [
        "dataset = ds.load(MODELSET_HOME, modeltype='uml', selected_analysis=['stats'])\n",
        "modelset_df = dataset._Dataset__to_df()\n",
        "\n",
        "duplicates = modelset_df.duplicated(subset=\"id\", keep=False)\n",
        "inst_dup = modelset_df[duplicates]\n",
        "inst_dup"
      ]
    },
    {
      "cell_type": "code",
      "execution_count": null,
      "metadata": {
        "colab": {
          "base_uri": "https://localhost:8080/",
          "height": 617
        },
        "id": "uTzfEezOKnHs",
        "outputId": "39258b8b-a5ac-415e-e75a-a424dc5d8137"
      },
      "outputs": [],
      "source": [
        "modelset_df"
      ]
    },
    {
      "cell_type": "code",
      "execution_count": null,
      "metadata": {
        "colab": {
          "base_uri": "https://localhost:8080/"
        },
        "id": "WUKWbYCJKnHs",
        "outputId": "448c0e1c-184c-4302-c711-7f31eae33ece"
      },
      "outputs": [],
      "source": [
        "modelset_df.info()"
      ]
    },
    {
      "cell_type": "code",
      "execution_count": null,
      "metadata": {
        "id": "LlvTw1BCW09q"
      },
      "outputs": [],
      "source": [
        "# Reset index\n",
        "modelset_df = modelset_df.reset_index(drop=True)\n",
        "\n",
        "# Remove useless features\n",
        "modelset_df = modelset_df.drop(['diagram_ad'], axis=1)\n",
        "modelset_df = modelset_df.drop(['diagram_cd'], axis=1)\n",
        "modelset_df = modelset_df.drop(['diagram_usecase'], axis=1)\n",
        "modelset_df = modelset_df.drop(['diagram_comp'], axis=1)\n",
        "modelset_df = modelset_df.drop(['diagram_interaction'], axis=1)\n",
        "modelset_df = modelset_df.drop(['diagram_sm'], axis=1)\n",
        "modelset_df = modelset_df.drop(['elements'], axis=1)\n",
        "modelset_df = modelset_df.drop(['tags'], axis=1)\n",
        "modelset_df = modelset_df.drop(['language'], axis=1)\n",
        "modelset_df = modelset_df.drop(['id'], axis=1)"
      ]
    },
    {
      "cell_type": "code",
      "execution_count": null,
      "metadata": {
        "colab": {
          "base_uri": "https://localhost:8080/",
          "height": 244
        },
        "id": "EVt0LmmkKnHs",
        "outputId": "7e0e17b7-5e6b-4724-fe44-53531c674c4d"
      },
      "outputs": [],
      "source": [
        "modelset_df.head()"
      ]
    },
    {
      "cell_type": "code",
      "execution_count": null,
      "metadata": {
        "colab": {
          "base_uri": "https://localhost:8080/"
        },
        "id": "g-Q-xahwKnHt",
        "outputId": "34fcb6b5-53c5-4dbd-de22-7cefc5d27d0d"
      },
      "outputs": [],
      "source": [
        "modelset_df['category'].value_counts()"
      ]
    },
    {
      "cell_type": "code",
      "execution_count": null,
      "metadata": {
        "colab": {
          "base_uri": "https://localhost:8080/",
          "height": 320
        },
        "id": "eBbV280Wgd0X",
        "outputId": "2b0d7d9c-38b7-476f-c21f-6030f099f7ae"
      },
      "outputs": [],
      "source": [
        "modelset_df.describe()"
      ]
    },
    {
      "cell_type": "code",
      "execution_count": null,
      "metadata": {
        "colab": {
          "base_uri": "https://localhost:8080/"
        },
        "id": "DbywgH7iREa3",
        "outputId": "f91b554e-20fa-4c3b-9caa-dd426ba7d714"
      },
      "outputs": [],
      "source": [
        "# Remove constant features\n",
        "modelset_df = modelset_df.drop(['type_Interaction'], axis=1)\n",
        "modelset_df = modelset_df.drop(['type_Generalization'], axis=1)\n",
        "modelset_df = modelset_df.drop(['type_Association'], axis=1)\n",
        "\n",
        "col = modelset_df.columns\n",
        "col = col.drop('category')\n",
        "col"
      ]
    },
    {
      "cell_type": "code",
      "execution_count": null,
      "metadata": {
        "colab": {
          "base_uri": "https://localhost:8080/",
          "height": 300
        },
        "id": "5PRIxv6yKnHt",
        "outputId": "a44c45bb-5b3c-4402-d7bb-026e75fe302f"
      },
      "outputs": [],
      "source": [
        "modelset_df.describe()"
      ]
    },
    {
      "cell_type": "code",
      "execution_count": null,
      "metadata": {
        "colab": {
          "base_uri": "https://localhost:8080/",
          "height": 424
        },
        "id": "rp1fFhB9KnHu",
        "outputId": "0757e830-dbd9-44ed-831b-d47b0be31e31"
      },
      "outputs": [],
      "source": [
        "modelset_df_filt = modelset_df.loc[(modelset_df['category'] != 'dummy') & (modelset_df['category'] != 'unknown')] # delete dummy and unknown cases\n",
        "modelset_df_filt"
      ]
    },
    {
      "cell_type": "code",
      "execution_count": null,
      "metadata": {
        "colab": {
          "base_uri": "https://localhost:8080/"
        },
        "id": "Wmhb-ForstAl",
        "outputId": "94ed6b62-3de6-402c-c5a8-fcc26e1ffc62"
      },
      "outputs": [],
      "source": [
        "modelset_df_filt.isnull().any()"
      ]
    },
    {
      "cell_type": "code",
      "execution_count": null,
      "metadata": {
        "colab": {
          "base_uri": "https://localhost:8080/"
        },
        "id": "_gMr7FHCKnHu",
        "outputId": "b3f42cc8-293e-47b4-fc8a-ba4f4b65de02"
      },
      "outputs": [],
      "source": [
        "modelset_df_filt['category'].value_counts()"
      ]
    },
    {
      "cell_type": "code",
      "execution_count": null,
      "metadata": {
        "colab": {
          "base_uri": "https://localhost:8080/",
          "height": 1000
        },
        "id": "80cSFhADKnHu",
        "outputId": "70621ee2-e385-4ccd-e020-372b40080c93"
      },
      "outputs": [],
      "source": [
        "# Class distribution\n",
        "class_counts = modelset_df_filt['category'].value_counts().sort_values(ascending=False).head(30)\n",
        "plt.figure(figsize=(22, 10))\n",
        "sns.countplot(x='category', data=modelset_df_filt, order=class_counts.index, palette='viridis')\n",
        "plt.title('Class Distribution')\n",
        "plt.xticks(rotation=90)\n",
        "plt.show()"
      ]
    },
    {
      "cell_type": "code",
      "execution_count": null,
      "metadata": {
        "colab": {
          "base_uri": "https://localhost:8080/",
          "height": 1000
        },
        "id": "V73_xSFmKnHv",
        "outputId": "447166df-a87d-463d-d854-8612b0f82ed0"
      },
      "outputs": [],
      "source": [
        "fig, axes = plt.subplots(nrows=4, ncols=4, figsize=(16, 10))\n",
        "axes = axes.flatten()\n",
        "for i, feature in enumerate(col):\n",
        "    sns.histplot(modelset_df_filt[feature], kde=True, bins=30, ax=axes[i])\n",
        "    axes[i].set_title(f'Distribution {feature}')\n",
        "plt.tight_layout()\n",
        "plt.show()"
      ]
    },
    {
      "cell_type": "code",
      "execution_count": null,
      "metadata": {
        "colab": {
          "base_uri": "https://localhost:8080/",
          "height": 812
        },
        "id": "S031pivBKnHv",
        "outputId": "cbcf092a-e3c0-40d8-b6bb-b5a95a07aed6"
      },
      "outputs": [],
      "source": [
        "# Correlation\n",
        "correlation_matrix = modelset_df_filt.corr()\n",
        "plt.figure(figsize=(10, 8))\n",
        "sns.heatmap(correlation_matrix, annot=True, cmap='coolwarm', fmt=\".2f\", linewidths=.5)\n",
        "plt.title('Corretation Matrix - Model Classification (UML)')\n",
        "plt.show()"
      ]
    },
    {
      "cell_type": "markdown",
      "metadata": {
        "id": "WvivBtZf99Db"
      },
      "source": [
        "\n",
        "\n",
        "---\n",
        "\n",
        "❗❗ **No features with a correlation value greater than 0.8, so we are going to keep them all.**\n",
        "\n",
        "\n",
        "---\n",
        "\n"
      ]
    },
    {
      "cell_type": "markdown",
      "metadata": {
        "id": "eCcvYc_CKnHv"
      },
      "source": [
        "# Performance No. Class:"
      ]
    },
    {
      "cell_type": "markdown",
      "metadata": {
        "id": "qnzaaOLkFTQH"
      },
      "source": [
        "We search for the best number of classes to consider through a performance evaluation"
      ]
    },
    {
      "cell_type": "code",
      "execution_count": null,
      "metadata": {
        "id": "PJnlJjLhKnHw"
      },
      "outputs": [],
      "source": [
        "modelset_df_label = modelset_df_filt.copy()\n",
        "\n",
        "# transform classes into numbers\n",
        "label_encoder_nclasses = LabelEncoder()\n",
        "modelset_df_label['label'] = label_encoder_nclasses.fit_transform(modelset_df_label['category'])"
      ]
    },
    {
      "cell_type": "code",
      "execution_count": null,
      "metadata": {
        "colab": {
          "base_uri": "https://localhost:8080/"
        },
        "id": "0bc17-ITKnHw",
        "outputId": "6e299405-349d-4772-b6f5-dc7c2dfe40db"
      },
      "outputs": [],
      "source": [
        "modelset_df_label.info()"
      ]
    },
    {
      "cell_type": "code",
      "execution_count": null,
      "metadata": {
        "colab": {
          "base_uri": "https://localhost:8080/",
          "height": 206
        },
        "id": "kTPE89v4KnHw",
        "outputId": "e6a3f771-a22e-41b1-81bb-743c7bc56a6d"
      },
      "outputs": [],
      "source": [
        "modelset_df_label.head()"
      ]
    },
    {
      "cell_type": "code",
      "execution_count": null,
      "metadata": {
        "id": "ZhrJPl-CKnHw"
      },
      "outputs": [],
      "source": [
        "modelset_df_label = modelset_df_label.drop(['category'], axis=1)"
      ]
    },
    {
      "cell_type": "code",
      "execution_count": null,
      "metadata": {
        "id": "52vGZC6TDM3Y"
      },
      "outputs": [],
      "source": [
        "X_label = modelset_df_label[col]\n",
        "y_label = modelset_df_label['label']"
      ]
    },
    {
      "cell_type": "code",
      "execution_count": null,
      "metadata": {
        "id": "UDnbRtFJKnHx"
      },
      "outputs": [],
      "source": [
        "nclasses = [10, 20, 30, 40, 50, 60, 70, 80]\n",
        "results_df = pd.DataFrame(columns=['No. Classes', 'Acc (SVC)', 'Prec (SVC)', 'Rec (SVC)', 'F1 (SVC)',\n",
        "                                      'Acc (RF)', 'Prec (RF)', 'Rec (RF)', 'F1 (RF)',\n",
        "                                      'Acc (KNN)', 'Prec (KNN)', 'Rec (KNN)', 'F1 (KNN)'])\n",
        "\n",
        "for num_classes in nclasses:\n",
        "    classes_frec_label = y_label.value_counts().nlargest(num_classes).index\n",
        "    datos_filt = modelset_df_label[modelset_df_label['label'].isin(classes_frec_label)]\n",
        "\n",
        "    X_filt = datos_filt[col]\n",
        "    y_filt = datos_filt['label']\n",
        "    X_train_filt, X_test_filt, y_train_filt, y_test_filt = train_test_split(X_filt, y_filt, test_size=0.3, random_state=42, stratify=y_filt)\n",
        "\n",
        "    svc_model = SVC(random_state=42)\n",
        "    rf_model = RandomForestClassifier(random_state=42)\n",
        "    knn_model = KNeighborsClassifier()\n",
        "\n",
        "    svc_model.fit(X_train_filt, y_train_filt)\n",
        "    rf_model.fit(X_train_filt, y_train_filt)\n",
        "    knn_model.fit(X_train_filt, y_train_filt)\n",
        "\n",
        "    y_pred_svc = svc_model.predict(X_test_filt)\n",
        "    y_pred_rf = rf_model.predict(X_test_filt)\n",
        "    y_pred_knn = knn_model.predict(X_test_filt)\n",
        "\n",
        "    acc_svc = balanced_accuracy_score(y_test_filt, y_pred_svc)\n",
        "    precision_svc = precision_score(y_test_filt, y_pred_svc, average='macro')\n",
        "    recall_svc = recall_score(y_test_filt, y_pred_svc, average='macro')\n",
        "    f1_svc = f1_score(y_test_filt, y_pred_svc, average='macro')\n",
        "\n",
        "    acc_rf = balanced_accuracy_score(y_test_filt, y_pred_rf)\n",
        "    precision_rf = precision_score(y_test_filt, y_pred_rf, average='macro')\n",
        "    recall_rf = recall_score(y_test_filt, y_pred_rf, average='macro')\n",
        "    f1_rf = f1_score(y_test_filt, y_pred_rf, average='macro')\n",
        "\n",
        "    acc_knn = balanced_accuracy_score(y_test_filt, y_pred_knn)\n",
        "    precision_knn = precision_score(y_test_filt, y_pred_knn, average='macro')\n",
        "    recall_knn = recall_score(y_test_filt, y_pred_knn, average='macro')\n",
        "    f1_knn = f1_score(y_test_filt, y_pred_knn, average='macro')\n",
        "\n",
        "    results_df = results_df.append({\n",
        "        'No. Classes': num_classes,\n",
        "        'Acc (SVC)': acc_svc, 'Prec (SVC)': precision_svc, 'Rec (SVC)': recall_svc, 'F1 (SVC)': f1_svc,\n",
        "        'Acc (RF)': acc_rf, 'Prec (RF)': precision_rf, 'Rec (RF)': recall_rf, 'F1 (RF)': f1_rf,\n",
        "        'Acc (KNN)': acc_knn, 'Prec (KNN)': precision_knn, 'Rec (KNN)': recall_knn, 'F1 (KNN)': f1_knn}, ignore_index=True)"
      ]
    },
    {
      "cell_type": "code",
      "execution_count": null,
      "metadata": {
        "colab": {
          "base_uri": "https://localhost:8080/",
          "height": 300
        },
        "id": "SnqXw7hKKnHx",
        "outputId": "55636551-73a3-4965-8ccb-a4e9cb5ec439"
      },
      "outputs": [],
      "source": [
        "results_df"
      ]
    },
    {
      "cell_type": "markdown",
      "metadata": {
        "id": "m_ptNwTKKnHy"
      },
      "source": [
        "\n",
        "---\n",
        "\n",
        "❗❗ **We verify that the greatest difference in performance occurs between the cases with 10 and 20 most frequent classes. Therefore, we are going to consider that the best choice is 10 classes.**\n",
        "\n",
        "---\n",
        "\n"
      ]
    },
    {
      "cell_type": "markdown",
      "metadata": {
        "id": "mYsvgBWcKnHy"
      },
      "source": [
        "# Performance Deleting VS Grouping:\n"
      ]
    },
    {
      "cell_type": "markdown",
      "metadata": {
        "id": "d2YVNTOzFfPv"
      },
      "source": [
        "Once we have determined the optimal number of classes to consider, we will explore which approach is better for handling the remaining classes: eliminating or grouping."
      ]
    },
    {
      "cell_type": "code",
      "execution_count": null,
      "metadata": {
        "id": "5_vO3SkjDXwy"
      },
      "outputs": [],
      "source": [
        "num_classes = 10 # optimal number"
      ]
    },
    {
      "cell_type": "code",
      "execution_count": null,
      "metadata": {
        "id": "00rWTruxKnHz"
      },
      "outputs": [],
      "source": [
        "modelset_df_group = modelset_df_filt.copy()\n",
        "X_group = modelset_df_group[col]\n",
        "y_group = modelset_df_group['category']\n",
        "classes_frec_group = y_group.value_counts().nlargest(num_classes).index\n",
        "\n",
        "label_encoder_group = LabelEncoder()\n",
        "modelset_df_group['category_group'] = modelset_df_group['category'].apply(lambda x: x if x in classes_frec_group else 'Others')\n",
        "modelset_df_group['label'] = label_encoder_group.fit_transform(modelset_df_group['category_group'])"
      ]
    },
    {
      "cell_type": "code",
      "execution_count": null,
      "metadata": {
        "colab": {
          "base_uri": "https://localhost:8080/"
        },
        "id": "rh35LFG2KnHz",
        "outputId": "bbb9c8aa-e8aa-4862-ccdf-30dbdf56ad03"
      },
      "outputs": [],
      "source": [
        "classes_frec_group"
      ]
    },
    {
      "cell_type": "code",
      "execution_count": null,
      "metadata": {
        "colab": {
          "base_uri": "https://localhost:8080/"
        },
        "id": "i0Iiy4_mKnH0",
        "outputId": "6f1fd173-487b-4e0e-d0a5-f1c03353c1bd"
      },
      "outputs": [],
      "source": [
        "modelset_df_group['category_group'].value_counts()"
      ]
    },
    {
      "cell_type": "code",
      "execution_count": null,
      "metadata": {
        "colab": {
          "base_uri": "https://localhost:8080/",
          "height": 496
        },
        "id": "FRoWTfkvKnH0",
        "outputId": "f307de3f-a2d5-403f-848d-a23b01a0723e"
      },
      "outputs": [],
      "source": [
        "modelset_df_group"
      ]
    },
    {
      "cell_type": "code",
      "execution_count": null,
      "metadata": {
        "id": "N3dCENUSjX3G"
      },
      "outputs": [],
      "source": [
        "modelset_df_group = modelset_df_group.drop(['category'], axis=1)\n",
        "modelset_df_group = modelset_df_group.drop(['category_group'], axis=1)"
      ]
    },
    {
      "cell_type": "code",
      "execution_count": null,
      "metadata": {
        "id": "OH8vt5n7KnH0"
      },
      "outputs": [],
      "source": [
        "classes_frec_label = y_label.value_counts().nlargest(num_classes).index\n",
        "datos_filt_del = modelset_df_label[modelset_df_label['label'].isin(classes_frec_label)]"
      ]
    },
    {
      "cell_type": "code",
      "execution_count": null,
      "metadata": {
        "id": "yIM4mqy_svrW"
      },
      "outputs": [],
      "source": [
        "results_df_10 = pd.DataFrame(columns=['Approach', 'Acc (SVC)', 'Prec (SVC)', 'Rec (SVC)', 'F1 (SVC)',\n",
        "                                      'Acc (RF)', 'Prec (RF)', 'Rec (RF)', 'F1 (RF)',\n",
        "                                      'Acc (KNN)', 'Prec (KNN)', 'Rec (KNN)', 'F1 (KNN)'])"
      ]
    },
    {
      "cell_type": "code",
      "execution_count": null,
      "metadata": {
        "id": "WC1DsUiuKnH1"
      },
      "outputs": [],
      "source": [
        "X_filt = datos_filt_del[col]\n",
        "y_filt = datos_filt_del['label']\n",
        "X_train_filt, X_test_filt, y_train_filt, y_test_filt = train_test_split(X_filt, y_filt, test_size=0.3, random_state=42, stratify=y_filt)\n",
        "\n",
        "svc_model = SVC(random_state=42)\n",
        "rf_model = RandomForestClassifier(random_state=42)\n",
        "knn_model = KNeighborsClassifier()\n",
        "\n",
        "svc_model.fit(X_train_filt, y_train_filt)\n",
        "rf_model.fit(X_train_filt, y_train_filt)\n",
        "knn_model.fit(X_train_filt, y_train_filt)\n",
        "\n",
        "y_pred_svc_filt = svc_model.predict(X_test_filt)\n",
        "y_pred_rf_filt = rf_model.predict(X_test_filt)\n",
        "y_pred_knn_filt = knn_model.predict(X_test_filt)\n",
        "\n",
        "acc_svc_del = balanced_accuracy_score(y_test_filt, y_pred_svc_filt)\n",
        "precision_svc_del = precision_score(y_test_filt, y_pred_svc_filt, average='macro')\n",
        "recall_svc_del = recall_score(y_test_filt, y_pred_svc_filt, average='macro')\n",
        "f1_svc_del = f1_score(y_test_filt, y_pred_svc_filt, average='macro')\n",
        "\n",
        "acc_rf_del = balanced_accuracy_score(y_test_filt, y_pred_rf_filt)\n",
        "precision_rf_del = precision_score(y_test_filt, y_pred_rf_filt, average='macro')\n",
        "recall_rf_del = recall_score(y_test_filt, y_pred_rf_filt, average='macro')\n",
        "f1_rf_del = f1_score(y_test_filt, y_pred_rf_filt, average='macro')\n",
        "\n",
        "acc_knn_del = balanced_accuracy_score(y_test_filt, y_pred_knn_filt)\n",
        "precision_knn_del = precision_score(y_test_filt, y_pred_knn_filt, average='macro')\n",
        "recall_knn_del = recall_score(y_test_filt, y_pred_knn_filt, average='macro')\n",
        "f1_knn_del = f1_score(y_test_filt, y_pred_knn_filt, average='macro')\n",
        "\n",
        "results_df_10 = results_df_10.append({\n",
        "    'Approach': 'Deleting',\n",
        "    'Acc (SVC)': acc_svc_del, 'Prec (SVC)': precision_svc_del, 'Rec (SVC)': recall_svc_del, 'F1 (SVC)': f1_svc_del,\n",
        "    'Acc (RF)': acc_rf_del, 'Prec (RF)': precision_rf_del, 'Rec (RF)': recall_rf_del, 'F1 (RF)': f1_rf_del,\n",
        "    'Acc (KNN)': acc_knn_del, 'Prec (KNN)': precision_knn_del, 'Rec (KNN)': recall_knn_del, 'F1 (KNN)': f1_knn_del}, ignore_index=True)"
      ]
    },
    {
      "cell_type": "code",
      "execution_count": null,
      "metadata": {
        "id": "1hC54zEnsrq5"
      },
      "outputs": [],
      "source": [
        "X_group = modelset_df_group[col]\n",
        "y_group = modelset_df_group['label']\n",
        "X_train_group, X_test_group, y_train_group, y_test_group = train_test_split(X_group, y_group, test_size=0.3, random_state=42, stratify=y_group)\n",
        "\n",
        "svc_model_group = SVC(random_state=42)\n",
        "rf_model_group = RandomForestClassifier(random_state=42)\n",
        "knn_model_group = KNeighborsClassifier()\n",
        "\n",
        "svc_model_group.fit(X_train_group, y_train_group)\n",
        "rf_model_group.fit(X_train_group, y_train_group)\n",
        "knn_model_group.fit(X_train_group, y_train_group)\n",
        "\n",
        "y_pred_svc_group = svc_model_group.predict(X_test_group)\n",
        "y_pred_rf_group = rf_model_group.predict(X_test_group)\n",
        "y_pred_knn_group = knn_model_group.predict(X_test_group)\n",
        "\n",
        "acc_svc_group = balanced_accuracy_score(y_test_group, y_pred_svc_group)\n",
        "precision_svc_group = precision_score(y_test_group, y_pred_svc_group, average='macro')\n",
        "recall_svc_group = recall_score(y_test_group, y_pred_svc_group, average='macro')\n",
        "f1_svc_group = f1_score(y_test_group, y_pred_svc_group, average='macro')\n",
        "\n",
        "acc_rf_group = balanced_accuracy_score(y_test_group, y_pred_rf_group)\n",
        "precision_rf_group = precision_score(y_test_group, y_pred_rf_group, average='macro')\n",
        "recall_rf_group = recall_score(y_test_group, y_pred_rf_group, average='macro')\n",
        "f1_rf_group = f1_score(y_test_group, y_pred_rf_group, average='macro')\n",
        "\n",
        "acc_knn_group = balanced_accuracy_score(y_test_group, y_pred_knn_group)\n",
        "precision_knn_group = precision_score(y_test_group, y_pred_knn_group, average='macro')\n",
        "recall_knn_group = recall_score(y_test_group, y_pred_knn_group, average='macro')\n",
        "f1_knn_group = f1_score(y_test_group, y_pred_knn_group, average='macro')\n",
        "\n",
        "results_df_10 = results_df_10.append({\n",
        "    'Approach': 'Grouping',\n",
        "    'Acc (SVC)': acc_svc_group, 'Prec (SVC)': precision_svc_group, 'Rec (SVC)': recall_svc_group, 'F1 (SVC)': f1_svc_group,\n",
        "    'Acc (RF)': acc_rf_group, 'Prec (RF)': precision_rf_group, 'Rec (RF)': recall_rf_group, 'F1 (RF)': f1_rf_group,\n",
        "    'Acc (KNN)': acc_knn_group, 'Prec (KNN)': precision_knn_group, 'Rec (KNN)': recall_knn_group, 'F1 (KNN)': f1_knn_group}, ignore_index=True)"
      ]
    },
    {
      "cell_type": "code",
      "execution_count": null,
      "metadata": {
        "colab": {
          "base_uri": "https://localhost:8080/",
          "height": 112
        },
        "id": "TNI0pMjsBVVW",
        "outputId": "406d4c0c-4e23-4617-b97f-2caf6d179c34"
      },
      "outputs": [],
      "source": [
        "results_df_10"
      ]
    },
    {
      "cell_type": "markdown",
      "metadata": {
        "id": "0B7MUo1nKnH2"
      },
      "source": [
        "\n",
        "\n",
        "---\n",
        "\n",
        "❗❗ **Performance is greater by eliminating the rest of the classes than by grouping them into a single class**\n",
        "\n",
        "---"
      ]
    },
    {
      "cell_type": "markdown",
      "metadata": {
        "id": "fpt8LoAOZyEA"
      },
      "source": [
        "# Models:"
      ]
    },
    {
      "cell_type": "markdown",
      "metadata": {
        "id": "T9hH0u_L3Idg"
      },
      "source": [
        "In this section, we perform the dataset splitting and data scaling. Afterward, we conduct a search for the best hyperparameters for our algorithms and define them with the best configuration found. Finally, we evaluate the performance."
      ]
    },
    {
      "cell_type": "code",
      "execution_count": null,
      "metadata": {
        "id": "ypVUBs3gKnH2"
      },
      "outputs": [],
      "source": [
        "X = datos_filt_del[col]\n",
        "Y = datos_filt_del['label']\n",
        "\n",
        "X_train_split, X_test_split, y_train, y_test = train_test_split(X, Y, test_size=0.3, random_state=42, stratify=Y)"
      ]
    },
    {
      "cell_type": "code",
      "execution_count": null,
      "metadata": {
        "colab": {
          "base_uri": "https://localhost:8080/",
          "height": 424
        },
        "id": "WPGRzp8WtLMe",
        "outputId": "eca171ab-3cea-44f1-d096-edcc8d6a7548"
      },
      "outputs": [],
      "source": [
        "X_train_split"
      ]
    },
    {
      "cell_type": "code",
      "execution_count": null,
      "metadata": {
        "colab": {
          "base_uri": "https://localhost:8080/",
          "height": 424
        },
        "id": "lIdXV_9rtNxN",
        "outputId": "b1d5d448-7f15-4f8b-f115-fce6643da2f3"
      },
      "outputs": [],
      "source": [
        "X_test_split"
      ]
    },
    {
      "cell_type": "code",
      "execution_count": null,
      "metadata": {
        "id": "ZO8XtdRy4yQg"
      },
      "outputs": [],
      "source": [
        "X_train_index = X_train_split.index\n",
        "X_test_index = X_test_split.index\n",
        "\n",
        "scaler = StandardScaler()\n",
        "\n",
        "X_train_scal = scaler.fit_transform(X_train_split)\n",
        "X_train = pd.DataFrame(X_train_scal, columns=X_train_split.columns, index=X_train_index)\n",
        "\n",
        "X_test_scal = scaler.transform(X_test_split)\n",
        "X_test = pd.DataFrame(X_test_scal, columns=X_test_split.columns, index=X_test_index)"
      ]
    },
    {
      "cell_type": "code",
      "execution_count": null,
      "metadata": {
        "colab": {
          "base_uri": "https://localhost:8080/",
          "height": 424
        },
        "id": "z5f2-GV--I_o",
        "outputId": "c7c794c6-aa86-441c-d86a-2fe3b056dda1"
      },
      "outputs": [],
      "source": [
        "X_train"
      ]
    },
    {
      "cell_type": "code",
      "execution_count": null,
      "metadata": {
        "colab": {
          "base_uri": "https://localhost:8080/",
          "height": 424
        },
        "id": "o-j5SdNm-P4k",
        "outputId": "ab43ea23-56a9-42c5-9998-cbd56963179e"
      },
      "outputs": [],
      "source": [
        "X_test"
      ]
    },
    {
      "cell_type": "code",
      "execution_count": null,
      "metadata": {
        "id": "ahB3mEYExi0h"
      },
      "outputs": [],
      "source": [
        "#X_train.to_csv('uml_multiclass_x_train.csv')\n",
        "#X_test.to_csv('uml_multiclass_x_test.csv')\n",
        "#y_train.to_csv('uml_multiclass_y_train.csv')\n",
        "#y_test.to_csv('uml_multiclass_y_test.csv')"
      ]
    },
    {
      "cell_type": "code",
      "execution_count": null,
      "metadata": {
        "id": "4u7e5fs3jzgj"
      },
      "outputs": [],
      "source": [
        "score_result = pd.DataFrame(columns=['Model', 'Balanced Accuracy', 'Precision', 'Recall', 'F1-score'])"
      ]
    },
    {
      "cell_type": "code",
      "execution_count": null,
      "metadata": {
        "colab": {
          "base_uri": "https://localhost:8080/"
        },
        "id": "2UWt5GuRYJQt",
        "outputId": "79061c05-3107-47fc-b3af-63ddf0399553"
      },
      "outputs": [],
      "source": [
        "classes_frec_label # most frequent Classes"
      ]
    },
    {
      "cell_type": "code",
      "execution_count": null,
      "metadata": {
        "colab": {
          "base_uri": "https://localhost:8080/"
        },
        "id": "1t6riMH4WtfV",
        "outputId": "3bcb551a-d987-4cf4-d23a-3b5191b960b9"
      },
      "outputs": [],
      "source": [
        "class_labels = [4, 35, 37, 42, 49, 58, 61, 83, 91, 98]\n",
        "classes_interes_transf = label_encoder_nclasses.inverse_transform(class_labels)\n",
        "mapeo_classes_interes = {class_label: number for class_label, number in zip(classes_interes_transf, class_labels)}\n",
        "print(\"Mapping classes to numbers:\")\n",
        "for class_label, number in mapeo_classes_interes.items():\n",
        "    print(f\"{class_label}: {number}\")"
      ]
    },
    {
      "cell_type": "markdown",
      "metadata": {
        "id": "-S-mIgpSKnH3"
      },
      "source": [
        "## **SVC**:"
      ]
    },
    {
      "cell_type": "code",
      "execution_count": null,
      "metadata": {
        "id": "cWAOVXODy4TR"
      },
      "outputs": [],
      "source": [
        "model = SVC(random_state=42, probability=True)\n",
        "params={'C':[0.1, 1.0, 10.0, 100.0, 300.0, 500.0, 1000.0],'kernel':['linear','rbf','sigmoid'],'gamma':['scale','auto', 0.1, 1.0, 10.0, 100.0, 300.0, 500.0, 1000.0], 'class_weight':[None, 'balanced']}\n",
        "grid = GridSearchCV(model, params, cv=5, scoring='f1_macro', verbose=1)\n",
        "grid.fit(X_train,y_train)"
      ]
    },
    {
      "cell_type": "code",
      "execution_count": null,
      "metadata": {
        "id": "QlreSoEzy5yt"
      },
      "outputs": [],
      "source": [
        "print(grid.best_params_)\n",
        "print(grid.best_estimator_)\n",
        "print(grid.best_score_)"
      ]
    },
    {
      "cell_type": "code",
      "execution_count": null,
      "metadata": {
        "id": "KGviEwcaKnH3"
      },
      "outputs": [],
      "source": [
        "svc = SVC(C=500.0, gamma=0.1, probability=True, random_state=42)"
      ]
    },
    {
      "cell_type": "code",
      "execution_count": null,
      "metadata": {
        "id": "QAQAReL-KnH3"
      },
      "outputs": [],
      "source": [
        "model_svc = svc.fit(X_train, y_train)"
      ]
    },
    {
      "cell_type": "code",
      "execution_count": null,
      "metadata": {
        "id": "tD0lYVDbKnH3"
      },
      "outputs": [],
      "source": [
        "y_pred_svc = model_svc.predict(X_test)"
      ]
    },
    {
      "cell_type": "markdown",
      "metadata": {
        "id": "8ctFYY5HKnH4"
      },
      "source": [
        "**MODEL EVALUATION:**"
      ]
    },
    {
      "cell_type": "code",
      "execution_count": null,
      "metadata": {
        "colab": {
          "base_uri": "https://localhost:8080/"
        },
        "id": "0ArIqzZqKnH4",
        "outputId": "92970502-85d9-4d1f-eb3c-10079499f6f5"
      },
      "outputs": [],
      "source": [
        "df_pred = pd.DataFrame({'Actual': y_test.squeeze(), 'Predicted': y_pred_svc.squeeze()})\n",
        "print(df_pred)"
      ]
    },
    {
      "cell_type": "code",
      "execution_count": null,
      "metadata": {
        "colab": {
          "base_uri": "https://localhost:8080/",
          "height": 661
        },
        "id": "yjBmwJ79TsHQ",
        "outputId": "7dce8a05-73fb-454f-c1a4-468085091efc"
      },
      "outputs": [],
      "source": [
        "cm_svc = confusion_matrix(y_test, y_pred_svc)\n",
        "cm_display_svc = ConfusionMatrixDisplay(confusion_matrix=cm_svc, display_labels=class_labels)\n",
        "fig, ax = plt.subplots(figsize=(8, 8))\n",
        "cm_display_svc.plot(cmap='viridis', values_format='d', ax=ax)\n",
        "plt.show()"
      ]
    },
    {
      "cell_type": "code",
      "execution_count": null,
      "metadata": {
        "colab": {
          "base_uri": "https://localhost:8080/"
        },
        "id": "8fOWlnIIKnH4",
        "outputId": "e5dd6bea-e0bd-404b-a65c-8d1fb5649e15"
      },
      "outputs": [],
      "source": [
        "\n",
        "accuracy = balanced_accuracy_score(y_test, y_pred_svc)\n",
        "recall = recall_score(y_test, y_pred_svc, average='macro')\n",
        "precision = precision_score(y_test, y_pred_svc, average = 'macro')\n",
        "f1 = f1_score(y_test, y_pred_svc, average = 'macro')\n",
        "print(\"Accuracy:\", accuracy)\n",
        "print(\"Recall:\", recall)\n",
        "print(\"Precision:\", precision)\n",
        "print(\"F1-score:\", f1)"
      ]
    },
    {
      "cell_type": "code",
      "execution_count": null,
      "metadata": {
        "colab": {
          "base_uri": "https://localhost:8080/"
        },
        "id": "eekcF8RHKnH5",
        "outputId": "7f7f7739-245a-4038-9a02-a45089cfbe82"
      },
      "outputs": [],
      "source": [
        "print(\"Accuracy test: \", model_svc.score(X_test, y_test))\n",
        "print(\"Accuracy train: \", model_svc.score(X_train, y_train))"
      ]
    },
    {
      "cell_type": "markdown",
      "metadata": {
        "id": "7q49yKktKnH5"
      },
      "source": [
        "**CROSS VALIDATION**"
      ]
    },
    {
      "cell_type": "code",
      "execution_count": null,
      "metadata": {
        "id": "blC9CdsMKnH5"
      },
      "outputs": [],
      "source": [
        "cv_results = cross_validate(svc, X_test, y_test, cv=5, scoring=('balanced_accuracy','precision_macro', 'recall_macro','f1_macro'))"
      ]
    },
    {
      "cell_type": "code",
      "execution_count": null,
      "metadata": {
        "colab": {
          "base_uri": "https://localhost:8080/"
        },
        "id": "6gcqzBXaKnH6",
        "outputId": "127dfcab-58ba-412c-b991-8aacdd7b833c"
      },
      "outputs": [],
      "source": [
        "sorted(cv_results.keys())"
      ]
    },
    {
      "cell_type": "code",
      "execution_count": null,
      "metadata": {
        "colab": {
          "base_uri": "https://localhost:8080/"
        },
        "id": "z9W8_O9IoG6F",
        "outputId": "a85126b3-9191-497a-b682-6843b9d04f00"
      },
      "outputs": [],
      "source": [
        "print(\"Accuracy:\\n\", cv_results['test_balanced_accuracy'], \"\\n Mean: \", np.mean(cv_results['test_balanced_accuracy']))\n",
        "print(\"Precision:\\n\" , cv_results['test_precision_macro'], \"\\n Mean: \", np.mean(cv_results['test_precision_macro']))\n",
        "print(\"Recall:\\n\", cv_results['test_recall_macro'], \"\\n Mean: \", np.mean(cv_results['test_recall_macro']))\n",
        "print(\"F1-score:\\n\", cv_results['test_f1_macro'], \"\\n Mean: \", np.mean(cv_results['test_f1_macro']))"
      ]
    },
    {
      "cell_type": "code",
      "execution_count": null,
      "metadata": {
        "id": "znrh7ODNKnH6"
      },
      "outputs": [],
      "source": [
        "score_result= score_result.append({\"Model\":\"SVC\",\"Balanced Accuracy\":np.mean(cv_results['test_balanced_accuracy']), \"Precision\":np.mean(cv_results['test_precision_macro']), \"Recall\":np.mean(cv_results['test_recall_macro']), \"F1-score\":np.mean(cv_results['test_f1_macro'])}, ignore_index=True)"
      ]
    },
    {
      "cell_type": "markdown",
      "metadata": {
        "id": "NY4SN2PtKnH7"
      },
      "source": [
        "## **RandomForest:**"
      ]
    },
    {
      "cell_type": "code",
      "execution_count": null,
      "metadata": {
        "colab": {
          "base_uri": "https://localhost:8080/",
          "height": 135
        },
        "id": "RYSKrPqbKnH7",
        "outputId": "2be4638f-3947-4e4e-e6a4-8998bc06acd8"
      },
      "outputs": [],
      "source": [
        "model = RandomForestClassifier(random_state=42)\n",
        "params = {'n_estimators':[50,100,200,300,500],'min_samples_split':[2,3,5,10],'min_samples_leaf':[1,3,5,10],'max_depth':[1,3,5,10,None], 'class_weight':['balanced', None]}\n",
        "grid = GridSearchCV(model, params, cv=5, scoring='f1_macro', verbose=1)\n",
        "grid.fit(X_train, y_train)"
      ]
    },
    {
      "cell_type": "code",
      "execution_count": null,
      "metadata": {
        "colab": {
          "base_uri": "https://localhost:8080/"
        },
        "id": "SU0oaBU18Nmi",
        "outputId": "447b3dda-00aa-4de9-cc73-d0560ee89a11"
      },
      "outputs": [],
      "source": [
        "print(grid.best_params_)\n",
        "print(grid.best_estimator_)\n",
        "print(grid.best_score_)"
      ]
    },
    {
      "cell_type": "code",
      "execution_count": null,
      "metadata": {
        "id": "EfYagpAxKnH8"
      },
      "outputs": [],
      "source": [
        "rf = RandomForestClassifier(n_estimators=200, random_state=42)"
      ]
    },
    {
      "cell_type": "code",
      "execution_count": null,
      "metadata": {
        "id": "ptAPsaKKKnH8"
      },
      "outputs": [],
      "source": [
        "model_rf = rf.fit(X_train,y_train)"
      ]
    },
    {
      "cell_type": "code",
      "execution_count": null,
      "metadata": {
        "id": "ah3NTwtuKnH8"
      },
      "outputs": [],
      "source": [
        "y_pred_rf = model_rf.predict(X_test)"
      ]
    },
    {
      "cell_type": "markdown",
      "metadata": {
        "id": "ngqZPgIsKnH9"
      },
      "source": [
        "**MODEL EVALUATION:**"
      ]
    },
    {
      "cell_type": "code",
      "execution_count": null,
      "metadata": {
        "colab": {
          "base_uri": "https://localhost:8080/"
        },
        "id": "_K8efUZfKnH9",
        "outputId": "2c76723a-d8c5-4d76-c84e-93237b217c80"
      },
      "outputs": [],
      "source": [
        "df_pred = pd.DataFrame({'Actual': y_test.squeeze(), 'Predicted': y_pred_rf.squeeze()})\n",
        "print(df_pred)"
      ]
    },
    {
      "cell_type": "code",
      "execution_count": null,
      "metadata": {
        "colab": {
          "base_uri": "https://localhost:8080/",
          "height": 661
        },
        "id": "Psf48uULVOnf",
        "outputId": "4a037c57-a487-4fc9-f7f4-e77708519d9a"
      },
      "outputs": [],
      "source": [
        "cm_rf = confusion_matrix(y_test, y_pred_rf)\n",
        "cm_display_rf = ConfusionMatrixDisplay(confusion_matrix=cm_rf, display_labels=class_labels)\n",
        "fig, ax = plt.subplots(figsize=(8, 8))\n",
        "cm_display_rf.plot(cmap='viridis', values_format='d', ax=ax)\n",
        "plt.show()"
      ]
    },
    {
      "cell_type": "code",
      "execution_count": null,
      "metadata": {
        "colab": {
          "base_uri": "https://localhost:8080/"
        },
        "id": "iaagzb1UVdJZ",
        "outputId": "75fda715-f6c1-4dab-be9e-d70142c3e8ca"
      },
      "outputs": [],
      "source": [
        "accuracy = balanced_accuracy_score(y_test, y_pred_rf)\n",
        "recall = recall_score(y_test, y_pred_rf, average='macro')\n",
        "precision = precision_score(y_test, y_pred_rf, average='macro')\n",
        "f1 = f1_score(y_test, y_pred_rf, average='macro')\n",
        "print(\"Accuracy:\", accuracy)\n",
        "print(\"Recall:\", recall)\n",
        "print(\"Precision:\", precision)\n",
        "print(\"F1-score:\", f1)"
      ]
    },
    {
      "cell_type": "code",
      "execution_count": null,
      "metadata": {
        "colab": {
          "base_uri": "https://localhost:8080/"
        },
        "id": "UwYYoYBlKnIB",
        "outputId": "d933dc23-f4dd-4bb5-b148-b14a6bcad34e"
      },
      "outputs": [],
      "source": [
        "print(\"Accuracy test: \", model_rf.score(X_test, y_test))\n",
        "print(\"Accuracy train: \", model_rf.score(X_train, y_train))"
      ]
    },
    {
      "cell_type": "markdown",
      "metadata": {
        "id": "Ungg53eaKnIB"
      },
      "source": [
        "**CROSS VALIDATION**"
      ]
    },
    {
      "cell_type": "code",
      "execution_count": null,
      "metadata": {
        "id": "N-vDOvmRKnIC"
      },
      "outputs": [],
      "source": [
        "cv_results = cross_validate(rf, X_test, y_test, cv=5, scoring=('balanced_accuracy','precision_macro', 'recall_macro','f1_macro'))"
      ]
    },
    {
      "cell_type": "code",
      "execution_count": null,
      "metadata": {
        "colab": {
          "base_uri": "https://localhost:8080/"
        },
        "id": "vENqNa0JKnIC",
        "outputId": "2fa29428-8f08-4ec8-fd54-aedde7a45a3c"
      },
      "outputs": [],
      "source": [
        "sorted(cv_results.keys())"
      ]
    },
    {
      "cell_type": "code",
      "execution_count": null,
      "metadata": {
        "colab": {
          "base_uri": "https://localhost:8080/"
        },
        "id": "tpGC2Bs8KnIC",
        "outputId": "64ea8a3e-b6cb-4f5a-909f-bda0e9d65968"
      },
      "outputs": [],
      "source": [
        "print(\"Accuracy:\\n\", cv_results['test_balanced_accuracy'], \"\\n Mean: \", np.mean(cv_results['test_balanced_accuracy']))\n",
        "print(\"Precision:\\n\" , cv_results['test_precision_macro'], \"\\n Mean: \", np.mean(cv_results['test_precision_macro']))\n",
        "print(\"Recall:\\n\", cv_results['test_recall_macro'], \"\\n Mean: \", np.mean(cv_results['test_recall_macro']))\n",
        "print(\"F1-score:\\n\", cv_results['test_f1_macro'], \"\\n Mean: \", np.mean(cv_results['test_f1_macro']))"
      ]
    },
    {
      "cell_type": "code",
      "execution_count": null,
      "metadata": {
        "id": "Hkt7D7btkrEU"
      },
      "outputs": [],
      "source": [
        "score_result= score_result.append({\"Model\":\"RF\",\"Balanced Accuracy\":np.mean(cv_results['test_balanced_accuracy']), \"Precision\":np.mean(cv_results['test_precision_macro']), \"Recall\":np.mean(cv_results['test_recall_macro']), \"F1-score\":np.mean(cv_results['test_f1_macro'])}, ignore_index=True)"
      ]
    },
    {
      "cell_type": "markdown",
      "metadata": {
        "id": "72pGAtBJKnID"
      },
      "source": [
        "## **KNN:**"
      ]
    },
    {
      "cell_type": "code",
      "execution_count": null,
      "metadata": {
        "colab": {
          "base_uri": "https://localhost:8080/",
          "height": 135
        },
        "id": "sDo_iodHKnID",
        "outputId": "40fbc103-d933-4e96-b63e-960993333289"
      },
      "outputs": [],
      "source": [
        "model = KNeighborsClassifier()\n",
        "params = {'n_neighbors':[2,3,4,5,7,10,20],'weights':['uniform','distance'],'leaf_size':[5,10,30,50,100],'p':[1,2,3]}\n",
        "grid = GridSearchCV(model, params, cv=5, scoring='f1_macro', verbose=1)\n",
        "grid.fit(X_train, y_train)"
      ]
    },
    {
      "cell_type": "code",
      "execution_count": null,
      "metadata": {
        "colab": {
          "base_uri": "https://localhost:8080/"
        },
        "id": "FdHEjnjl2zV9",
        "outputId": "f8985516-90c8-496c-bf08-a9e6484e0070"
      },
      "outputs": [],
      "source": [
        "print(grid.best_params_)\n",
        "print(grid.best_estimator_)\n",
        "print(grid.best_score_)"
      ]
    },
    {
      "cell_type": "code",
      "execution_count": null,
      "metadata": {
        "id": "Wz6wERoLKnID"
      },
      "outputs": [],
      "source": [
        "knn = KNeighborsClassifier(leaf_size=50, n_neighbors=3, p=1, weights='distance')"
      ]
    },
    {
      "cell_type": "code",
      "execution_count": null,
      "metadata": {
        "id": "rZ_eyL9DKnIE"
      },
      "outputs": [],
      "source": [
        "model_knn = knn.fit(X_train,y_train)"
      ]
    },
    {
      "cell_type": "code",
      "execution_count": null,
      "metadata": {
        "id": "9KUvqH-sKnIE"
      },
      "outputs": [],
      "source": [
        "y_pred_knn = model_knn.predict(X_test)"
      ]
    },
    {
      "cell_type": "markdown",
      "metadata": {
        "id": "TqrWBO3gKnIJ"
      },
      "source": [
        "**MODEL EVALUATION:**"
      ]
    },
    {
      "cell_type": "code",
      "execution_count": null,
      "metadata": {
        "colab": {
          "base_uri": "https://localhost:8080/"
        },
        "id": "i6u5Q1MFKnIJ",
        "outputId": "7bc926ec-ed03-4b94-8a53-d6e6a00cdc1a"
      },
      "outputs": [],
      "source": [
        "df_pred = pd.DataFrame({'Actual': y_test.squeeze(), 'Predicted': y_pred_knn.squeeze()})\n",
        "print(df_pred)"
      ]
    },
    {
      "cell_type": "code",
      "execution_count": null,
      "metadata": {
        "colab": {
          "base_uri": "https://localhost:8080/",
          "height": 661
        },
        "id": "a-fkGl-IVeX0",
        "outputId": "b18d321d-a9bb-4ccd-f838-7a661c64449b"
      },
      "outputs": [],
      "source": [
        "cm_knn = confusion_matrix(y_test, y_pred_knn)\n",
        "cm_display_knn = ConfusionMatrixDisplay(confusion_matrix=cm_knn, display_labels=class_labels)\n",
        "fig, ax = plt.subplots(figsize=(8, 8))\n",
        "cm_display_knn.plot(cmap='viridis', values_format='d', ax=ax)\n",
        "plt.show()"
      ]
    },
    {
      "cell_type": "code",
      "execution_count": null,
      "metadata": {
        "colab": {
          "base_uri": "https://localhost:8080/"
        },
        "id": "wcC7_-n6WPyJ",
        "outputId": "fc9f2787-5d19-4705-8608-388852acd4ea"
      },
      "outputs": [],
      "source": [
        "accuracy = balanced_accuracy_score(y_test, y_pred_knn)\n",
        "recall = recall_score(y_test, y_pred_knn, average='macro')\n",
        "precision = precision_score(y_test, y_pred_knn, average='macro')\n",
        "f1 = f1_score(y_test, y_pred_knn, average='macro')\n",
        "print(\"Accuracy:\", accuracy)\n",
        "print(\"Recall:\", recall)\n",
        "print(\"Precision:\", precision)\n",
        "print(\"F1-score:\", f1)"
      ]
    },
    {
      "cell_type": "code",
      "execution_count": null,
      "metadata": {
        "colab": {
          "base_uri": "https://localhost:8080/"
        },
        "id": "VoWfGK3NKnIK",
        "outputId": "23b85420-7f66-4033-e2cb-e673b94c9540"
      },
      "outputs": [],
      "source": [
        "print(\"Accuracy test: \", model_knn.score(X_test, y_test))\n",
        "print(\"Accuracy train: \", model_knn.score(X_train, y_train))"
      ]
    },
    {
      "cell_type": "markdown",
      "metadata": {
        "id": "hLgsEMDjKnIK"
      },
      "source": [
        "**CROSS VALIDATION**"
      ]
    },
    {
      "cell_type": "code",
      "execution_count": null,
      "metadata": {
        "id": "7tHI8l_DKnIK"
      },
      "outputs": [],
      "source": [
        "cv_results = cross_validate(knn, X_test, y_test, cv=5, scoring=('balanced_accuracy','precision_macro', 'recall_macro','f1_macro'))"
      ]
    },
    {
      "cell_type": "code",
      "execution_count": null,
      "metadata": {
        "colab": {
          "base_uri": "https://localhost:8080/"
        },
        "id": "YPuLspyyKnIK",
        "outputId": "01d9489e-16e2-4cfa-eb19-41780736c7c6"
      },
      "outputs": [],
      "source": [
        "sorted(cv_results.keys())"
      ]
    },
    {
      "cell_type": "code",
      "execution_count": null,
      "metadata": {
        "colab": {
          "base_uri": "https://localhost:8080/"
        },
        "id": "NS9G2zxAmO2C",
        "outputId": "f5893ae6-90e0-43f6-ea04-6912ad4d784c"
      },
      "outputs": [],
      "source": [
        "print(\"Accuracy:\\n\", cv_results['test_balanced_accuracy'], \"\\n Mean: \", np.mean(cv_results['test_balanced_accuracy']))\n",
        "print(\"Precision:\\n\" , cv_results['test_precision_macro'], \"\\n Mean: \", np.mean(cv_results['test_precision_macro']))\n",
        "print(\"Recall:\\n\", cv_results['test_recall_macro'], \"\\n Mean: \", np.mean(cv_results['test_recall_macro']))\n",
        "print(\"F1-score:\\n\", cv_results['test_f1_macro'], \"\\n Mean: \", np.mean(cv_results['test_f1_macro']))"
      ]
    },
    {
      "cell_type": "code",
      "execution_count": null,
      "metadata": {
        "id": "0n1xlKVYkxdE"
      },
      "outputs": [],
      "source": [
        "score_result= score_result.append({\"Model\":\"KNN\",\"Balanced Accuracy\":np.mean(cv_results['test_balanced_accuracy']), \"Precision\":np.mean(cv_results['test_precision_macro']), \"Recall\":np.mean(cv_results['test_recall_macro']), \"F1-score\":np.mean(cv_results['test_f1_macro'])}, ignore_index=True)"
      ]
    },
    {
      "cell_type": "markdown",
      "metadata": {
        "id": "nUeFPStzzijE"
      },
      "source": [
        "## **Results:**"
      ]
    },
    {
      "cell_type": "code",
      "execution_count": null,
      "metadata": {
        "colab": {
          "base_uri": "https://localhost:8080/",
          "height": 143
        },
        "id": "EPE_BMbJzs9k",
        "outputId": "aed0895f-73dd-4d67-d3d7-34f5ce3f344c"
      },
      "outputs": [],
      "source": [
        "score_result"
      ]
    },
    {
      "cell_type": "code",
      "execution_count": null,
      "metadata": {
        "colab": {
          "base_uri": "https://localhost:8080/",
          "height": 807
        },
        "id": "mrtgJNks-Tdk",
        "outputId": "d43a11a3-6b84-4110-b176-107e0cc59fd8"
      },
      "outputs": [],
      "source": [
        "# plot results\n",
        "metrics = ['Balanced Accuracy', 'Recall', 'Precision', 'F1-score']\n",
        "colors = ['#3498DB', '#F7DC6F','#EC7063', '#58D68D']\n",
        "\n",
        "num_models = len(score_result)\n",
        "width_bar = 0.20\n",
        "x = range(num_models)\n",
        "\n",
        "plt.figure(figsize=(12, 8))\n",
        "\n",
        "for i, metric in enumerate(metrics):\n",
        "    pos_x = [pos + i * width_bar for pos in x]\n",
        "    values_metric = score_result[metric]\n",
        "\n",
        "    plt.bar(\n",
        "        pos_x,\n",
        "        values_metric,\n",
        "        width=width_bar,\n",
        "        label=metric,\n",
        "        color=colors[i],\n",
        "    )\n",
        "\n",
        "plt.xlabel('Model')\n",
        "plt.ylabel('Metric Value')\n",
        "plt.title('Models performance comparison - Model Classification (UML)')\n",
        "plt.xticks([pos + (len(metrics) - 1) * width_bar / 2 for pos in x], score_result['Model'], rotation=45, ha=\"right\")\n",
        "plt.legend(loc='best')\n",
        "plt.tight_layout()\n",
        "plt.ylim(0,1)\n",
        "plt.show()"
      ]
    },
    {
      "cell_type": "code",
      "execution_count": null,
      "metadata": {
        "colab": {
          "base_uri": "https://localhost:8080/"
        },
        "id": "1FcLKEj9HoWk",
        "outputId": "d789d7e3-ed4d-40b1-cd05-c6537c29ddd7"
      },
      "outputs": [],
      "source": [
        "y_test.value_counts()"
      ]
    },
    {
      "cell_type": "code",
      "execution_count": null,
      "metadata": {
        "colab": {
          "base_uri": "https://localhost:8080/"
        },
        "id": "wXk7oxhzEfp0",
        "outputId": "fa6a5c45-e19b-4dca-ab8e-8972d70c949d"
      },
      "outputs": [],
      "source": [
        "classes_interes_transf = label_encoder_nclasses.inverse_transform(class_labels)\n",
        "mapeo_classes_interes = {class_label: number for class_label, number in zip(classes_interes_transf, class_labels)}\n",
        "print(\"Mapping classes to numbers:\")\n",
        "for class_label, number in mapeo_classes_interes.items():\n",
        "    print(f\"{class_label}: {number}\")"
      ]
    },
    {
      "cell_type": "code",
      "execution_count": null,
      "metadata": {
        "colab": {
          "base_uri": "https://localhost:8080/",
          "height": 524
        },
        "id": "YBheBTTSMlnU",
        "outputId": "ecbdb846-c1b5-4001-8295-65af95a0cb85"
      },
      "outputs": [],
      "source": [
        "classifiers = [\"SVC\", \"RandomForest\", \"KNN\"]\n",
        "matrices_confusion = [cm_svc, cm_rf, cm_knn]\n",
        "class_names = [\"4\", \"35\", \"37\", \"42\", \"49\", \"58\", \"61\", \"83\", \"91\", \"98\"]\n",
        "\n",
        "fig, axes = plt.subplots(1, 3, figsize=(15, 5), sharey=\"row\")\n",
        "\n",
        "for i, (cm, classifier_name) in enumerate(zip(matrices_confusion, classifiers)):\n",
        "\n",
        "    disp = ConfusionMatrixDisplay(confusion_matrix=cm, display_labels=class_names)\n",
        "\n",
        "    disp.plot(ax=axes[i], cmap=\"Blues\")\n",
        "    axes[i].set_title(classifier_name)\n",
        "    disp.im_.colorbar.remove()\n",
        "    disp.ax_.set_xlabel('')\n",
        "    if i!=0:\n",
        "        disp.ax_.set_ylabel('')\n",
        "\n",
        "plt.tight_layout()\n",
        "fig.text(0.4, 0.0, \"Predicted label\", ha=\"left\")\n",
        "fig.colorbar(disp.im_, ax=axes)\n",
        "plt.show()"
      ]
    },
    {
      "cell_type": "code",
      "execution_count": null,
      "metadata": {
        "colab": {
          "base_uri": "https://localhost:8080/"
        },
        "id": "b-H4RXgVaIwQ",
        "outputId": "317c4804-fa93-4efb-ead8-def0c42cbd89"
      },
      "outputs": [],
      "source": [
        "report_svc = classification_report(y_test, y_pred_svc, target_names=classes_interes_transf)\n",
        "print(report_svc)"
      ]
    },
    {
      "cell_type": "code",
      "execution_count": null,
      "metadata": {
        "colab": {
          "base_uri": "https://localhost:8080/"
        },
        "id": "DwXHweSvzPM8",
        "outputId": "e0eec929-2022-489a-d026-4ed63855f155"
      },
      "outputs": [],
      "source": [
        "report_rf = classification_report(y_test, y_pred_rf, target_names=classes_interes_transf)\n",
        "print(report_rf)"
      ]
    },
    {
      "cell_type": "code",
      "execution_count": null,
      "metadata": {
        "colab": {
          "base_uri": "https://localhost:8080/"
        },
        "id": "UD9xiGP6z00L",
        "outputId": "305b5cc2-0e78-42a0-f61f-66b3e2953c9a"
      },
      "outputs": [],
      "source": [
        "report_knn = classification_report(y_test, y_pred_knn, target_names=classes_interes_transf)\n",
        "print(report_knn)"
      ]
    },
    {
      "cell_type": "markdown",
      "metadata": {
        "id": "TEo8Me5O1WsY"
      },
      "source": [
        "\n",
        "\n",
        "---\n",
        "\n",
        "The classes with highest F1-score:\n",
        "- computerarchitecture ---> 37\n",
        "- restaurant ---> 83\n",
        "- shopping ---> 91\n",
        "- employee ---> 49\n",
        "- smarthouse ---> 98\n",
        "\n",
        "---\n",
        "\n"
      ]
    },
    {
      "cell_type": "markdown",
      "metadata": {
        "id": "r727InsWCQPc"
      },
      "source": [
        "# Instance Selection:"
      ]
    },
    {
      "cell_type": "markdown",
      "metadata": {
        "id": "umxJ6h413_KX"
      },
      "source": [
        "In this section, we perform the selection of instances to be studied in local explainability. The selected instances must meet the condition of being classified in the same class by all three models."
      ]
    },
    {
      "cell_type": "code",
      "execution_count": null,
      "metadata": {
        "id": "XIIg4Ffd9CJp"
      },
      "outputs": [],
      "source": [
        "df_preds = pd.DataFrame({'Real': y_test, 'Pred_SVC': y_pred_svc, 'Pred_RF': y_pred_rf, 'Pred_KNN': y_pred_knn})\n",
        "df_preds = df_preds[(df_preds['Real'] == df_preds['Pred_SVC']) & (df_preds['Real'] == df_preds['Pred_RF']) & (df_preds['Real'] == df_preds['Pred_KNN'])]"
      ]
    },
    {
      "cell_type": "code",
      "execution_count": null,
      "metadata": {
        "colab": {
          "base_uri": "https://localhost:8080/",
          "height": 424
        },
        "id": "7pXoHbzp9Dxy",
        "outputId": "cc061c2f-785b-4fcc-fc69-9c933d25c9fd"
      },
      "outputs": [],
      "source": [
        "df_preds"
      ]
    },
    {
      "cell_type": "code",
      "execution_count": null,
      "metadata": {
        "id": "LVNJ7PyMEXxr"
      },
      "outputs": [],
      "source": [
        "df_class_comp = df_preds[df_preds['Real'] == 37]\n",
        "df_class_rest = df_preds[df_preds['Real'] == 83]\n",
        "df_class_shop = df_preds[df_preds['Real'] == 91]\n",
        "df_class_emp = df_preds[df_preds['Real'] == 49]\n",
        "df_class_smart = df_preds[df_preds['Real'] == 98]"
      ]
    },
    {
      "cell_type": "code",
      "execution_count": null,
      "metadata": {
        "colab": {
          "base_uri": "https://localhost:8080/"
        },
        "id": "xGJoGvQNEc1T",
        "outputId": "f42604bf-082a-4fa0-a401-ea3b5c3d7bd8"
      },
      "outputs": [],
      "source": [
        "print(f\"Number of instances for the class Computerarchitecture: {len(df_class_comp)}\")\n",
        "print(f\"Number of instances for the class Restaurant: {len(df_class_rest)}\")\n",
        "print(f\"Number of instances for the class Shopping: {len(df_class_shop)}\")\n",
        "print(f\"Number of instances for the class Employee: {len(df_class_emp)}\")\n",
        "print(f\"Number of instances for the class Smarthouse: {len(df_class_smart)}\")"
      ]
    },
    {
      "cell_type": "code",
      "execution_count": null,
      "metadata": {
        "colab": {
          "base_uri": "https://localhost:8080/",
          "height": 206
        },
        "id": "Jdk4ANSKIoUX",
        "outputId": "0f9b0617-4914-4374-963d-cf32b27d4127"
      },
      "outputs": [],
      "source": [
        "df_class_comp.head()"
      ]
    },
    {
      "cell_type": "code",
      "execution_count": null,
      "metadata": {
        "colab": {
          "base_uri": "https://localhost:8080/",
          "height": 226
        },
        "id": "JLt8lkulTkvE",
        "outputId": "71b0aeb9-2e97-4e84-ff73-a2242c347679"
      },
      "outputs": [],
      "source": [
        "X_preds = X_test.loc[df_preds[df_preds['Real'] == 37].index]\n",
        "X_preds.head()"
      ]
    },
    {
      "cell_type": "code",
      "execution_count": null,
      "metadata": {
        "colab": {
          "base_uri": "https://localhost:8080/",
          "height": 206
        },
        "id": "J7AghekfcIom",
        "outputId": "78bb549d-608f-4a8b-b128-d9a05b886b7e"
      },
      "outputs": [],
      "source": [
        "instances_class = df_preds[df_preds['Real'] == 37]\n",
        "instances_class.head()"
      ]
    },
    {
      "cell_type": "code",
      "execution_count": null,
      "metadata": {
        "colab": {
          "base_uri": "https://localhost:8080/",
          "height": 206
        },
        "id": "pv_h31Xd22JJ",
        "outputId": "d1e8a804-c1ca-4b45-985b-f9b204a6ea04"
      },
      "outputs": [],
      "source": [
        "df_class_rest.head()"
      ]
    },
    {
      "cell_type": "code",
      "execution_count": null,
      "metadata": {
        "colab": {
          "base_uri": "https://localhost:8080/",
          "height": 206
        },
        "id": "dpxzx6B5250p",
        "outputId": "77bdeebd-6a83-4cbc-ef16-b4b4b97dd6d9"
      },
      "outputs": [],
      "source": [
        "df_class_shop.head()"
      ]
    },
    {
      "cell_type": "code",
      "execution_count": null,
      "metadata": {
        "colab": {
          "base_uri": "https://localhost:8080/",
          "height": 206
        },
        "id": "3flQ7lbq25-V",
        "outputId": "e74effa3-d3a6-4e47-ab33-13534b71016a"
      },
      "outputs": [],
      "source": [
        "df_class_emp.head()"
      ]
    },
    {
      "cell_type": "code",
      "execution_count": null,
      "metadata": {
        "colab": {
          "base_uri": "https://localhost:8080/",
          "height": 206
        },
        "id": "Iew3DaPW26LZ",
        "outputId": "612cda1e-6d20-4120-91cf-27bcee70051e"
      },
      "outputs": [],
      "source": [
        "df_class_smart.head()"
      ]
    },
    {
      "cell_type": "code",
      "execution_count": null,
      "metadata": {
        "id": "S0GIn3GqtCYa"
      },
      "outputs": [],
      "source": [
        "dfs_select = [\"df_class_comp\", \"df_class_rest\", \"df_class_shop\", \"df_class_emp\", \"df_class_smart\"]\n",
        "inst_select_indexes = {}\n",
        "\n",
        "for df_select in dfs_select:\n",
        "    df = globals()[df_select]\n",
        "    if len(df) > 100:\n",
        "        indexes_inst = df.sample(n=100, random_state=42).index\n",
        "    else:\n",
        "        indexes_inst = df.index\n",
        "    indexes_inst = list(indexes_inst)\n",
        "    inst_select_indexes[df_select] = indexes_inst"
      ]
    },
    {
      "cell_type": "code",
      "execution_count": null,
      "metadata": {
        "id": "tU9uFeW8tXDf"
      },
      "outputs": [],
      "source": [
        "with open('uml_multiclass_indexes.pickle', 'wb') as f:\n",
        "    pickle.dump(inst_select_indexes, f)"
      ]
    },
    {
      "cell_type": "code",
      "execution_count": null,
      "metadata": {
        "colab": {
          "base_uri": "https://localhost:8080/"
        },
        "id": "KapVlym_iMIB",
        "outputId": "04473d55-9c8d-4a96-bb3e-0f06c3df2f01"
      },
      "outputs": [],
      "source": [
        "classes_selected = [37, 83, 91, 49, 98]\n",
        "\n",
        "for class_label in classes_selected:\n",
        "    instances_class = df_preds[df_preds['Real'] == class_label]\n",
        "    X_preds = X_test.loc[df_preds[df_preds['Real'] == class_label].index]\n",
        "\n",
        "    probab_pred_svc = svc.predict_proba(X_preds)\n",
        "    probab_pred_rf = rf.predict_proba(X_preds)\n",
        "    probab_pred_knn = knn.predict_proba(X_preds)\n",
        "\n",
        "    index_class = np.where(classes_interes_transf ==  label_encoder_nclasses.inverse_transform([class_label]))[0][0]\n",
        "\n",
        "    prob_svc = probab_pred_svc[:, index_class]\n",
        "    prob_rf = probab_pred_rf[:, index_class]\n",
        "    prob_knn = probab_pred_knn[:, index_class]\n",
        "\n",
        "    index_max_prob_svc = prob_svc.argmax()\n",
        "    index_max_prob_rf = prob_rf.argmax()\n",
        "    index_max_prob_knn = prob_knn.argmax()\n",
        "\n",
        "    instance_max_prob_svc = instances_class.iloc[index_max_prob_svc]\n",
        "    instance_max_prob_rf = instances_class.iloc[index_max_prob_rf]\n",
        "    instance_max_prob_knn = instances_class.iloc[index_max_prob_knn]\n",
        "\n",
        "    if class_label == 37:\n",
        "      inst_comp_svc = instance_max_prob_svc.name\n",
        "      inst_comp_rf = instance_max_prob_rf.name\n",
        "      inst_comp_knn = instance_max_prob_knn.name\n",
        "    elif class_label == 83:\n",
        "      inst_rest_svc = instance_max_prob_svc.name\n",
        "      inst_rest_rf = instance_max_prob_rf.name\n",
        "      inst_rest_knn = instance_max_prob_knn.name\n",
        "    elif class_label == 91:\n",
        "      inst_shop_svc = instance_max_prob_svc.name\n",
        "      inst_shop_rf = instance_max_prob_rf.name\n",
        "      inst_shop_knn = instance_max_prob_knn.name\n",
        "    elif class_label == 49:\n",
        "      inst_emp_svc = instance_max_prob_svc.name\n",
        "      inst_emp_rf = instance_max_prob_rf.name\n",
        "      inst_emp_knn = instance_max_prob_knn.name\n",
        "    elif class_label == 98:\n",
        "      inst_smart_svc = instance_max_prob_svc.name\n",
        "      inst_smart_rf = instance_max_prob_rf.name\n",
        "      inst_smart_knn = instance_max_prob_knn.name\n",
        "\n",
        "    print(f\"For class {class_label} ({label_encoder_nclasses.inverse_transform([class_label])[0]})\")\n",
        "    print(f\"Instance with higher predict_proba SVC: {instance_max_prob_svc.name}\")\n",
        "    print(f\"Instance with higher predict_proba RF: {instance_max_prob_rf.name}\")\n",
        "    print(f\"Instance with higher predict_proba KNN: {instance_max_prob_knn.name}\")\n",
        "    print(\"------------------------------------------------------------------------\")"
      ]
    },
    {
      "cell_type": "markdown",
      "metadata": {
        "id": "8UOLa-SuKnIQ"
      },
      "source": [
        "# Explainability:"
      ]
    },
    {
      "cell_type": "markdown",
      "metadata": {
        "id": "_Fk6nK2tEY-s"
      },
      "source": [
        "# Global Explainability:"
      ]
    },
    {
      "cell_type": "markdown",
      "metadata": {
        "id": "MFrCdFoz4Vsm"
      },
      "source": [
        "We conduct the study of global explainability using permutation importance."
      ]
    },
    {
      "cell_type": "code",
      "execution_count": null,
      "metadata": {
        "colab": {
          "base_uri": "https://localhost:8080/",
          "height": 707
        },
        "id": "4rdxk5Y4KnIQ",
        "outputId": "515480b2-b079-4422-fd14-145656767a69"
      },
      "outputs": [],
      "source": [
        "permu = permutation_importance(model_svc, X_test, y_test, scoring='f1_macro', n_repeats=20, random_state=42, n_jobs=2)\n",
        "permu_importances = pd.Series(permu.importances_mean.round(3), index=X.columns)[abs(permu.importances_mean.round(3)) > 0.000]\n",
        "permu_importances.sort_values(ascending=False, inplace=True)\n",
        "fig, ax = plt.subplots(figsize=(8,7))\n",
        "permu_importances.plot.bar(yerr=permu.importances_std[abs(permu.importances_mean.round(3)) > 0.000], ax=ax)\n",
        "ax.set_ylabel(\"Mean F1-Score decrease\", fontsize=18, labelpad=13)\n",
        "ax.set_xlabel(\"Feature\", fontsize=18, labelpad=13)\n",
        "plt.xticks(fontsize=17)\n",
        "plt.yticks(fontsize=17)\n",
        "fig.tight_layout()\n",
        "plt.savefig('uml_multiclass_globSVC.pdf')\n",
        "plt.show()"
      ]
    },
    {
      "cell_type": "code",
      "execution_count": null,
      "metadata": {
        "colab": {
          "base_uri": "https://localhost:8080/",
          "height": 707
        },
        "id": "qh05aJC8KnIR",
        "outputId": "b3fc9303-09a4-4469-c2d4-a30aaf05c97b"
      },
      "outputs": [],
      "source": [
        "permu = permutation_importance(model_rf, X_test, y_test, scoring='f1_macro', n_repeats=20, random_state=42, n_jobs=2)\n",
        "permu_importances = pd.Series(permu.importances_mean.round(3), index=X.columns)[abs(permu.importances_mean.round(3)) > 0.000]\n",
        "permu_importances.sort_values(ascending=False, inplace=True)\n",
        "fig, ax = plt.subplots(figsize=(8,7))\n",
        "permu_importances.plot.bar(yerr=permu.importances_std[abs(permu.importances_mean.round(3)) > 0.000], ax=ax)\n",
        "ax.set_ylabel(\"Mean F1-Score decrease\", fontsize=18, labelpad=13)\n",
        "ax.set_xlabel(\"Feature\", fontsize=18, labelpad=13)\n",
        "plt.xticks(fontsize=17)\n",
        "plt.yticks(fontsize=17)\n",
        "fig.tight_layout()\n",
        "plt.savefig('uml_multiclass_globRF.pdf')\n",
        "plt.show()"
      ]
    },
    {
      "cell_type": "code",
      "execution_count": null,
      "metadata": {
        "colab": {
          "base_uri": "https://localhost:8080/",
          "height": 707
        },
        "id": "kKYISz7uFtHL",
        "outputId": "1a6f7399-d616-4a01-fa53-88f546f9e6d5"
      },
      "outputs": [],
      "source": [
        "permu = permutation_importance(model_knn, X_test, y_test, scoring='f1_macro', n_repeats=20, random_state=42, n_jobs=2)\n",
        "permu_importances = pd.Series(permu.importances_mean.round(3), index=X.columns)[abs(permu.importances_mean.round(3)) > 0.000]\n",
        "permu_importances.sort_values(ascending=False, inplace=True)\n",
        "fig, ax = plt.subplots(figsize=(8,7))\n",
        "permu_importances.plot.bar(yerr=permu.importances_std[abs(permu.importances_mean.round(3)) > 0.000], ax=ax)\n",
        "ax.set_ylabel(\"Mean F1-Score decrease\", fontsize=18, labelpad=13)\n",
        "ax.set_xlabel(\"Feature\", fontsize=18, labelpad=13)\n",
        "plt.xticks(fontsize=17)\n",
        "plt.yticks(fontsize=17)\n",
        "fig.tight_layout()\n",
        "plt.savefig('uml_multiclass_globKNN.pdf')\n",
        "plt.show()"
      ]
    },
    {
      "cell_type": "markdown",
      "metadata": {
        "id": "DgoHpc_3KnIR"
      },
      "source": [
        "# Local Explainability:"
      ]
    },
    {
      "cell_type": "markdown",
      "metadata": {
        "id": "uxh1c_pa4hw3"
      },
      "source": [
        "Finally, we obtain explanations for the selected instances and calculate the disagreement metrics."
      ]
    },
    {
      "cell_type": "code",
      "execution_count": null,
      "metadata": {
        "id": "fheCgSyMGOte"
      },
      "outputs": [],
      "source": [
        "num_features = len(col)\n",
        "top_num_features = 10"
      ]
    },
    {
      "cell_type": "code",
      "execution_count": null,
      "metadata": {
        "id": "H5q_1v0BdwxT"
      },
      "outputs": [],
      "source": [
        "unique_values = np.unique(y_train)\n",
        "inst_names = [\"computerarchitecture\", \"restaurant\", \"shopping\", \"employee\", \"smarthouse\"]\n",
        "class_index = [2, 4, 7, 8, 9]"
      ]
    },
    {
      "cell_type": "markdown",
      "metadata": {
        "id": "TKfhVKASGtQp"
      },
      "source": [
        "## SVC:"
      ]
    },
    {
      "cell_type": "code",
      "execution_count": null,
      "metadata": {
        "colab": {
          "base_uri": "https://localhost:8080/"
        },
        "id": "ewWL1glAWHKb",
        "outputId": "2afcb2fc-184c-470f-daa7-b451e1a0e87a"
      },
      "outputs": [],
      "source": [
        "exp_list_svc = []\n",
        "\n",
        "for i in range(len(unique_values)):\n",
        "    class_value = unique_values[i]\n",
        "    pf = lambda m, d, i=i: m.predict_proba(d)[:, i]\n",
        "    e = dx.Explainer(\n",
        "        model_svc, X_train,\n",
        "        y_train,\n",
        "        predict_function=pf,\n",
        "        label=f'SVC: class {class_value}',\n",
        "        verbose=False\n",
        "    )\n",
        "    exp_list_svc += [e]\n",
        "\n",
        "exp_list_svc"
      ]
    },
    {
      "cell_type": "code",
      "execution_count": null,
      "metadata": {
        "id": "0GyJIdfiWHKc"
      },
      "outputs": [],
      "source": [
        "inst_computerarchitecture = X_test.loc[inst_comp_svc]\n",
        "inst_restaurant = X_test.loc[inst_rest_svc]\n",
        "inst_shopping = X_test.loc[inst_shop_svc]\n",
        "inst_employee = X_test.loc[inst_emp_svc]\n",
        "inst_smarthouse = X_test.loc[inst_smart_svc]"
      ]
    },
    {
      "cell_type": "code",
      "execution_count": null,
      "metadata": {
        "id": "6hxY20bRWHKc"
      },
      "outputs": [],
      "source": [
        "svc_exp_results = {}\n",
        "\n",
        "for instance in inst_names:\n",
        "    breakdown_exp = [exp.predict_parts(eval(f\"inst_{instance}\"), type='break_down', random_state=42) for exp in exp_list_svc]\n",
        "    svc_exp_results[f\"breakdown_{instance}\"] = breakdown_exp\n",
        "\n",
        "    shap_exp = [exp.predict_parts(eval(f\"inst_{instance}\"), type='shap', random_state=42) for exp in exp_list_svc]\n",
        "    svc_exp_results[f\"shap_{instance}\"] = shap_exp\n",
        "\n",
        "    lime_exp = [exp.predict_surrogate(eval(f\"inst_{instance}\"), random_state=42, class_names=[0, unique_values[i]]) for i, exp in enumerate(exp_list_svc)]\n",
        "    svc_exp_results[f\"lime_{instance}\"] = lime_exp"
      ]
    },
    {
      "cell_type": "markdown",
      "metadata": {
        "id": "H27QjylfWHKc"
      },
      "source": [
        "### **Computer-architecture:**"
      ]
    },
    {
      "cell_type": "code",
      "execution_count": null,
      "metadata": {
        "id": "NfvClbunWHKc"
      },
      "outputs": [],
      "source": [
        "breakdown_df_computerarchitecture_comparch = svc_exp_results['breakdown_computerarchitecture'][2].result\n",
        "shap_df_computerarchitecture_comparch = svc_exp_results['shap_computerarchitecture'][2].result\n",
        "lime_df_computerarchitecture_comparch = svc_exp_results['lime_computerarchitecture'][2].result"
      ]
    },
    {
      "cell_type": "code",
      "execution_count": null,
      "metadata": {
        "id": "-DIvhJpJWHKd"
      },
      "outputs": [],
      "source": [
        "breakdown_df_computerarchitecture_emp = svc_exp_results['breakdown_computerarchitecture'][4].result\n",
        "shap_df_computerarchitecture_emp = svc_exp_results['shap_computerarchitecture'][4].result\n",
        "lime_df_computerarchitecture_emp = svc_exp_results['lime_computerarchitecture'][4].result"
      ]
    },
    {
      "cell_type": "code",
      "execution_count": null,
      "metadata": {
        "id": "p4nVBRGwWHKd"
      },
      "outputs": [],
      "source": [
        "breakdown_df_computerarchitecture_rest = svc_exp_results['breakdown_computerarchitecture'][7].result\n",
        "shap_df_computerarchitecture_rest = svc_exp_results['shap_computerarchitecture'][7].result\n",
        "lime_df_computerarchitecture_rest = svc_exp_results['lime_computerarchitecture'][7].result"
      ]
    },
    {
      "cell_type": "code",
      "execution_count": null,
      "metadata": {
        "id": "45gleyKpWHKd"
      },
      "outputs": [],
      "source": [
        "breakdown_df_computerarchitecture_shop = svc_exp_results['breakdown_computerarchitecture'][8].result\n",
        "shap_df_computerarchitecture_shop = svc_exp_results['shap_computerarchitecture'][8].result\n",
        "lime_df_computerarchitecture_shop = svc_exp_results['lime_computerarchitecture'][8].result"
      ]
    },
    {
      "cell_type": "code",
      "execution_count": null,
      "metadata": {
        "id": "Zl6qel4fWHKd"
      },
      "outputs": [],
      "source": [
        "breakdown_df_computerarchitecture_smart = svc_exp_results['breakdown_computerarchitecture'][9].result\n",
        "shap_df_computerarchitecture_smart = svc_exp_results['shap_computerarchitecture'][9].result\n",
        "lime_df_computerarchitecture_smart = svc_exp_results['lime_computerarchitecture'][9].result"
      ]
    },
    {
      "cell_type": "code",
      "execution_count": null,
      "metadata": {
        "colab": {
          "base_uri": "https://localhost:8080/",
          "height": 1000
        },
        "id": "hREINH4MWHKd",
        "outputId": "d2a03dbd-7f29-4a3a-a0c3-3e5feae72ec7"
      },
      "outputs": [],
      "source": [
        "exp_plots_bd = [svc_exp_results['breakdown_computerarchitecture'][i] for i in class_index]\n",
        "exp_plots_bd[0].plot(exp_plots_bd[1:])"
      ]
    },
    {
      "cell_type": "code",
      "execution_count": null,
      "metadata": {
        "colab": {
          "base_uri": "https://localhost:8080/",
          "height": 1000
        },
        "id": "KFZZ7YjcWHKd",
        "outputId": "89a9009c-bc8a-43d1-90ff-de02e0580072"
      },
      "outputs": [],
      "source": [
        "exp_plots_shap = [svc_exp_results['shap_computerarchitecture'][i] for i in class_index]\n",
        "exp_plots_shap[0].plot(exp_plots_shap[1:])"
      ]
    },
    {
      "cell_type": "code",
      "execution_count": null,
      "metadata": {
        "colab": {
          "base_uri": "https://localhost:8080/",
          "height": 1000
        },
        "id": "NaK8CR_pWHKd",
        "outputId": "aa995b86-0aa7-4a2e-9ddc-a217ce17c085"
      },
      "outputs": [],
      "source": [
        "for i in class_index:\n",
        "  svc_exp_results['lime_computerarchitecture'][i].plot()"
      ]
    },
    {
      "cell_type": "code",
      "execution_count": null,
      "metadata": {},
      "outputs": [],
      "source": [
        "breakdown_df_computerarchitecture_comparch, shap_df_computerarchitecture_comparch, lime_df_computerarchitecture_comparch, df_final_svc_computerarchitecture_comparch = preprocess_dfs(breakdown_df_computerarchitecture_comparch, \n",
        "                                                                                                                                                                                      shap_df_computerarchitecture_comparch, \n",
        "                                                                                                                                                                                      lime_df_computerarchitecture_comparch, \n",
        "                                                                                                                                                                                      num_features, top_num_features)\n",
        "print('----------------------------------------------')\n",
        "print(breakdown_df_computerarchitecture_comparch)\n",
        "print('----------------------------------------------')\n",
        "print(shap_df_computerarchitecture_comparch)\n",
        "print('----------------------------------------------')\n",
        "print(lime_df_computerarchitecture_comparch)"
      ]
    },
    {
      "cell_type": "code",
      "execution_count": null,
      "metadata": {},
      "outputs": [],
      "source": [
        "df_final_svc_computerarchitecture_comparch"
      ]
    },
    {
      "cell_type": "code",
      "execution_count": null,
      "metadata": {},
      "outputs": [],
      "source": [
        "breakdown_df_computerarchitecture_emp, shap_df_computerarchitecture_emp, lime_df_computerarchitecture_emp, df_final_svc_computerarchitecture_emp = preprocess_dfs(breakdown_df_computerarchitecture_emp, \n",
        "                                                                                                                                                                                      shap_df_computerarchitecture_emp, \n",
        "                                                                                                                                                                                      lime_df_computerarchitecture_emp, \n",
        "                                                                                                                                                                                      num_features, top_num_features)\n",
        "print('----------------------------------------------')\n",
        "print(breakdown_df_computerarchitecture_emp)\n",
        "print('----------------------------------------------')\n",
        "print(shap_df_computerarchitecture_emp)\n",
        "print('----------------------------------------------')\n",
        "print(lime_df_computerarchitecture_emp)"
      ]
    },
    {
      "cell_type": "code",
      "execution_count": null,
      "metadata": {},
      "outputs": [],
      "source": [
        "df_final_svc_computerarchitecture_emp"
      ]
    },
    {
      "cell_type": "code",
      "execution_count": null,
      "metadata": {},
      "outputs": [],
      "source": [
        "breakdown_df_computerarchitecture_rest, shap_df_computerarchitecture_rest, lime_df_computerarchitecture_rest, df_final_svc_computerarchitecture_rest = preprocess_dfs(breakdown_df_computerarchitecture_rest, \n",
        "                                                                                                                                                                                      shap_df_computerarchitecture_rest, \n",
        "                                                                                                                                                                                      lime_df_computerarchitecture_rest, \n",
        "                                                                                                                                                                                      num_features, top_num_features)\n",
        "print('----------------------------------------------')\n",
        "print(breakdown_df_computerarchitecture_rest)\n",
        "print('----------------------------------------------')\n",
        "print(shap_df_computerarchitecture_rest)\n",
        "print('----------------------------------------------')\n",
        "print(lime_df_computerarchitecture_rest)"
      ]
    },
    {
      "cell_type": "code",
      "execution_count": null,
      "metadata": {},
      "outputs": [],
      "source": [
        "df_final_svc_computerarchitecture_rest"
      ]
    },
    {
      "cell_type": "code",
      "execution_count": null,
      "metadata": {},
      "outputs": [],
      "source": [
        "breakdown_df_computerarchitecture_shop, shap_df_computerarchitecture_shop, lime_df_computerarchitecture_shop, df_final_svc_computerarchitecture_shop = preprocess_dfs(breakdown_df_computerarchitecture_shop, \n",
        "                                                                                                                                                                                      shap_df_computerarchitecture_shop, \n",
        "                                                                                                                                                                                      lime_df_computerarchitecture_shop, \n",
        "                                                                                                                                                                                      num_features, top_num_features)\n",
        "print('----------------------------------------------')\n",
        "print(breakdown_df_computerarchitecture_shop)\n",
        "print('----------------------------------------------')\n",
        "print(shap_df_computerarchitecture_shop)\n",
        "print('----------------------------------------------')\n",
        "print(lime_df_computerarchitecture_shop)"
      ]
    },
    {
      "cell_type": "code",
      "execution_count": null,
      "metadata": {},
      "outputs": [],
      "source": [
        "df_final_svc_computerarchitecture_shop"
      ]
    },
    {
      "cell_type": "code",
      "execution_count": null,
      "metadata": {},
      "outputs": [],
      "source": [
        "breakdown_df_computerarchitecture_smart, shap_df_computerarchitecture_smart, lime_df_computerarchitecture_smart, df_final_svc_computerarchitecture_smart = preprocess_dfs(breakdown_df_computerarchitecture_smart, \n",
        "                                                                                                                                                                                      shap_df_computerarchitecture_smart, \n",
        "                                                                                                                                                                                      lime_df_computerarchitecture_smart, \n",
        "                                                                                                                                                                                      num_features, top_num_features)\n",
        "print('----------------------------------------------')\n",
        "print(breakdown_df_computerarchitecture_smart)\n",
        "print('----------------------------------------------')\n",
        "print(shap_df_computerarchitecture_smart)\n",
        "print('----------------------------------------------')\n",
        "print(lime_df_computerarchitecture_smart)"
      ]
    },
    {
      "cell_type": "code",
      "execution_count": null,
      "metadata": {},
      "outputs": [],
      "source": [
        "df_final_svc_computerarchitecture_smart"
      ]
    },
    {
      "cell_type": "markdown",
      "metadata": {
        "id": "eV45OUHhWHKj"
      },
      "source": [
        "### **Results Computer-architecture:**"
      ]
    },
    {
      "cell_type": "code",
      "execution_count": null,
      "metadata": {
        "colab": {
          "base_uri": "https://localhost:8080/",
          "height": 206
        },
        "id": "FXafNs8yWHKj",
        "outputId": "215eda66-8758-488c-c6ac-0eccb22f20d9"
      },
      "outputs": [],
      "source": [
        "df_topfeatures_comparch_comparch = top5_features(df_final_svc_computerarchitecture_comparch, 'ComputerArchitecture - Class: ComputerArchitecture')\n",
        "df_topfeatures_comparch_emp = top5_features(df_final_svc_computerarchitecture_emp, 'ComputerArchitecture - Class: Employee')\n",
        "df_topfeatures_comparch_rest = top5_features(df_final_svc_computerarchitecture_rest, 'ComputerArchitecture - Class: Restaurant')\n",
        "df_topfeatures_comparch_shop = top5_features(df_final_svc_computerarchitecture_shop, 'ComputerArchitecture - Class: Shopping')\n",
        "df_topfeatures_comparch_smart = top5_features(df_final_svc_computerarchitecture_smart, 'ComputerArchitecture - Class: Smarthouse')\n",
        "\n",
        "df_topfeatures_computerarchitecture = pd.concat([df_topfeatures_comparch_comparch, df_topfeatures_comparch_emp, df_topfeatures_comparch_rest, \n",
        "                                                 df_topfeatures_comparch_shop, df_topfeatures_comparch_smart])\n",
        "df_topfeatures_computerarchitecture"
      ]
    },
    {
      "cell_type": "code",
      "execution_count": null,
      "metadata": {
        "colab": {
          "base_uri": "https://localhost:8080/",
          "height": 206
        },
        "id": "UANzx-Q5WHKj",
        "outputId": "fc6dd347-d074-46cc-fdad-d91331bad4f2"
      },
      "outputs": [],
      "source": [
        "df_topfeatures_comparch_comparch_rank = top5_rank(df_final_svc_computerarchitecture_comparch, 'ComputerArchitecture - Class: ComputerArchitecture')\n",
        "df_topfeatures_comparch_emp_rank = top5_rank(df_final_svc_computerarchitecture_emp, 'ComputerArchitecture - Class: Employee')\n",
        "df_topfeatures_comparch_rest_rank = top5_rank(df_final_svc_computerarchitecture_rest, 'ComputerArchitecture - Class: Restaurant')\n",
        "df_topfeatures_comparch_shop_rank = top5_rank(df_final_svc_computerarchitecture_shop, 'ComputerArchitecture - Class: Shopping')\n",
        "df_topfeatures_comparch_smart_rank = top5_rank(df_final_svc_computerarchitecture_smart, 'ComputerArchitecture - Class: Smarthouse')\n",
        "\n",
        "df_topfeatures_rank_computerarchitecture = pd.concat([df_topfeatures_comparch_comparch_rank, df_topfeatures_comparch_emp_rank, \n",
        "                                                      df_topfeatures_comparch_rest_rank, df_topfeatures_comparch_shop_rank, df_topfeatures_comparch_smart_rank])\n",
        "df_topfeatures_rank_computerarchitecture"
      ]
    },
    {
      "cell_type": "code",
      "execution_count": null,
      "metadata": {
        "colab": {
          "base_uri": "https://localhost:8080/",
          "height": 206
        },
        "id": "MBfCELYQWHKj",
        "outputId": "96386493-005c-4395-f8f2-6bff87c03297"
      },
      "outputs": [],
      "source": [
        "df_topfeatures_comparch_comparch_sign = top5_sign(df_final_svc_computerarchitecture_comparch, 'ComputerArchitecture - Class: ComputerArchitecture')\n",
        "df_topfeatures_comparch_emp_sign = top5_sign(df_final_svc_computerarchitecture_emp, 'ComputerArchitecture - Class: Employee')\n",
        "df_topfeatures_comparch_rest_sign = top5_sign(df_final_svc_computerarchitecture_rest, 'ComputerArchitecture - Class: Restaurant')\n",
        "df_topfeatures_comparch_shop_sign = top5_sign(df_final_svc_computerarchitecture_shop, 'ComputerArchitecture - Class: Shopping')\n",
        "df_topfeatures_comparch_smart_sign = top5_sign(df_final_svc_computerarchitecture_smart, 'ComputerArchitecture - Class: Smarthouse')\n",
        "\n",
        "df_topfeatures_sign_computerarchitecture = pd.concat([df_topfeatures_comparch_comparch_sign, df_topfeatures_comparch_emp_sign, \n",
        "                                                      df_topfeatures_comparch_rest_sign, df_topfeatures_comparch_shop_sign, df_topfeatures_comparch_smart_sign])\n",
        "df_topfeatures_sign_computerarchitecture"
      ]
    },
    {
      "cell_type": "code",
      "execution_count": null,
      "metadata": {
        "colab": {
          "base_uri": "https://localhost:8080/",
          "height": 206
        },
        "id": "-OZ_X4TZWHKj",
        "outputId": "c002696c-95e0-4896-f0f9-f84e9cd9cac5"
      },
      "outputs": [],
      "source": [
        "df_topfeatures_comparch_comparch_rank_sign = top5_rank_sign(df_final_svc_computerarchitecture_comparch, 'ComputerArchitecture - Class: ComputerArchitecture')\n",
        "df_topfeatures_comparch_emp_rank_sign = top5_rank_sign(df_final_svc_computerarchitecture_emp, 'ComputerArchitecture - Class: Employee')\n",
        "df_topfeatures_comparch_rest_rank_sign = top5_rank_sign(df_final_svc_computerarchitecture_rest, 'ComputerArchitecture - Class: Restaurant')\n",
        "df_topfeatures_comparch_shop_rank_sign = top5_rank_sign(df_final_svc_computerarchitecture_shop, 'ComputerArchitecture - Class: Shopping')\n",
        "df_topfeatures_comparch_smart_rank_sign = top5_rank_sign(df_final_svc_computerarchitecture_smart, 'ComputerArchitecture - Class: Smarthouse')\n",
        "\n",
        "df_topfeatures_rank_sign_computerarchitecture = pd.concat([df_topfeatures_comparch_comparch_rank_sign, df_topfeatures_comparch_emp_rank_sign, \n",
        "                                                           df_topfeatures_comparch_rest_rank_sign, df_topfeatures_comparch_shop_rank_sign, \n",
        "                                                           df_topfeatures_comparch_smart_rank_sign])\n",
        "df_topfeatures_rank_sign_computerarchitecture"
      ]
    },
    {
      "cell_type": "markdown",
      "metadata": {},
      "source": [
        "### **Employee:**"
      ]
    },
    {
      "cell_type": "code",
      "execution_count": null,
      "metadata": {},
      "outputs": [],
      "source": [
        "breakdown_df_employee_comparch = svc_exp_results['breakdown_employee'][2].result\n",
        "shap_df_employee_comparch = svc_exp_results['shap_employee'][2].result\n",
        "lime_df_employee_comparch = svc_exp_results['lime_employee'][2].result"
      ]
    },
    {
      "cell_type": "code",
      "execution_count": null,
      "metadata": {},
      "outputs": [],
      "source": [
        "breakdown_df_employee_emp = svc_exp_results['breakdown_employee'][4].result\n",
        "shap_df_employee_emp = svc_exp_results['shap_employee'][4].result\n",
        "lime_df_employee_emp = svc_exp_results['lime_employee'][4].result"
      ]
    },
    {
      "cell_type": "code",
      "execution_count": null,
      "metadata": {},
      "outputs": [],
      "source": [
        "breakdown_df_employee_rest = svc_exp_results['breakdown_employee'][7].result\n",
        "shap_df_employee_rest = svc_exp_results['shap_employee'][7].result\n",
        "lime_df_employee_rest = svc_exp_results['lime_employee'][7].result"
      ]
    },
    {
      "cell_type": "code",
      "execution_count": null,
      "metadata": {},
      "outputs": [],
      "source": [
        "breakdown_df_employee_shop = svc_exp_results['breakdown_employee'][8].result\n",
        "shap_df_employee_shop = svc_exp_results['shap_employee'][8].result\n",
        "lime_df_employee_shop = svc_exp_results['lime_employee'][8].result"
      ]
    },
    {
      "cell_type": "code",
      "execution_count": null,
      "metadata": {},
      "outputs": [],
      "source": [
        "breakdown_df_employee_smart = svc_exp_results['breakdown_employee'][9].result\n",
        "shap_df_employee_smart = svc_exp_results['shap_employee'][9].result\n",
        "lime_df_employee_smart = svc_exp_results['lime_employee'][9].result"
      ]
    },
    {
      "cell_type": "code",
      "execution_count": null,
      "metadata": {},
      "outputs": [],
      "source": [
        "exp_plots_bd = [svc_exp_results['breakdown_employee'][i] for i in class_index]\n",
        "exp_plots_bd[0].plot(exp_plots_bd[1:])"
      ]
    },
    {
      "cell_type": "code",
      "execution_count": null,
      "metadata": {},
      "outputs": [],
      "source": [
        "exp_plots_shap = [svc_exp_results['shap_employee'][i] for i in class_index]\n",
        "exp_plots_shap[0].plot(exp_plots_shap[1:])"
      ]
    },
    {
      "cell_type": "code",
      "execution_count": null,
      "metadata": {},
      "outputs": [],
      "source": [
        "for i in class_index:\n",
        "  svc_exp_results['lime_employee'][i].plot()"
      ]
    },
    {
      "cell_type": "code",
      "execution_count": null,
      "metadata": {},
      "outputs": [],
      "source": [
        "breakdown_df_employee_comparch, shap_df_employee_comparch, lime_df_employee_comparch, df_final_svc_employee_comparch = preprocess_dfs(breakdown_df_employee_comparch, \n",
        "                                                                                                                                      shap_df_employee_comparch, \n",
        "                                                                                                                                      lime_df_employee_comparch, \n",
        "                                                                                                                                      num_features, top_num_features)\n",
        "print('----------------------------------------------')\n",
        "print(breakdown_df_employee_comparch)\n",
        "print('----------------------------------------------')\n",
        "print(shap_df_employee_comparch)\n",
        "print('----------------------------------------------')\n",
        "print(lime_df_employee_comparch)"
      ]
    },
    {
      "cell_type": "code",
      "execution_count": null,
      "metadata": {},
      "outputs": [],
      "source": [
        "df_final_svc_employee_comparch"
      ]
    },
    {
      "cell_type": "code",
      "execution_count": null,
      "metadata": {},
      "outputs": [],
      "source": [
        "breakdown_df_employee_emp, shap_df_employee_emp, lime_df_employee_emp, df_final_svc_employee_emp = preprocess_dfs(breakdown_df_employee_emp, \n",
        "                                                                                                                  shap_df_employee_emp, \n",
        "                                                                                                                  lime_df_employee_emp, \n",
        "                                                                                                                  num_features, top_num_features)\n",
        "print('----------------------------------------------')\n",
        "print(breakdown_df_employee_emp)\n",
        "print('----------------------------------------------')\n",
        "print(shap_df_employee_emp)\n",
        "print('----------------------------------------------')\n",
        "print(lime_df_employee_emp)"
      ]
    },
    {
      "cell_type": "code",
      "execution_count": null,
      "metadata": {},
      "outputs": [],
      "source": [
        "df_final_svc_employee_emp"
      ]
    },
    {
      "cell_type": "code",
      "execution_count": null,
      "metadata": {},
      "outputs": [],
      "source": [
        "breakdown_df_employee_rest, shap_df_employee_rest, lime_df_employee_rest, df_final_svc_employee_rest = preprocess_dfs(breakdown_df_employee_rest, \n",
        "                                                                                                                      shap_df_employee_rest, \n",
        "                                                                                                                      lime_df_employee_rest, \n",
        "                                                                                                                      num_features, top_num_features)\n",
        "print('----------------------------------------------')\n",
        "print(breakdown_df_employee_rest)\n",
        "print('----------------------------------------------')\n",
        "print(shap_df_employee_rest)\n",
        "print('----------------------------------------------')\n",
        "print(lime_df_employee_rest)"
      ]
    },
    {
      "cell_type": "code",
      "execution_count": null,
      "metadata": {},
      "outputs": [],
      "source": [
        "df_final_svc_employee_rest"
      ]
    },
    {
      "cell_type": "code",
      "execution_count": null,
      "metadata": {},
      "outputs": [],
      "source": [
        "breakdown_df_employee_shop, shap_df_employee_shop, lime_df_employee_shop, df_final_svc_employee_shop = preprocess_dfs(breakdown_df_employee_shop, \n",
        "                                                                                                                      shap_df_employee_shop, \n",
        "                                                                                                                      lime_df_employee_shop, \n",
        "                                                                                                                      num_features, top_num_features)\n",
        "print('----------------------------------------------')\n",
        "print(breakdown_df_employee_shop)\n",
        "print('----------------------------------------------')\n",
        "print(shap_df_employee_shop)\n",
        "print('----------------------------------------------')\n",
        "print(lime_df_employee_shop)"
      ]
    },
    {
      "cell_type": "code",
      "execution_count": null,
      "metadata": {},
      "outputs": [],
      "source": [
        "df_final_svc_employee_shop"
      ]
    },
    {
      "cell_type": "code",
      "execution_count": null,
      "metadata": {},
      "outputs": [],
      "source": [
        "breakdown_df_employee_smart, shap_df_employee_smart, lime_df_employee_smart, df_final_svc_employee_smart = preprocess_dfs(breakdown_df_employee_smart, \n",
        "                                                                                                                          shap_df_employee_smart, \n",
        "                                                                                                                          lime_df_employee_smart, \n",
        "                                                                                                                          num_features, top_num_features)\n",
        "print('----------------------------------------------')\n",
        "print(breakdown_df_employee_smart)\n",
        "print('----------------------------------------------')\n",
        "print(shap_df_employee_smart)\n",
        "print('----------------------------------------------')\n",
        "print(lime_df_employee_smart)"
      ]
    },
    {
      "cell_type": "code",
      "execution_count": null,
      "metadata": {},
      "outputs": [],
      "source": [
        "df_final_svc_employee_smart"
      ]
    },
    {
      "cell_type": "markdown",
      "metadata": {},
      "source": [
        "### **Results Employee:**"
      ]
    },
    {
      "cell_type": "code",
      "execution_count": null,
      "metadata": {},
      "outputs": [],
      "source": [
        "df_topfeatures_employee_comparch = top5_features(df_final_svc_employee_comparch, 'Employee - Class: ComputerArchitecture')\n",
        "df_topfeatures_employee_emp = top5_features(df_final_svc_employee_emp, 'Employee - Class: Employee')\n",
        "df_topfeatures_employee_rest = top5_features(df_final_svc_employee_rest, 'Employee - Class: Restaurant')\n",
        "df_topfeatures_employee_shop = top5_features(df_final_svc_employee_shop, 'Employee - Class: Shopping')\n",
        "df_topfeatures_employee_smart = top5_features(df_final_svc_employee_smart, 'Employee - Class: Smarthouse')\n",
        "\n",
        "df_topfeatures_employee = pd.concat([df_topfeatures_employee_comparch, df_topfeatures_employee_emp, df_topfeatures_employee_rest, \n",
        "                                     df_topfeatures_employee_shop, df_topfeatures_employee_smart])\n",
        "df_topfeatures_employee"
      ]
    },
    {
      "cell_type": "code",
      "execution_count": null,
      "metadata": {},
      "outputs": [],
      "source": [
        "df_topfeatures_employee_comparch_rank = top5_rank(df_final_svc_employee_comparch, 'Employee - Class: ComputerArchitecture')\n",
        "df_topfeatures_employee_emp_rank = top5_rank(df_final_svc_employee_emp, 'Employee - Class: Employee')\n",
        "df_topfeatures_employee_rest_rank = top5_rank(df_final_svc_employee_rest, 'Employee - Class: Restaurant')\n",
        "df_topfeatures_employee_shop_rank = top5_rank(df_final_svc_employee_shop, 'Employee - Class: Shopping')\n",
        "df_topfeatures_employee_smart_rank = top5_rank(df_final_svc_employee_smart, 'Employee - Class: Smarthouse')\n",
        "\n",
        "df_topfeatures_rank_employee = pd.concat([df_topfeatures_employee_comparch_rank, df_topfeatures_employee_emp_rank, \n",
        "                                          df_topfeatures_employee_rest_rank, df_topfeatures_employee_shop_rank, df_topfeatures_employee_smart_rank])\n",
        "df_topfeatures_rank_employee"
      ]
    },
    {
      "cell_type": "code",
      "execution_count": null,
      "metadata": {},
      "outputs": [],
      "source": [
        "df_topfeatures_employee_comparch_sign = top5_sign(df_final_svc_employee_comparch, 'Employee - Class: ComputerArchitecture')\n",
        "df_topfeatures_employee_emp_sign = top5_sign(df_final_svc_employee_emp, 'Employee - Class: Employee')\n",
        "df_topfeatures_employee_rest_sign = top5_sign(df_final_svc_employee_rest, 'Employee - Class: Restaurant')\n",
        "df_topfeatures_employee_shop_sign = top5_sign(df_final_svc_employee_shop, 'Employee - Class: Shopping')\n",
        "df_topfeatures_employee_smart_sign = top5_sign(df_final_svc_employee_smart, 'Employee - Class: Smarthouse')\n",
        "\n",
        "df_topfeatures_sign_employee = pd.concat([df_topfeatures_employee_comparch_sign, df_topfeatures_employee_emp_sign, \n",
        "                                          df_topfeatures_employee_rest_sign, df_topfeatures_employee_shop_sign, df_topfeatures_employee_smart_sign])\n",
        "df_topfeatures_sign_employee"
      ]
    },
    {
      "cell_type": "code",
      "execution_count": null,
      "metadata": {},
      "outputs": [],
      "source": [
        "df_topfeatures_employee_comparch_rank_sign = top5_rank_sign(df_final_svc_employee_comparch, 'Employee - Class: ComputerArchitecture')\n",
        "df_topfeatures_employee_emp_rank_sign = top5_rank_sign(df_final_svc_employee_emp, 'Employee - Class: Employee')\n",
        "df_topfeatures_employee_rest_rank_sign = top5_rank_sign(df_final_svc_employee_rest, 'Employee - Class: Restaurant')\n",
        "df_topfeatures_employee_shop_rank_sign = top5_rank_sign(df_final_svc_employee_shop, 'Employee - Class: Shopping')\n",
        "df_topfeatures_employee_smart_rank_sign = top5_rank_sign(df_final_svc_employee_smart, 'Employee - Class: Smarthouse')\n",
        "\n",
        "df_topfeatures_rank_sign_employee = pd.concat([df_topfeatures_employee_comparch_rank_sign, df_topfeatures_employee_emp_rank_sign, \n",
        "                                              df_topfeatures_employee_rest_rank_sign, df_topfeatures_employee_shop_rank_sign, \n",
        "                                              df_topfeatures_employee_smart_rank_sign])\n",
        "df_topfeatures_rank_sign_employee"
      ]
    },
    {
      "cell_type": "markdown",
      "metadata": {},
      "source": [
        "### **Restaurant:**"
      ]
    },
    {
      "cell_type": "code",
      "execution_count": null,
      "metadata": {},
      "outputs": [],
      "source": [
        "breakdown_df_restaurant_comparch = svc_exp_results['breakdown_restaurant'][2].result\n",
        "shap_df_restaurant_comparch = svc_exp_results['shap_restaurant'][2].result\n",
        "lime_df_restaurant_comparch = svc_exp_results['lime_restaurant'][2].result"
      ]
    },
    {
      "cell_type": "code",
      "execution_count": null,
      "metadata": {},
      "outputs": [],
      "source": [
        "breakdown_df_restaurant_emp = svc_exp_results['breakdown_restaurant'][4].result\n",
        "shap_df_restaurant_emp = svc_exp_results['shap_restaurant'][4].result\n",
        "lime_df_restaurant_emp = svc_exp_results['lime_restaurant'][4].result"
      ]
    },
    {
      "cell_type": "code",
      "execution_count": null,
      "metadata": {},
      "outputs": [],
      "source": [
        "breakdown_df_restaurant_rest = svc_exp_results['breakdown_restaurant'][7].result\n",
        "shap_df_restaurant_rest = svc_exp_results['shap_restaurant'][7].result\n",
        "lime_df_restaurant_rest = svc_exp_results['lime_restaurant'][7].result"
      ]
    },
    {
      "cell_type": "code",
      "execution_count": null,
      "metadata": {},
      "outputs": [],
      "source": [
        "breakdown_df_restaurant_shop = svc_exp_results['breakdown_restaurant'][8].result\n",
        "shap_df_restaurant_shop = svc_exp_results['shap_restaurant'][8].result\n",
        "lime_df_restaurant_shop = svc_exp_results['lime_restaurant'][8].result"
      ]
    },
    {
      "cell_type": "code",
      "execution_count": null,
      "metadata": {},
      "outputs": [],
      "source": [
        "breakdown_df_restaurant_smart = svc_exp_results['breakdown_restaurant'][9].result\n",
        "shap_df_restaurant_smart = svc_exp_results['shap_restaurant'][9].result\n",
        "lime_df_restaurant_smart = svc_exp_results['lime_restaurant'][9].result"
      ]
    },
    {
      "cell_type": "code",
      "execution_count": null,
      "metadata": {},
      "outputs": [],
      "source": [
        "exp_plots_bd = [svc_exp_results['breakdown_restaurant'][i] for i in class_index]\n",
        "exp_plots_bd[0].plot(exp_plots_bd[1:])"
      ]
    },
    {
      "cell_type": "code",
      "execution_count": null,
      "metadata": {},
      "outputs": [],
      "source": [
        "exp_plots_shap = [svc_exp_results['shap_restaurant'][i] for i in class_index]\n",
        "exp_plots_shap[0].plot(exp_plots_shap[1:])"
      ]
    },
    {
      "cell_type": "code",
      "execution_count": null,
      "metadata": {},
      "outputs": [],
      "source": [
        "for i in class_index:\n",
        "  svc_exp_results['lime_restaurant'][i].plot()"
      ]
    },
    {
      "cell_type": "code",
      "execution_count": null,
      "metadata": {},
      "outputs": [],
      "source": [
        "breakdown_df_restaurant_comparch, shap_df_restaurant_comparch, lime_df_restaurant_comparch, df_final_svc_restaurant_comparch = preprocess_dfs(breakdown_df_restaurant_comparch, \n",
        "                                                                                                                                              shap_df_restaurant_comparch, \n",
        "                                                                                                                                              lime_df_restaurant_comparch, \n",
        "                                                                                                                                              num_features, top_num_features)\n",
        "print('----------------------------------------------')\n",
        "print(breakdown_df_restaurant_comparch)\n",
        "print('----------------------------------------------')\n",
        "print(shap_df_restaurant_comparch)\n",
        "print('----------------------------------------------')\n",
        "print(lime_df_restaurant_comparch)"
      ]
    },
    {
      "cell_type": "code",
      "execution_count": null,
      "metadata": {},
      "outputs": [],
      "source": [
        "df_final_svc_restaurant_comparch"
      ]
    },
    {
      "cell_type": "code",
      "execution_count": null,
      "metadata": {},
      "outputs": [],
      "source": [
        "breakdown_df_restaurant_emp, shap_df_restaurant_emp, lime_df_restaurant_emp, df_final_svc_restaurant_emp = preprocess_dfs(breakdown_df_restaurant_emp, \n",
        "                                                                                                                          shap_df_restaurant_emp, \n",
        "                                                                                                                          lime_df_restaurant_emp, \n",
        "                                                                                                                          num_features, top_num_features)\n",
        "print('----------------------------------------------')\n",
        "print(breakdown_df_restaurant_emp)\n",
        "print('----------------------------------------------')\n",
        "print(shap_df_restaurant_emp)\n",
        "print('----------------------------------------------')\n",
        "print(lime_df_restaurant_emp)"
      ]
    },
    {
      "cell_type": "code",
      "execution_count": null,
      "metadata": {},
      "outputs": [],
      "source": [
        "df_final_svc_restaurant_emp"
      ]
    },
    {
      "cell_type": "code",
      "execution_count": null,
      "metadata": {},
      "outputs": [],
      "source": [
        "breakdown_df_restaurant_rest, shap_df_restaurant_rest, lime_df_restaurant_rest, df_final_svc_restaurant_rest = preprocess_dfs(breakdown_df_restaurant_rest, \n",
        "                                                                                                                              shap_df_restaurant_rest, \n",
        "                                                                                                                              lime_df_restaurant_rest, \n",
        "                                                                                                                              num_features, top_num_features)\n",
        "print('----------------------------------------------')\n",
        "print(breakdown_df_restaurant_rest)\n",
        "print('----------------------------------------------')\n",
        "print(shap_df_restaurant_rest)\n",
        "print('----------------------------------------------')\n",
        "print(lime_df_restaurant_rest)"
      ]
    },
    {
      "cell_type": "code",
      "execution_count": null,
      "metadata": {},
      "outputs": [],
      "source": [
        "df_final_svc_restaurant_rest"
      ]
    },
    {
      "cell_type": "code",
      "execution_count": null,
      "metadata": {},
      "outputs": [],
      "source": [
        "breakdown_df_restaurant_shop, shap_df_restaurant_shop, lime_df_restaurant_shop, df_final_svc_restaurant_shop = preprocess_dfs(breakdown_df_restaurant_shop, \n",
        "                                                                                                                              shap_df_restaurant_shop, \n",
        "                                                                                                                              lime_df_restaurant_shop, \n",
        "                                                                                                                              num_features, top_num_features)\n",
        "print('----------------------------------------------')\n",
        "print(breakdown_df_restaurant_shop)\n",
        "print('----------------------------------------------')\n",
        "print(shap_df_restaurant_shop)\n",
        "print('----------------------------------------------')\n",
        "print(lime_df_restaurant_shop)"
      ]
    },
    {
      "cell_type": "code",
      "execution_count": null,
      "metadata": {},
      "outputs": [],
      "source": [
        "df_final_svc_restaurant_shop"
      ]
    },
    {
      "cell_type": "code",
      "execution_count": null,
      "metadata": {},
      "outputs": [],
      "source": [
        "breakdown_df_restaurant_smart, shap_df_restaurant_smart, lime_df_restaurant_smart, df_final_svc_restaurant_smart = preprocess_dfs(breakdown_df_restaurant_smart, \n",
        "                                                                                                                                  shap_df_restaurant_smart, \n",
        "                                                                                                                                  lime_df_restaurant_smart, \n",
        "                                                                                                                                  num_features, top_num_features)\n",
        "print('----------------------------------------------')\n",
        "print(breakdown_df_restaurant_smart)\n",
        "print('----------------------------------------------')\n",
        "print(shap_df_restaurant_smart)\n",
        "print('----------------------------------------------')\n",
        "print(lime_df_restaurant_smart)"
      ]
    },
    {
      "cell_type": "code",
      "execution_count": null,
      "metadata": {},
      "outputs": [],
      "source": [
        "df_final_svc_restaurant_smart"
      ]
    },
    {
      "cell_type": "markdown",
      "metadata": {},
      "source": [
        "### **Results Restaurant:**"
      ]
    },
    {
      "cell_type": "code",
      "execution_count": null,
      "metadata": {},
      "outputs": [],
      "source": [
        "df_topfeatures_restaurant_comparch = top5_features(df_final_svc_restaurant_comparch, 'Restaurant - Class: ComputerArchitecture')\n",
        "df_topfeatures_restaurant_emp = top5_features(df_final_svc_restaurant_emp, 'Restaurant - Class: Employee')\n",
        "df_topfeatures_restaurant_rest = top5_features(df_final_svc_restaurant_rest, 'Restaurant- Class: Restaurant')\n",
        "df_topfeatures_restaurant_shop = top5_features(df_final_svc_restaurant_shop, 'Restaurant - Class: Shopping')\n",
        "df_topfeatures_restaurant_smart = top5_features(df_final_svc_restaurant_smart, 'Restaurant - Class: Smarthouse')\n",
        "\n",
        "df_topfeatures_restaurant = pd.concat([df_topfeatures_restaurant_comparch, df_topfeatures_restaurant_emp, df_topfeatures_restaurant_rest, \n",
        "                                       df_topfeatures_restaurant_shop, df_topfeatures_restaurant_smart])\n",
        "df_topfeatures_restaurant"
      ]
    },
    {
      "cell_type": "code",
      "execution_count": null,
      "metadata": {},
      "outputs": [],
      "source": [
        "df_topfeatures_restaurant_comparch_rank = top5_rank(df_final_svc_restaurant_comparch, 'Restaurant- Class: ComputerArchitecture')\n",
        "df_topfeatures_restaurant_emp_rank = top5_rank(df_final_svc_restaurant_emp, 'Restaurant - Class: Employee')\n",
        "df_topfeatures_restaurant_rest_rank = top5_rank(df_final_svc_restaurant_rest, 'Restaurant - Class: Restaurant')\n",
        "df_topfeatures_restaurant_shop_rank = top5_rank(df_final_svc_restaurant_shop, 'Restaurant - Class: Shopping')\n",
        "df_topfeatures_restaurant_smart_rank = top5_rank(df_final_svc_restaurant_smart, 'Restaurant - Class: Smarthouse')\n",
        "\n",
        "df_topfeatures_rank_restaurant= pd.concat([df_topfeatures_restaurant_comparch_rank, df_topfeatures_restaurant_emp_rank, \n",
        "                                           df_topfeatures_restaurant_rest_rank, df_topfeatures_restaurant_shop_rank, df_topfeatures_restaurant_smart_rank])\n",
        "df_topfeatures_rank_restaurant"
      ]
    },
    {
      "cell_type": "code",
      "execution_count": null,
      "metadata": {},
      "outputs": [],
      "source": [
        "df_topfeatures_restaurant_comparch_sign = top5_sign(df_final_svc_restaurant_comparch, 'Restaurant - Class: ComputerArchitecture')\n",
        "df_topfeatures_restaurant_emp_sign = top5_sign(df_final_svc_restaurant_emp, 'Restaurant - Class: Employee')\n",
        "df_topfeatures_restaurant_rest_sign = top5_sign(df_final_svc_restaurant_rest, 'Restaurant - Class: Restaurant')\n",
        "df_topfeatures_restaurant_shop_sign = top5_sign(df_final_svc_restaurant_shop, 'Restaurant - Class: Shopping')\n",
        "df_topfeatures_restaurant_smart_sign = top5_sign(df_final_svc_restaurant_smart, 'Restaurant - Class: Smarthouse')\n",
        "\n",
        "df_topfeatures_sign_restaurant = pd.concat([df_topfeatures_restaurant_comparch_sign, df_topfeatures_restaurant_emp_sign, \n",
        "                                            df_topfeatures_restaurant_rest_sign, df_topfeatures_restaurant_shop_sign, df_topfeatures_restaurant_smart_sign])\n",
        "df_topfeatures_sign_restaurant"
      ]
    },
    {
      "cell_type": "code",
      "execution_count": null,
      "metadata": {},
      "outputs": [],
      "source": [
        "df_topfeatures_restaurant_comparch_rank_sign = top5_rank_sign(df_final_svc_restaurant_comparch, 'Restaurant - Class: ComputerArchitecture')\n",
        "df_topfeatures_restaurant_emp_rank_sign = top5_rank_sign(df_final_svc_restaurant_emp, 'Restaurant - Class: Employee')\n",
        "df_topfeatures_restaurant_rest_rank_sign = top5_rank_sign(df_final_svc_restaurant_rest, 'Restaurant - Class: Restaurant')\n",
        "df_topfeatures_restaurant_shop_rank_sign = top5_rank_sign(df_final_svc_restaurant_shop, 'Restaurant - Class: Shopping')\n",
        "df_topfeatures_restaurant_smart_rank_sign = top5_rank_sign(df_final_svc_restaurant_smart, 'Restaurant - Class: Smarthouse')\n",
        "\n",
        "df_topfeatures_rank_sign_restaurant = pd.concat([df_topfeatures_restaurant_comparch_rank_sign, df_topfeatures_restaurant_emp_rank_sign, \n",
        "                                                 df_topfeatures_restaurant_rest_rank_sign, df_topfeatures_restaurant_shop_rank_sign, \n",
        "                                                 df_topfeatures_restaurant_smart_rank_sign])\n",
        "df_topfeatures_rank_sign_restaurant"
      ]
    },
    {
      "cell_type": "markdown",
      "metadata": {},
      "source": [
        "### **Shopping:**"
      ]
    },
    {
      "cell_type": "code",
      "execution_count": null,
      "metadata": {},
      "outputs": [],
      "source": [
        "breakdown_df_shopping_comparch = svc_exp_results['breakdown_shopping'][2].result\n",
        "shap_df_shopping_comparch = svc_exp_results['shap_shopping'][2].result\n",
        "lime_df_shopping_comparch = svc_exp_results['lime_shopping'][2].result"
      ]
    },
    {
      "cell_type": "code",
      "execution_count": null,
      "metadata": {},
      "outputs": [],
      "source": [
        "breakdown_df_shopping_emp = svc_exp_results['breakdown_shopping'][4].result\n",
        "shap_df_shopping_emp = svc_exp_results['shap_shopping'][4].result\n",
        "lime_df_shopping_emp = svc_exp_results['lime_shopping'][4].result"
      ]
    },
    {
      "cell_type": "code",
      "execution_count": null,
      "metadata": {},
      "outputs": [],
      "source": [
        "breakdown_df_shopping_rest = svc_exp_results['breakdown_shopping'][7].result\n",
        "shap_df_shopping_rest = svc_exp_results['shap_shopping'][7].result\n",
        "lime_df_shopping_rest = svc_exp_results['lime_shopping'][7].result"
      ]
    },
    {
      "cell_type": "code",
      "execution_count": null,
      "metadata": {},
      "outputs": [],
      "source": [
        "breakdown_df_shopping_shop = svc_exp_results['breakdown_shopping'][8].result\n",
        "shap_df_shopping_shop = svc_exp_results['shap_shopping'][8].result\n",
        "lime_df_shopping_shop = svc_exp_results['lime_shopping'][8].result"
      ]
    },
    {
      "cell_type": "code",
      "execution_count": null,
      "metadata": {},
      "outputs": [],
      "source": [
        "breakdown_df_shopping_smart = svc_exp_results['breakdown_shopping'][9].result\n",
        "shap_df_shopping_smart = svc_exp_results['shap_shopping'][9].result\n",
        "lime_df_shopping_smart = svc_exp_results['lime_shopping'][9].result"
      ]
    },
    {
      "cell_type": "code",
      "execution_count": null,
      "metadata": {},
      "outputs": [],
      "source": [
        "exp_plots_bd = [svc_exp_results['breakdown_shopping'][i] for i in class_index]\n",
        "exp_plots_bd[0].plot(exp_plots_bd[1:])"
      ]
    },
    {
      "cell_type": "code",
      "execution_count": null,
      "metadata": {},
      "outputs": [],
      "source": [
        "exp_plots_shap = [svc_exp_results['shap_shopping'][i] for i in class_index]\n",
        "exp_plots_shap[0].plot(exp_plots_shap[1:])"
      ]
    },
    {
      "cell_type": "code",
      "execution_count": null,
      "metadata": {},
      "outputs": [],
      "source": [
        "for i in class_index:\n",
        "  svc_exp_results['lime_shopping'][i].plot()"
      ]
    },
    {
      "cell_type": "code",
      "execution_count": null,
      "metadata": {},
      "outputs": [],
      "source": [
        "breakdown_df_shopping_comparch, shap_df_shopping_comparch, lime_df_shopping_comparch, df_final_svc_shopping_comparch = preprocess_dfs(breakdown_df_shopping_comparch, \n",
        "                                                                                                                                              shap_df_shopping_comparch, \n",
        "                                                                                                                                              lime_df_shopping_comparch, \n",
        "                                                                                                                                              num_features, top_num_features)\n",
        "print('----------------------------------------------')\n",
        "print(breakdown_df_shopping_comparch)\n",
        "print('----------------------------------------------')\n",
        "print(shap_df_shopping_comparch)\n",
        "print('----------------------------------------------')\n",
        "print(lime_df_shopping_comparch)"
      ]
    },
    {
      "cell_type": "code",
      "execution_count": null,
      "metadata": {},
      "outputs": [],
      "source": [
        "df_final_svc_shopping_comparch"
      ]
    },
    {
      "cell_type": "code",
      "execution_count": null,
      "metadata": {},
      "outputs": [],
      "source": [
        "breakdown_df_shopping_emp, shap_df_shopping_emp, lime_df_shopping_emp, df_final_svc_shopping_emp = preprocess_dfs(breakdown_df_shopping_emp, \n",
        "                                                                                                                          shap_df_shopping_emp, \n",
        "                                                                                                                          lime_df_shopping_emp, \n",
        "                                                                                                                          num_features, top_num_features)\n",
        "print('----------------------------------------------')\n",
        "print(breakdown_df_shopping_emp)\n",
        "print('----------------------------------------------')\n",
        "print(shap_df_shopping_emp)\n",
        "print('----------------------------------------------')\n",
        "print(lime_df_shopping_emp)"
      ]
    },
    {
      "cell_type": "code",
      "execution_count": null,
      "metadata": {},
      "outputs": [],
      "source": [
        "df_final_svc_shopping_emp"
      ]
    },
    {
      "cell_type": "code",
      "execution_count": null,
      "metadata": {},
      "outputs": [],
      "source": [
        "breakdown_df_shopping_rest, shap_df_shopping_rest, lime_df_shopping_rest, df_final_svc_shopping_rest = preprocess_dfs(breakdown_df_shopping_rest, \n",
        "                                                                                                                              shap_df_shopping_rest, \n",
        "                                                                                                                              lime_df_shopping_rest, \n",
        "                                                                                                                              num_features, top_num_features)\n",
        "print('----------------------------------------------')\n",
        "print(breakdown_df_shopping_rest)\n",
        "print('----------------------------------------------')\n",
        "print(shap_df_shopping_rest)\n",
        "print('----------------------------------------------')\n",
        "print(lime_df_shopping_rest)"
      ]
    },
    {
      "cell_type": "code",
      "execution_count": null,
      "metadata": {},
      "outputs": [],
      "source": [
        "df_final_svc_shopping_rest"
      ]
    },
    {
      "cell_type": "code",
      "execution_count": null,
      "metadata": {},
      "outputs": [],
      "source": [
        "breakdown_df_shopping_shop, shap_df_shopping_shop, lime_df_shopping_shop, df_final_svc_shopping_shop = preprocess_dfs(breakdown_df_shopping_shop, \n",
        "                                                                                                                              shap_df_shopping_shop, \n",
        "                                                                                                                              lime_df_shopping_shop, \n",
        "                                                                                                                              num_features, top_num_features)\n",
        "print('----------------------------------------------')\n",
        "print(breakdown_df_shopping_shop)\n",
        "print('----------------------------------------------')\n",
        "print(shap_df_shopping_shop)\n",
        "print('----------------------------------------------')\n",
        "print(lime_df_shopping_shop)"
      ]
    },
    {
      "cell_type": "code",
      "execution_count": null,
      "metadata": {},
      "outputs": [],
      "source": [
        "df_final_svc_shopping_shop"
      ]
    },
    {
      "cell_type": "code",
      "execution_count": null,
      "metadata": {},
      "outputs": [],
      "source": [
        "breakdown_df_shopping_smart, shap_df_shopping_smart, lime_df_shopping_smart, df_final_svc_shopping_smart = preprocess_dfs(breakdown_df_shopping_smart, \n",
        "                                                                                                                                  shap_df_shopping_smart, \n",
        "                                                                                                                                  lime_df_shopping_smart, \n",
        "                                                                                                                                  num_features, top_num_features)\n",
        "print('----------------------------------------------')\n",
        "print(breakdown_df_shopping_smart)\n",
        "print('----------------------------------------------')\n",
        "print(shap_df_shopping_smart)\n",
        "print('----------------------------------------------')\n",
        "print(lime_df_shopping_smart)"
      ]
    },
    {
      "cell_type": "code",
      "execution_count": null,
      "metadata": {},
      "outputs": [],
      "source": [
        "df_final_svc_shopping_smart"
      ]
    },
    {
      "cell_type": "markdown",
      "metadata": {},
      "source": [
        "### **Results Shopping:**"
      ]
    },
    {
      "cell_type": "code",
      "execution_count": null,
      "metadata": {},
      "outputs": [],
      "source": [
        "df_topfeatures_shopping_comparch = top5_features(df_final_svc_shopping_comparch, 'Shopping - Class: ComputerArchitecture')\n",
        "df_topfeatures_shopping_emp = top5_features(df_final_svc_shopping_emp, 'Shopping  - Class: Employee')\n",
        "df_topfeatures_shopping_rest = top5_features(df_final_svc_shopping_rest, 'Shopping - Class: Restaurant')\n",
        "df_topfeatures_shopping_shop = top5_features(df_final_svc_shopping_shop, 'Shopping  - Class: Shopping')\n",
        "df_topfeatures_shopping_smart = top5_features(df_final_svc_shopping_smart, 'Shopping  - Class: Smarthouse')\n",
        "\n",
        "df_topfeatures_shopping = pd.concat([df_topfeatures_shopping_comparch, df_topfeatures_shopping_emp, df_topfeatures_shopping_rest, \n",
        "                                       df_topfeatures_shopping_shop, df_topfeatures_shopping_smart])\n",
        "df_topfeatures_shopping"
      ]
    },
    {
      "cell_type": "code",
      "execution_count": null,
      "metadata": {},
      "outputs": [],
      "source": [
        "df_topfeatures_shopping_comparch_rank = top5_rank(df_final_svc_shopping_comparch, 'Shopping - Class: ComputerArchitecture')\n",
        "df_topfeatures_shopping_emp_rank = top5_rank(df_final_svc_shopping_emp, 'Shopping  - Class: Employee')\n",
        "df_topfeatures_shopping_rest_rank = top5_rank(df_final_svc_shopping_rest, 'Shopping  - Class: Restaurant')\n",
        "df_topfeatures_shopping_shop_rank = top5_rank(df_final_svc_shopping_shop, 'Shopping  - Class: Shopping')\n",
        "df_topfeatures_shopping_smart_rank = top5_rank(df_final_svc_shopping_smart, 'Shopping  - Class: Smarthouse')\n",
        "\n",
        "df_topfeatures_rank_shopping= pd.concat([df_topfeatures_shopping_comparch_rank, df_topfeatures_shopping_emp_rank, \n",
        "                                           df_topfeatures_shopping_rest_rank, df_topfeatures_shopping_shop_rank, df_topfeatures_shopping_smart_rank])\n",
        "df_topfeatures_rank_shopping"
      ]
    },
    {
      "cell_type": "code",
      "execution_count": null,
      "metadata": {},
      "outputs": [],
      "source": [
        "df_topfeatures_shopping_comparch_sign = top5_sign(df_final_svc_shopping_comparch, 'Shopping  - Class: ComputerArchitecture')\n",
        "df_topfeatures_shopping_emp_sign = top5_sign(df_final_svc_shopping_emp, 'Shopping  - Class: Employee')\n",
        "df_topfeatures_shopping_rest_sign = top5_sign(df_final_svc_shopping_rest, 'Shopping  - Class: Restaurant')\n",
        "df_topfeatures_shopping_shop_sign = top5_sign(df_final_svc_shopping_shop, 'Shopping  - Class: Shopping')\n",
        "df_topfeatures_shopping_smart_sign = top5_sign(df_final_svc_shopping_smart, 'Shopping  - Class: Smarthouse')\n",
        "\n",
        "df_topfeatures_sign_shopping = pd.concat([df_topfeatures_shopping_comparch_sign, df_topfeatures_shopping_emp_sign, \n",
        "                                            df_topfeatures_shopping_rest_sign, df_topfeatures_shopping_shop_sign, df_topfeatures_shopping_smart_sign])\n",
        "df_topfeatures_sign_shopping"
      ]
    },
    {
      "cell_type": "code",
      "execution_count": null,
      "metadata": {},
      "outputs": [],
      "source": [
        "df_topfeatures_shopping_comparch_rank_sign = top5_rank_sign(df_final_svc_shopping_comparch, 'Shopping  - Class: ComputerArchitecture')\n",
        "df_topfeatures_shopping_emp_rank_sign = top5_rank_sign(df_final_svc_shopping_emp, 'Shopping  - Class: Employee')\n",
        "df_topfeatures_shopping_rest_rank_sign = top5_rank_sign(df_final_svc_shopping_rest, 'Shopping  - Class: Restaurant')\n",
        "df_topfeatures_shopping_shop_rank_sign = top5_rank_sign(df_final_svc_shopping_shop, 'Shopping  - Class: Shopping')\n",
        "df_topfeatures_shopping_smart_rank_sign = top5_rank_sign(df_final_svc_shopping_smart, 'Shopping  - Class: Smarthouse')\n",
        "\n",
        "df_topfeatures_rank_sign_shopping = pd.concat([df_topfeatures_shopping_comparch_rank_sign, df_topfeatures_shopping_emp_rank_sign, \n",
        "                                                 df_topfeatures_shopping_rest_rank_sign, df_topfeatures_shopping_shop_rank_sign, \n",
        "                                                 df_topfeatures_shopping_smart_rank_sign])\n",
        "df_topfeatures_rank_sign_shopping"
      ]
    },
    {
      "cell_type": "markdown",
      "metadata": {},
      "source": [
        "### **SmartHouse:**"
      ]
    },
    {
      "cell_type": "code",
      "execution_count": null,
      "metadata": {},
      "outputs": [],
      "source": [
        "breakdown_df_smarthouse_comparch = svc_exp_results['breakdown_smarthouse'][2].result\n",
        "shap_df_smarthouse_comparch = svc_exp_results['shap_smarthouse'][2].result\n",
        "lime_df_smarthouse_comparch = svc_exp_results['lime_smarthouse'][2].result"
      ]
    },
    {
      "cell_type": "code",
      "execution_count": null,
      "metadata": {},
      "outputs": [],
      "source": [
        "breakdown_df_smarthouse_emp = svc_exp_results['breakdown_smarthouse'][4].result\n",
        "shap_df_smarthouse_emp = svc_exp_results['shap_smarthouse'][4].result\n",
        "lime_df_smarthouse_emp = svc_exp_results['lime_smarthouse'][4].result"
      ]
    },
    {
      "cell_type": "code",
      "execution_count": null,
      "metadata": {},
      "outputs": [],
      "source": [
        "breakdown_df_smarthouse_rest = svc_exp_results['breakdown_smarthouse'][7].result\n",
        "shap_df_smarthouse_rest = svc_exp_results['shap_smarthouse'][7].result\n",
        "lime_df_smarthouse_rest = svc_exp_results['lime_smarthouse'][7].result"
      ]
    },
    {
      "cell_type": "code",
      "execution_count": null,
      "metadata": {},
      "outputs": [],
      "source": [
        "breakdown_df_smarthouse_shop = svc_exp_results['breakdown_smarthouse'][8].result\n",
        "shap_df_smarthouse_shop = svc_exp_results['shap_smarthouse'][8].result\n",
        "lime_df_smarthouse_shop = svc_exp_results['lime_smarthouse'][8].result"
      ]
    },
    {
      "cell_type": "code",
      "execution_count": null,
      "metadata": {},
      "outputs": [],
      "source": [
        "breakdown_df_smarthouse_smart = svc_exp_results['breakdown_smarthouse'][9].result\n",
        "shap_df_smarthouse_smart = svc_exp_results['shap_smarthouse'][9].result\n",
        "lime_df_smarthouse_smart = svc_exp_results['lime_smarthouse'][9].result"
      ]
    },
    {
      "cell_type": "code",
      "execution_count": null,
      "metadata": {},
      "outputs": [],
      "source": [
        "exp_plots_bd = [svc_exp_results['breakdown_smarthouse'][i] for i in class_index]\n",
        "exp_plots_bd[0].plot(exp_plots_bd[1:])"
      ]
    },
    {
      "cell_type": "code",
      "execution_count": null,
      "metadata": {},
      "outputs": [],
      "source": [
        "exp_plots_shap = [svc_exp_results['shap_smarthouse'][i] for i in class_index]\n",
        "exp_plots_shap[0].plot(exp_plots_shap[1:])"
      ]
    },
    {
      "cell_type": "code",
      "execution_count": null,
      "metadata": {},
      "outputs": [],
      "source": [
        "for i in class_index:\n",
        "  svc_exp_results['lime_smarthouse'][i].plot()"
      ]
    },
    {
      "cell_type": "code",
      "execution_count": null,
      "metadata": {},
      "outputs": [],
      "source": [
        "breakdown_df_smarthouse_comparch, shap_df_smarthouse_comparch, lime_df_smarthouse_comparch, df_final_svc_smarthouse_comparch = preprocess_dfs(breakdown_df_smarthouse_comparch, \n",
        "                                                                                                                                      shap_df_smarthouse_comparch, \n",
        "                                                                                                                                      lime_df_smarthouse_comparch, \n",
        "                                                                                                                                      num_features, top_num_features)\n",
        "print('----------------------------------------------')\n",
        "print(breakdown_df_smarthouse_comparch)\n",
        "print('----------------------------------------------')\n",
        "print(shap_df_smarthouse_comparch)\n",
        "print('----------------------------------------------')\n",
        "print(lime_df_smarthouse_comparch)"
      ]
    },
    {
      "cell_type": "code",
      "execution_count": null,
      "metadata": {},
      "outputs": [],
      "source": [
        "df_final_svc_smarthouse_comparch"
      ]
    },
    {
      "cell_type": "code",
      "execution_count": null,
      "metadata": {},
      "outputs": [],
      "source": [
        "breakdown_df_smarthouse_emp, shap_df_smarthouse_emp, lime_df_smarthouse_emp, df_final_svc_smarthouse_emp = preprocess_dfs(breakdown_df_smarthouse_emp, \n",
        "                                                                                                                  shap_df_smarthouse_emp, \n",
        "                                                                                                                  lime_df_smarthouse_emp, \n",
        "                                                                                                                  num_features, top_num_features)\n",
        "print('----------------------------------------------')\n",
        "print(breakdown_df_smarthouse_emp)\n",
        "print('----------------------------------------------')\n",
        "print(shap_df_smarthouse_emp)\n",
        "print('----------------------------------------------')\n",
        "print(lime_df_smarthouse_emp)"
      ]
    },
    {
      "cell_type": "code",
      "execution_count": null,
      "metadata": {},
      "outputs": [],
      "source": [
        "df_final_svc_smarthouse_emp"
      ]
    },
    {
      "cell_type": "code",
      "execution_count": null,
      "metadata": {},
      "outputs": [],
      "source": [
        "breakdown_df_smarthouse_rest, shap_df_smarthouse_rest, lime_df_smarthouse_rest, df_final_svc_smarthouse_rest = preprocess_dfs(breakdown_df_smarthouse_rest, \n",
        "                                                                                                                      shap_df_smarthouse_rest, \n",
        "                                                                                                                      lime_df_smarthouse_rest, \n",
        "                                                                                                                      num_features, top_num_features)\n",
        "print('----------------------------------------------')\n",
        "print(breakdown_df_smarthouse_rest)\n",
        "print('----------------------------------------------')\n",
        "print(shap_df_smarthouse_rest)\n",
        "print('----------------------------------------------')\n",
        "print(lime_df_smarthouse_rest)"
      ]
    },
    {
      "cell_type": "code",
      "execution_count": null,
      "metadata": {},
      "outputs": [],
      "source": [
        "df_final_svc_smarthouse_rest"
      ]
    },
    {
      "cell_type": "code",
      "execution_count": null,
      "metadata": {},
      "outputs": [],
      "source": [
        "breakdown_df_smarthouse_shop, shap_df_smarthouse_shop, lime_df_smarthouse_shop, df_final_svc_smarthouse_shop = preprocess_dfs(breakdown_df_smarthouse_shop, \n",
        "                                                                                                                      shap_df_smarthouse_shop, \n",
        "                                                                                                                      lime_df_smarthouse_shop, \n",
        "                                                                                                                      num_features, top_num_features)\n",
        "print('----------------------------------------------')\n",
        "print(breakdown_df_smarthouse_shop)\n",
        "print('----------------------------------------------')\n",
        "print(shap_df_smarthouse_shop)\n",
        "print('----------------------------------------------')\n",
        "print(lime_df_smarthouse_shop)"
      ]
    },
    {
      "cell_type": "code",
      "execution_count": null,
      "metadata": {},
      "outputs": [],
      "source": [
        "df_final_svc_smarthouse_shop"
      ]
    },
    {
      "cell_type": "code",
      "execution_count": null,
      "metadata": {},
      "outputs": [],
      "source": [
        "breakdown_df_smarthouse_smart, shap_df_smarthouse_smart, lime_df_smarthouse_smart, df_final_svc_smarthouse_smart = preprocess_dfs(breakdown_df_smarthouse_smart, \n",
        "                                                                                                                          shap_df_smarthouse_smart, \n",
        "                                                                                                                          lime_df_smarthouse_smart, \n",
        "                                                                                                                          num_features, top_num_features)\n",
        "print('----------------------------------------------')\n",
        "print(breakdown_df_smarthouse_smart)\n",
        "print('----------------------------------------------')\n",
        "print(shap_df_smarthouse_smart)\n",
        "print('----------------------------------------------')\n",
        "print(lime_df_smarthouse_smart)"
      ]
    },
    {
      "cell_type": "code",
      "execution_count": null,
      "metadata": {},
      "outputs": [],
      "source": [
        "df_final_svc_smarthouse_smart"
      ]
    },
    {
      "cell_type": "markdown",
      "metadata": {},
      "source": [
        "### **Results SmartHouse:**"
      ]
    },
    {
      "cell_type": "code",
      "execution_count": null,
      "metadata": {},
      "outputs": [],
      "source": [
        "df_topfeatures_smarthouse_comparch = top5_features(df_final_svc_smarthouse_comparch, 'SmartHouse - Class: ComputerArchitecture')\n",
        "df_topfeatures_smarthouse_emp = top5_features(df_final_svc_smarthouse_emp, 'SmartHouse - Class: Employee')\n",
        "df_topfeatures_smarthouse_rest = top5_features(df_final_svc_smarthouse_rest, 'SmartHouse - Class: Restaurant')\n",
        "df_topfeatures_smarthouse_shop = top5_features(df_final_svc_smarthouse_shop, 'SmartHouse - Class: Shopping')\n",
        "df_topfeatures_smarthouse_smart = top5_features(df_final_svc_smarthouse_smart, 'SmartHouse - Class: Smarthouse')\n",
        "\n",
        "df_topfeatures_smarthouse = pd.concat([df_topfeatures_smarthouse_comparch, df_topfeatures_smarthouse_emp, df_topfeatures_smarthouse_rest, \n",
        "                                     df_topfeatures_smarthouse_shop, df_topfeatures_smarthouse_smart])\n",
        "df_topfeatures_smarthouse"
      ]
    },
    {
      "cell_type": "code",
      "execution_count": null,
      "metadata": {},
      "outputs": [],
      "source": [
        "df_topfeatures_smarthouse_comparch_rank = top5_rank(df_final_svc_smarthouse_comparch, 'SmartHouse - Class: ComputerArchitecture')\n",
        "df_topfeatures_smarthouse_emp_rank = top5_rank(df_final_svc_smarthouse_emp, 'SmartHouse - Class: Employee')\n",
        "df_topfeatures_smarthouse_rest_rank = top5_rank(df_final_svc_smarthouse_rest, 'SmartHouse - Class: Restaurant')\n",
        "df_topfeatures_smarthouse_shop_rank = top5_rank(df_final_svc_smarthouse_shop, 'SmartHouse - Class: Shopping')\n",
        "df_topfeatures_smarthouse_smart_rank = top5_rank(df_final_svc_smarthouse_smart, 'SmartHouse - Class: Smarthouse')\n",
        "\n",
        "df_topfeatures_rank_smarthouse = pd.concat([df_topfeatures_smarthouse_comparch_rank, df_topfeatures_smarthouse_emp_rank, \n",
        "                                          df_topfeatures_smarthouse_rest_rank, df_topfeatures_smarthouse_shop_rank, df_topfeatures_smarthouse_smart_rank])\n",
        "df_topfeatures_rank_smarthouse"
      ]
    },
    {
      "cell_type": "code",
      "execution_count": null,
      "metadata": {},
      "outputs": [],
      "source": [
        "df_topfeatures_smarthouse_comparch_sign = top5_sign(df_final_svc_smarthouse_comparch, 'SmartHouse - Class: ComputerArchitecture')\n",
        "df_topfeatures_smarthouse_emp_sign = top5_sign(df_final_svc_smarthouse_emp, 'SmartHouse - Class: Employee')\n",
        "df_topfeatures_smarthouse_rest_sign = top5_sign(df_final_svc_smarthouse_rest, 'SmartHouse - Class: Restaurant')\n",
        "df_topfeatures_smarthouse_shop_sign = top5_sign(df_final_svc_smarthouse_shop, 'SmartHouse - Class: Shopping')\n",
        "df_topfeatures_smarthouse_smart_sign = top5_sign(df_final_svc_smarthouse_smart, 'SmartHouse - Class: Smarthouse')\n",
        "\n",
        "df_topfeatures_sign_smarthouse = pd.concat([df_topfeatures_smarthouse_comparch_sign, df_topfeatures_smarthouse_emp_sign, \n",
        "                                          df_topfeatures_smarthouse_rest_sign, df_topfeatures_smarthouse_shop_sign, df_topfeatures_smarthouse_smart_sign])\n",
        "df_topfeatures_sign_smarthouse"
      ]
    },
    {
      "cell_type": "code",
      "execution_count": null,
      "metadata": {},
      "outputs": [],
      "source": [
        "df_topfeatures_smarthouse_comparch_rank_sign = top5_rank_sign(df_final_svc_smarthouse_comparch, 'SmartHouse - Class: ComputerArchitecture')\n",
        "df_topfeatures_smarthouse_emp_rank_sign = top5_rank_sign(df_final_svc_smarthouse_emp, 'SmartHouse - Class: Employee')\n",
        "df_topfeatures_smarthouse_rest_rank_sign = top5_rank_sign(df_final_svc_smarthouse_rest, 'SmartHouse - Class: Restaurant')\n",
        "df_topfeatures_smarthouse_shop_rank_sign = top5_rank_sign(df_final_svc_smarthouse_shop, 'SmartHouse - Class: Shopping')\n",
        "df_topfeatures_smarthouse_smart_rank_sign = top5_rank_sign(df_final_svc_smarthouse_smart, 'SmartHouse - Class: Smarthouse')\n",
        "\n",
        "df_topfeatures_rank_sign_smarthouse = pd.concat([df_topfeatures_smarthouse_comparch_rank_sign, df_topfeatures_smarthouse_emp_rank_sign, \n",
        "                                              df_topfeatures_smarthouse_rest_rank_sign, df_topfeatures_smarthouse_shop_rank_sign, \n",
        "                                              df_topfeatures_smarthouse_smart_rank_sign])\n",
        "df_topfeatures_rank_sign_smarthouse"
      ]
    },
    {
      "cell_type": "markdown",
      "metadata": {
        "id": "Uf41eSzBLm5Z"
      },
      "source": [
        "## RF:"
      ]
    },
    {
      "cell_type": "code",
      "execution_count": null,
      "metadata": {
        "colab": {
          "base_uri": "https://localhost:8080/"
        },
        "id": "ibsjqGLa9cKy",
        "outputId": "f389e349-dab9-43d9-a328-73ab893a03c7"
      },
      "outputs": [],
      "source": [
        "exp_list_rf = []\n",
        "\n",
        "for i in range(len(unique_values)):\n",
        "    class_value = unique_values[i]\n",
        "    pf = lambda m, d, i=i: m.predict_proba(d)[:, i]\n",
        "    e = dx.Explainer(\n",
        "        model_rf, X_train,\n",
        "        y_train,\n",
        "        predict_function=pf,\n",
        "        label=f'RFClassifier: class {class_value}',\n",
        "        verbose=False\n",
        "    )\n",
        "    exp_list_rf += [e]\n",
        "\n",
        "exp_list_rf"
      ]
    },
    {
      "cell_type": "code",
      "execution_count": null,
      "metadata": {
        "id": "m5BxBQ5Y9cKy"
      },
      "outputs": [],
      "source": [
        "inst_computerarchitecture = X_test.loc[inst_comp_rf]\n",
        "inst_restaurant = X_test.loc[inst_rest_rf]\n",
        "inst_shopping = X_test.loc[inst_shop_rf]\n",
        "inst_employee = X_test.loc[inst_emp_rf]\n",
        "inst_smarthouse = X_test.loc[inst_smart_rf]"
      ]
    },
    {
      "cell_type": "code",
      "execution_count": null,
      "metadata": {
        "id": "d4hvqFLx9cKy"
      },
      "outputs": [],
      "source": [
        "rf_exp_results = {}\n",
        "\n",
        "for instance in inst_names:\n",
        "    breakdown_exp = [exp.predict_parts(eval(f\"inst_{instance}\"), type='break_down', random_state=42) for exp in exp_list_rf]\n",
        "    rf_exp_results[f\"breakdown_{instance}\"] = breakdown_exp\n",
        "\n",
        "    shap_exp = [exp.predict_parts(eval(f\"inst_{instance}\"), type='shap', random_state=42) for exp in exp_list_rf]\n",
        "    rf_exp_results[f\"shap_{instance}\"] = shap_exp\n",
        "\n",
        "    lime_exp = [exp.predict_surrogate(eval(f\"inst_{instance}\"), random_state=42, class_names=[0, unique_values[i]]) for i, exp in enumerate(exp_list_rf)]\n",
        "    rf_exp_results[f\"lime_{instance}\"] = lime_exp"
      ]
    },
    {
      "cell_type": "markdown",
      "metadata": {},
      "source": [
        "### **Computer-architecture:**"
      ]
    },
    {
      "cell_type": "code",
      "execution_count": null,
      "metadata": {},
      "outputs": [],
      "source": [
        "breakdown_df_computerarchitecture_comparch = rf_exp_results['breakdown_computerarchitecture'][2].result\n",
        "shap_df_computerarchitecture_comparch = rf_exp_results['shap_computerarchitecture'][2].result\n",
        "lime_df_computerarchitecture_comparch = rf_exp_results['lime_computerarchitecture'][2].result"
      ]
    },
    {
      "cell_type": "code",
      "execution_count": null,
      "metadata": {},
      "outputs": [],
      "source": [
        "breakdown_df_computerarchitecture_emp = rf_exp_results['breakdown_computerarchitecture'][4].result\n",
        "shap_df_computerarchitecture_emp = rf_exp_results['shap_computerarchitecture'][4].result\n",
        "lime_df_computerarchitecture_emp = rf_exp_results['lime_computerarchitecture'][4].result"
      ]
    },
    {
      "cell_type": "code",
      "execution_count": null,
      "metadata": {},
      "outputs": [],
      "source": [
        "breakdown_df_computerarchitecture_rest = rf_exp_results['breakdown_computerarchitecture'][7].result\n",
        "shap_df_computerarchitecture_rest = rf_exp_results['shap_computerarchitecture'][7].result\n",
        "lime_df_computerarchitecture_rest = rf_exp_results['lime_computerarchitecture'][7].result"
      ]
    },
    {
      "cell_type": "code",
      "execution_count": null,
      "metadata": {},
      "outputs": [],
      "source": [
        "breakdown_df_computerarchitecture_shop = rf_exp_results['breakdown_computerarchitecture'][8].result\n",
        "shap_df_computerarchitecture_shop = rf_exp_results['shap_computerarchitecture'][8].result\n",
        "lime_df_computerarchitecture_shop = rf_exp_results['lime_computerarchitecture'][8].result"
      ]
    },
    {
      "cell_type": "code",
      "execution_count": null,
      "metadata": {},
      "outputs": [],
      "source": [
        "breakdown_df_computerarchitecture_smart = rf_exp_results['breakdown_computerarchitecture'][9].result\n",
        "shap_df_computerarchitecture_smart = rf_exp_results['shap_computerarchitecture'][9].result\n",
        "lime_df_computerarchitecture_smart = rf_exp_results['lime_computerarchitecture'][9].result"
      ]
    },
    {
      "cell_type": "code",
      "execution_count": null,
      "metadata": {},
      "outputs": [],
      "source": [
        "exp_plots_bd = [rf_exp_results['breakdown_computerarchitecture'][i] for i in class_index]\n",
        "exp_plots_bd[0].plot(exp_plots_bd[1:])"
      ]
    },
    {
      "cell_type": "code",
      "execution_count": null,
      "metadata": {},
      "outputs": [],
      "source": [
        "exp_plots_shap = [rf_exp_results['shap_computerarchitecture'][i] for i in class_index]\n",
        "exp_plots_shap[0].plot(exp_plots_shap[1:])"
      ]
    },
    {
      "cell_type": "code",
      "execution_count": null,
      "metadata": {},
      "outputs": [],
      "source": [
        "for i in class_index:\n",
        "  rf_exp_results['lime_computerarchitecture'][i].plot()"
      ]
    },
    {
      "cell_type": "code",
      "execution_count": null,
      "metadata": {},
      "outputs": [],
      "source": [
        "breakdown_df_computerarchitecture_comparch, shap_df_computerarchitecture_comparch, lime_df_computerarchitecture_comparch, df_final_rf_computerarchitecture_comparch = preprocess_dfs(breakdown_df_computerarchitecture_comparch, \n",
        "                                                                                                                                                                                      shap_df_computerarchitecture_comparch, \n",
        "                                                                                                                                                                                      lime_df_computerarchitecture_comparch, \n",
        "                                                                                                                                                                                      num_features, top_num_features)\n",
        "print('----------------------------------------------')\n",
        "print(breakdown_df_computerarchitecture_comparch)\n",
        "print('----------------------------------------------')\n",
        "print(shap_df_computerarchitecture_comparch)\n",
        "print('----------------------------------------------')\n",
        "print(lime_df_computerarchitecture_comparch)"
      ]
    },
    {
      "cell_type": "code",
      "execution_count": null,
      "metadata": {},
      "outputs": [],
      "source": [
        "df_final_rf_computerarchitecture_comparch"
      ]
    },
    {
      "cell_type": "code",
      "execution_count": null,
      "metadata": {},
      "outputs": [],
      "source": [
        "breakdown_df_computerarchitecture_emp, shap_df_computerarchitecture_emp, lime_df_computerarchitecture_emp, df_final_rf_computerarchitecture_emp = preprocess_dfs(breakdown_df_computerarchitecture_emp, \n",
        "                                                                                                                                                                                      shap_df_computerarchitecture_emp, \n",
        "                                                                                                                                                                                      lime_df_computerarchitecture_emp, \n",
        "                                                                                                                                                                                      num_features, top_num_features)\n",
        "print('----------------------------------------------')\n",
        "print(breakdown_df_computerarchitecture_emp)\n",
        "print('----------------------------------------------')\n",
        "print(shap_df_computerarchitecture_emp)\n",
        "print('----------------------------------------------')\n",
        "print(lime_df_computerarchitecture_emp)"
      ]
    },
    {
      "cell_type": "code",
      "execution_count": null,
      "metadata": {},
      "outputs": [],
      "source": [
        "df_final_rf_computerarchitecture_emp"
      ]
    },
    {
      "cell_type": "code",
      "execution_count": null,
      "metadata": {},
      "outputs": [],
      "source": [
        "breakdown_df_computerarchitecture_rest, shap_df_computerarchitecture_rest, lime_df_computerarchitecture_rest, df_final_rf_computerarchitecture_rest = preprocess_dfs(breakdown_df_computerarchitecture_rest, \n",
        "                                                                                                                                                                                      shap_df_computerarchitecture_rest, \n",
        "                                                                                                                                                                                      lime_df_computerarchitecture_rest, \n",
        "                                                                                                                                                                                      num_features, top_num_features)\n",
        "print('----------------------------------------------')\n",
        "print(breakdown_df_computerarchitecture_rest)\n",
        "print('----------------------------------------------')\n",
        "print(shap_df_computerarchitecture_rest)\n",
        "print('----------------------------------------------')\n",
        "print(lime_df_computerarchitecture_rest)"
      ]
    },
    {
      "cell_type": "code",
      "execution_count": null,
      "metadata": {},
      "outputs": [],
      "source": [
        "df_final_rf_computerarchitecture_rest"
      ]
    },
    {
      "cell_type": "code",
      "execution_count": null,
      "metadata": {},
      "outputs": [],
      "source": [
        "breakdown_df_computerarchitecture_shop, shap_df_computerarchitecture_shop, lime_df_computerarchitecture_shop, df_final_rf_computerarchitecture_shop = preprocess_dfs(breakdown_df_computerarchitecture_shop, \n",
        "                                                                                                                                                                                      shap_df_computerarchitecture_shop, \n",
        "                                                                                                                                                                                      lime_df_computerarchitecture_shop, \n",
        "                                                                                                                                                                                      num_features, top_num_features)\n",
        "print('----------------------------------------------')\n",
        "print(breakdown_df_computerarchitecture_shop)\n",
        "print('----------------------------------------------')\n",
        "print(shap_df_computerarchitecture_shop)\n",
        "print('----------------------------------------------')\n",
        "print(lime_df_computerarchitecture_shop)"
      ]
    },
    {
      "cell_type": "code",
      "execution_count": null,
      "metadata": {},
      "outputs": [],
      "source": [
        "df_final_rf_computerarchitecture_shop"
      ]
    },
    {
      "cell_type": "code",
      "execution_count": null,
      "metadata": {},
      "outputs": [],
      "source": [
        "breakdown_df_computerarchitecture_smart, shap_df_computerarchitecture_smart, lime_df_computerarchitecture_smart, df_final_rf_computerarchitecture_smart = preprocess_dfs(breakdown_df_computerarchitecture_smart, \n",
        "                                                                                                                                                                                      shap_df_computerarchitecture_smart, \n",
        "                                                                                                                                                                                      lime_df_computerarchitecture_smart, \n",
        "                                                                                                                                                                                      num_features, top_num_features)\n",
        "print('----------------------------------------------')\n",
        "print(breakdown_df_computerarchitecture_smart)\n",
        "print('----------------------------------------------')\n",
        "print(shap_df_computerarchitecture_smart)\n",
        "print('----------------------------------------------')\n",
        "print(lime_df_computerarchitecture_smart)"
      ]
    },
    {
      "cell_type": "code",
      "execution_count": null,
      "metadata": {},
      "outputs": [],
      "source": [
        "df_final_rf_computerarchitecture_smart"
      ]
    },
    {
      "cell_type": "markdown",
      "metadata": {},
      "source": [
        "### **Results Computer-architecture:**"
      ]
    },
    {
      "cell_type": "code",
      "execution_count": null,
      "metadata": {},
      "outputs": [],
      "source": [
        "df_topfeatures_comparch_comparch = top5_features(df_final_rf_computerarchitecture_comparch, 'ComputerArchitecture - Class: ComputerArchitecture')\n",
        "df_topfeatures_comparch_emp = top5_features(df_final_rf_computerarchitecture_emp, 'ComputerArchitecture - Class: Employee')\n",
        "df_topfeatures_comparch_rest = top5_features(df_final_rf_computerarchitecture_rest, 'ComputerArchitecture - Class: Restaurant')\n",
        "df_topfeatures_comparch_shop = top5_features(df_final_rf_computerarchitecture_shop, 'ComputerArchitecture - Class: Shopping')\n",
        "df_topfeatures_comparch_smart = top5_features(df_final_rf_computerarchitecture_smart, 'ComputerArchitecture - Class: Smarthouse')\n",
        "\n",
        "df_topfeatures_computerarchitecture = pd.concat([df_topfeatures_comparch_comparch, df_topfeatures_comparch_emp, df_topfeatures_comparch_rest, \n",
        "                                                 df_topfeatures_comparch_shop, df_topfeatures_comparch_smart])\n",
        "df_topfeatures_computerarchitecture"
      ]
    },
    {
      "cell_type": "code",
      "execution_count": null,
      "metadata": {},
      "outputs": [],
      "source": [
        "df_topfeatures_comparch_comparch_rank = top5_rank(df_final_rf_computerarchitecture_comparch, 'ComputerArchitecture - Class: ComputerArchitecture')\n",
        "df_topfeatures_comparch_emp_rank = top5_rank(df_final_rf_computerarchitecture_emp, 'ComputerArchitecture - Class: Employee')\n",
        "df_topfeatures_comparch_rest_rank = top5_rank(df_final_rf_computerarchitecture_rest, 'ComputerArchitecture - Class: Restaurant')\n",
        "df_topfeatures_comparch_shop_rank = top5_rank(df_final_rf_computerarchitecture_shop, 'ComputerArchitecture - Class: Shopping')\n",
        "df_topfeatures_comparch_smart_rank = top5_rank(df_final_rf_computerarchitecture_smart, 'ComputerArchitecture - Class: Smarthouse')\n",
        "\n",
        "df_topfeatures_rank_computerarchitecture = pd.concat([df_topfeatures_comparch_comparch_rank, df_topfeatures_comparch_emp_rank, \n",
        "                                                      df_topfeatures_comparch_rest_rank, df_topfeatures_comparch_shop_rank, df_topfeatures_comparch_smart_rank])\n",
        "df_topfeatures_rank_computerarchitecture"
      ]
    },
    {
      "cell_type": "code",
      "execution_count": null,
      "metadata": {},
      "outputs": [],
      "source": [
        "df_topfeatures_comparch_comparch_sign = top5_sign(df_final_rf_computerarchitecture_comparch, 'ComputerArchitecture - Class: ComputerArchitecture')\n",
        "df_topfeatures_comparch_emp_sign = top5_sign(df_final_rf_computerarchitecture_emp, 'ComputerArchitecture - Class: Employee')\n",
        "df_topfeatures_comparch_rest_sign = top5_sign(df_final_rf_computerarchitecture_rest, 'ComputerArchitecture - Class: Restaurant')\n",
        "df_topfeatures_comparch_shop_sign = top5_sign(df_final_rf_computerarchitecture_shop, 'ComputerArchitecture - Class: Shopping')\n",
        "df_topfeatures_comparch_smart_sign = top5_sign(df_final_rf_computerarchitecture_smart, 'ComputerArchitecture - Class: Smarthouse')\n",
        "\n",
        "df_topfeatures_sign_computerarchitecture = pd.concat([df_topfeatures_comparch_comparch_sign, df_topfeatures_comparch_emp_sign, \n",
        "                                                      df_topfeatures_comparch_rest_sign, df_topfeatures_comparch_shop_sign, df_topfeatures_comparch_smart_sign])\n",
        "df_topfeatures_sign_computerarchitecture"
      ]
    },
    {
      "cell_type": "code",
      "execution_count": null,
      "metadata": {},
      "outputs": [],
      "source": [
        "df_topfeatures_comparch_comparch_rank_sign = top5_rank_sign(df_final_rf_computerarchitecture_comparch, 'ComputerArchitecture - Class: ComputerArchitecture')\n",
        "df_topfeatures_comparch_emp_rank_sign = top5_rank_sign(df_final_rf_computerarchitecture_emp, 'ComputerArchitecture - Class: Employee')\n",
        "df_topfeatures_comparch_rest_rank_sign = top5_rank_sign(df_final_rf_computerarchitecture_rest, 'ComputerArchitecture - Class: Restaurant')\n",
        "df_topfeatures_comparch_shop_rank_sign = top5_rank_sign(df_final_rf_computerarchitecture_shop, 'ComputerArchitecture - Class: Shopping')\n",
        "df_topfeatures_comparch_smart_rank_sign = top5_rank_sign(df_final_rf_computerarchitecture_smart, 'ComputerArchitecture - Class: Smarthouse')\n",
        "\n",
        "df_topfeatures_rank_sign_computerarchitecture = pd.concat([df_topfeatures_comparch_comparch_rank_sign, df_topfeatures_comparch_emp_rank_sign, \n",
        "                                                           df_topfeatures_comparch_rest_rank_sign, df_topfeatures_comparch_shop_rank_sign, \n",
        "                                                           df_topfeatures_comparch_smart_rank_sign])\n",
        "df_topfeatures_rank_sign_computerarchitecture"
      ]
    },
    {
      "cell_type": "markdown",
      "metadata": {},
      "source": [
        "### **Employee:**"
      ]
    },
    {
      "cell_type": "code",
      "execution_count": null,
      "metadata": {},
      "outputs": [],
      "source": [
        "breakdown_df_employee_comparch = rf_exp_results['breakdown_employee'][2].result\n",
        "shap_df_employee_comparch = rf_exp_results['shap_employee'][2].result\n",
        "lime_df_employee_comparch = rf_exp_results['lime_employee'][2].result"
      ]
    },
    {
      "cell_type": "code",
      "execution_count": null,
      "metadata": {},
      "outputs": [],
      "source": [
        "breakdown_df_employee_emp = rf_exp_results['breakdown_employee'][4].result\n",
        "shap_df_employee_emp = rf_exp_results['shap_employee'][4].result\n",
        "lime_df_employee_emp = rf_exp_results['lime_employee'][4].result"
      ]
    },
    {
      "cell_type": "code",
      "execution_count": null,
      "metadata": {},
      "outputs": [],
      "source": [
        "breakdown_df_employee_rest = rf_exp_results['breakdown_employee'][7].result\n",
        "shap_df_employee_rest = rf_exp_results['shap_employee'][7].result\n",
        "lime_df_employee_rest = rf_exp_results['lime_employee'][7].result"
      ]
    },
    {
      "cell_type": "code",
      "execution_count": null,
      "metadata": {},
      "outputs": [],
      "source": [
        "breakdown_df_employee_shop = rf_exp_results['breakdown_employee'][8].result\n",
        "shap_df_employee_shop = rf_exp_results['shap_employee'][8].result\n",
        "lime_df_employee_shop = rf_exp_results['lime_employee'][8].result"
      ]
    },
    {
      "cell_type": "code",
      "execution_count": null,
      "metadata": {},
      "outputs": [],
      "source": [
        "breakdown_df_employee_smart = rf_exp_results['breakdown_employee'][9].result\n",
        "shap_df_employee_smart = rf_exp_results['shap_employee'][9].result\n",
        "lime_df_employee_smart = rf_exp_results['lime_employee'][9].result"
      ]
    },
    {
      "cell_type": "code",
      "execution_count": null,
      "metadata": {},
      "outputs": [],
      "source": [
        "exp_plots_bd = [rf_exp_results['breakdown_employee'][i] for i in class_index]\n",
        "exp_plots_bd[0].plot(exp_plots_bd[1:])"
      ]
    },
    {
      "cell_type": "code",
      "execution_count": null,
      "metadata": {},
      "outputs": [],
      "source": [
        "exp_plots_shap = [rf_exp_results['shap_employee'][i] for i in class_index]\n",
        "exp_plots_shap[0].plot(exp_plots_shap[1:])"
      ]
    },
    {
      "cell_type": "code",
      "execution_count": null,
      "metadata": {},
      "outputs": [],
      "source": [
        "for i in class_index:\n",
        "  rf_exp_results['lime_employee'][i].plot()"
      ]
    },
    {
      "cell_type": "code",
      "execution_count": null,
      "metadata": {},
      "outputs": [],
      "source": [
        "breakdown_df_employee_comparch, shap_df_employee_comparch, lime_df_employee_comparch, df_final_rf_employee_comparch = preprocess_dfs(breakdown_df_employee_comparch, \n",
        "                                                                                                                                      shap_df_employee_comparch, \n",
        "                                                                                                                                      lime_df_employee_comparch, \n",
        "                                                                                                                                      num_features, top_num_features)\n",
        "print('----------------------------------------------')\n",
        "print(breakdown_df_employee_comparch)\n",
        "print('----------------------------------------------')\n",
        "print(shap_df_employee_comparch)\n",
        "print('----------------------------------------------')\n",
        "print(lime_df_employee_comparch)"
      ]
    },
    {
      "cell_type": "code",
      "execution_count": null,
      "metadata": {},
      "outputs": [],
      "source": [
        "df_final_rf_employee_comparch"
      ]
    },
    {
      "cell_type": "code",
      "execution_count": null,
      "metadata": {},
      "outputs": [],
      "source": [
        "breakdown_df_employee_emp, shap_df_employee_emp, lime_df_employee_emp, df_final_rf_employee_emp = preprocess_dfs(breakdown_df_employee_emp, \n",
        "                                                                                                                  shap_df_employee_emp, \n",
        "                                                                                                                  lime_df_employee_emp, \n",
        "                                                                                                                  num_features, top_num_features)\n",
        "print('----------------------------------------------')\n",
        "print(breakdown_df_employee_emp)\n",
        "print('----------------------------------------------')\n",
        "print(shap_df_employee_emp)\n",
        "print('----------------------------------------------')\n",
        "print(lime_df_employee_emp)"
      ]
    },
    {
      "cell_type": "code",
      "execution_count": null,
      "metadata": {},
      "outputs": [],
      "source": [
        "df_final_rf_employee_emp"
      ]
    },
    {
      "cell_type": "code",
      "execution_count": null,
      "metadata": {},
      "outputs": [],
      "source": [
        "breakdown_df_employee_rest, shap_df_employee_rest, lime_df_employee_rest, df_final_rf_employee_rest = preprocess_dfs(breakdown_df_employee_rest, \n",
        "                                                                                                                      shap_df_employee_rest, \n",
        "                                                                                                                      lime_df_employee_rest, \n",
        "                                                                                                                      num_features, top_num_features)\n",
        "print('----------------------------------------------')\n",
        "print(breakdown_df_employee_rest)\n",
        "print('----------------------------------------------')\n",
        "print(shap_df_employee_rest)\n",
        "print('----------------------------------------------')\n",
        "print(lime_df_employee_rest)"
      ]
    },
    {
      "cell_type": "code",
      "execution_count": null,
      "metadata": {},
      "outputs": [],
      "source": [
        "df_final_rf_employee_rest"
      ]
    },
    {
      "cell_type": "code",
      "execution_count": null,
      "metadata": {},
      "outputs": [],
      "source": [
        "breakdown_df_employee_shop, shap_df_employee_shop, lime_df_employee_shop, df_final_rf_employee_shop = preprocess_dfs(breakdown_df_employee_shop, \n",
        "                                                                                                                      shap_df_employee_shop, \n",
        "                                                                                                                      lime_df_employee_shop, \n",
        "                                                                                                                      num_features, top_num_features)\n",
        "print('----------------------------------------------')\n",
        "print(breakdown_df_employee_shop)\n",
        "print('----------------------------------------------')\n",
        "print(shap_df_employee_shop)\n",
        "print('----------------------------------------------')\n",
        "print(lime_df_employee_shop)"
      ]
    },
    {
      "cell_type": "code",
      "execution_count": null,
      "metadata": {},
      "outputs": [],
      "source": [
        "df_final_rf_employee_shop"
      ]
    },
    {
      "cell_type": "code",
      "execution_count": null,
      "metadata": {},
      "outputs": [],
      "source": [
        "breakdown_df_employee_smart, shap_df_employee_smart, lime_df_employee_smart, df_final_rf_employee_smart = preprocess_dfs(breakdown_df_employee_smart, \n",
        "                                                                                                                          shap_df_employee_smart, \n",
        "                                                                                                                          lime_df_employee_smart, \n",
        "                                                                                                                          num_features, top_num_features)\n",
        "print('----------------------------------------------')\n",
        "print(breakdown_df_employee_smart)\n",
        "print('----------------------------------------------')\n",
        "print(shap_df_employee_smart)\n",
        "print('----------------------------------------------')\n",
        "print(lime_df_employee_smart)"
      ]
    },
    {
      "cell_type": "code",
      "execution_count": null,
      "metadata": {},
      "outputs": [],
      "source": [
        "df_final_rf_employee_smart"
      ]
    },
    {
      "cell_type": "markdown",
      "metadata": {},
      "source": [
        "### **Results Employee:**"
      ]
    },
    {
      "cell_type": "code",
      "execution_count": null,
      "metadata": {},
      "outputs": [],
      "source": [
        "df_topfeatures_employee_comparch = top5_features(df_final_rf_employee_comparch, 'Employee - Class: ComputerArchitecture')\n",
        "df_topfeatures_employee_emp = top5_features(df_final_rf_employee_emp, 'Employee - Class: Employee')\n",
        "df_topfeatures_employee_rest = top5_features(df_final_rf_employee_rest, 'Employee - Class: Restaurant')\n",
        "df_topfeatures_employee_shop = top5_features(df_final_rf_employee_shop, 'Employee - Class: Shopping')\n",
        "df_topfeatures_employee_smart = top5_features(df_final_rf_employee_smart, 'Employee - Class: Smarthouse')\n",
        "\n",
        "df_topfeatures_employee = pd.concat([df_topfeatures_employee_comparch, df_topfeatures_employee_emp, df_topfeatures_employee_rest, \n",
        "                                     df_topfeatures_employee_shop, df_topfeatures_employee_smart])\n",
        "df_topfeatures_employee"
      ]
    },
    {
      "cell_type": "code",
      "execution_count": null,
      "metadata": {},
      "outputs": [],
      "source": [
        "df_topfeatures_employee_comparch_rank = top5_rank(df_final_rf_employee_comparch, 'Employee - Class: ComputerArchitecture')\n",
        "df_topfeatures_employee_emp_rank = top5_rank(df_final_rf_employee_emp, 'Employee - Class: Employee')\n",
        "df_topfeatures_employee_rest_rank = top5_rank(df_final_rf_employee_rest, 'Employee - Class: Restaurant')\n",
        "df_topfeatures_employee_shop_rank = top5_rank(df_final_rf_employee_shop, 'Employee - Class: Shopping')\n",
        "df_topfeatures_employee_smart_rank = top5_rank(df_final_rf_employee_smart, 'Employee - Class: Smarthouse')\n",
        "\n",
        "df_topfeatures_rank_employee = pd.concat([df_topfeatures_employee_comparch_rank, df_topfeatures_employee_emp_rank, \n",
        "                                          df_topfeatures_employee_rest_rank, df_topfeatures_employee_shop_rank, df_topfeatures_employee_smart_rank])\n",
        "df_topfeatures_rank_employee"
      ]
    },
    {
      "cell_type": "code",
      "execution_count": null,
      "metadata": {},
      "outputs": [],
      "source": [
        "df_topfeatures_employee_comparch_sign = top5_sign(df_final_rf_employee_comparch, 'Employee - Class: ComputerArchitecture')\n",
        "df_topfeatures_employee_emp_sign = top5_sign(df_final_rf_employee_emp, 'Employee - Class: Employee')\n",
        "df_topfeatures_employee_rest_sign = top5_sign(df_final_rf_employee_rest, 'Employee - Class: Restaurant')\n",
        "df_topfeatures_employee_shop_sign = top5_sign(df_final_rf_employee_shop, 'Employee - Class: Shopping')\n",
        "df_topfeatures_employee_smart_sign = top5_sign(df_final_rf_employee_smart, 'Employee - Class: Smarthouse')\n",
        "\n",
        "df_topfeatures_sign_employee = pd.concat([df_topfeatures_employee_comparch_sign, df_topfeatures_employee_emp_sign, \n",
        "                                          df_topfeatures_employee_rest_sign, df_topfeatures_employee_shop_sign, df_topfeatures_employee_smart_sign])\n",
        "df_topfeatures_sign_employee"
      ]
    },
    {
      "cell_type": "code",
      "execution_count": null,
      "metadata": {},
      "outputs": [],
      "source": [
        "df_topfeatures_employee_comparch_rank_sign = top5_rank_sign(df_final_rf_employee_comparch, 'Employee - Class: ComputerArchitecture')\n",
        "df_topfeatures_employee_emp_rank_sign = top5_rank_sign(df_final_rf_employee_emp, 'Employee - Class: Employee')\n",
        "df_topfeatures_employee_rest_rank_sign = top5_rank_sign(df_final_rf_employee_rest, 'Employee - Class: Restaurant')\n",
        "df_topfeatures_employee_shop_rank_sign = top5_rank_sign(df_final_rf_employee_shop, 'Employee - Class: Shopping')\n",
        "df_topfeatures_employee_smart_rank_sign = top5_rank_sign(df_final_rf_employee_smart, 'Employee - Class: Smarthouse')\n",
        "\n",
        "df_topfeatures_rank_sign_employee = pd.concat([df_topfeatures_employee_comparch_rank_sign, df_topfeatures_employee_emp_rank_sign, \n",
        "                                              df_topfeatures_employee_rest_rank_sign, df_topfeatures_employee_shop_rank_sign, \n",
        "                                              df_topfeatures_employee_smart_rank_sign])\n",
        "df_topfeatures_rank_sign_employee"
      ]
    },
    {
      "cell_type": "markdown",
      "metadata": {},
      "source": [
        "### **Restaurant:**"
      ]
    },
    {
      "cell_type": "code",
      "execution_count": null,
      "metadata": {},
      "outputs": [],
      "source": [
        "breakdown_df_restaurant_comparch = rf_exp_results['breakdown_restaurant'][2].result\n",
        "shap_df_restaurant_comparch = rf_exp_results['shap_restaurant'][2].result\n",
        "lime_df_restaurant_comparch = rf_exp_results['lime_restaurant'][2].result"
      ]
    },
    {
      "cell_type": "code",
      "execution_count": null,
      "metadata": {},
      "outputs": [],
      "source": [
        "breakdown_df_restaurant_emp = rf_exp_results['breakdown_restaurant'][4].result\n",
        "shap_df_restaurant_emp = rf_exp_results['shap_restaurant'][4].result\n",
        "lime_df_restaurant_emp = rf_exp_results['lime_restaurant'][4].result"
      ]
    },
    {
      "cell_type": "code",
      "execution_count": null,
      "metadata": {},
      "outputs": [],
      "source": [
        "breakdown_df_restaurant_rest = rf_exp_results['breakdown_restaurant'][7].result\n",
        "shap_df_restaurant_rest = rf_exp_results['shap_restaurant'][7].result\n",
        "lime_df_restaurant_rest = rf_exp_results['lime_restaurant'][7].result"
      ]
    },
    {
      "cell_type": "code",
      "execution_count": null,
      "metadata": {},
      "outputs": [],
      "source": [
        "breakdown_df_restaurant_shop = rf_exp_results['breakdown_restaurant'][8].result\n",
        "shap_df_restaurant_shop = rf_exp_results['shap_restaurant'][8].result\n",
        "lime_df_restaurant_shop = rf_exp_results['lime_restaurant'][8].result"
      ]
    },
    {
      "cell_type": "code",
      "execution_count": null,
      "metadata": {},
      "outputs": [],
      "source": [
        "breakdown_df_restaurant_smart = rf_exp_results['breakdown_restaurant'][9].result\n",
        "shap_df_restaurant_smart = rf_exp_results['shap_restaurant'][9].result\n",
        "lime_df_restaurant_smart = rf_exp_results['lime_restaurant'][9].result"
      ]
    },
    {
      "cell_type": "code",
      "execution_count": null,
      "metadata": {},
      "outputs": [],
      "source": [
        "exp_plots_bd = [rf_exp_results['breakdown_restaurant'][i] for i in class_index]\n",
        "exp_plots_bd[0].plot(exp_plots_bd[1:])"
      ]
    },
    {
      "cell_type": "code",
      "execution_count": null,
      "metadata": {},
      "outputs": [],
      "source": [
        "exp_plots_shap = [rf_exp_results['shap_restaurant'][i] for i in class_index]\n",
        "exp_plots_shap[0].plot(exp_plots_shap[1:])"
      ]
    },
    {
      "cell_type": "code",
      "execution_count": null,
      "metadata": {},
      "outputs": [],
      "source": [
        "for i in class_index:\n",
        "  rf_exp_results['lime_restaurant'][i].plot()"
      ]
    },
    {
      "cell_type": "code",
      "execution_count": null,
      "metadata": {},
      "outputs": [],
      "source": [
        "breakdown_df_restaurant_comparch, shap_df_restaurant_comparch, lime_df_restaurant_comparch, df_final_rf_restaurant_comparch = preprocess_dfs(breakdown_df_restaurant_comparch, \n",
        "                                                                                                                                              shap_df_restaurant_comparch, \n",
        "                                                                                                                                              lime_df_restaurant_comparch, \n",
        "                                                                                                                                              num_features, top_num_features)\n",
        "print('----------------------------------------------')\n",
        "print(breakdown_df_restaurant_comparch)\n",
        "print('----------------------------------------------')\n",
        "print(shap_df_restaurant_comparch)\n",
        "print('----------------------------------------------')\n",
        "print(lime_df_restaurant_comparch)"
      ]
    },
    {
      "cell_type": "code",
      "execution_count": null,
      "metadata": {},
      "outputs": [],
      "source": [
        "df_final_rf_restaurant_comparch"
      ]
    },
    {
      "cell_type": "code",
      "execution_count": null,
      "metadata": {},
      "outputs": [],
      "source": [
        "breakdown_df_restaurant_emp, shap_df_restaurant_emp, lime_df_restaurant_emp, df_final_rf_restaurant_emp = preprocess_dfs(breakdown_df_restaurant_emp, \n",
        "                                                                                                                          shap_df_restaurant_emp, \n",
        "                                                                                                                          lime_df_restaurant_emp, \n",
        "                                                                                                                          num_features, top_num_features)\n",
        "print('----------------------------------------------')\n",
        "print(breakdown_df_restaurant_emp)\n",
        "print('----------------------------------------------')\n",
        "print(shap_df_restaurant_emp)\n",
        "print('----------------------------------------------')\n",
        "print(lime_df_restaurant_emp)"
      ]
    },
    {
      "cell_type": "code",
      "execution_count": null,
      "metadata": {},
      "outputs": [],
      "source": [
        "df_final_rf_restaurant_emp"
      ]
    },
    {
      "cell_type": "code",
      "execution_count": null,
      "metadata": {},
      "outputs": [],
      "source": [
        "breakdown_df_restaurant_rest, shap_df_restaurant_rest, lime_df_restaurant_rest, df_final_rf_restaurant_rest = preprocess_dfs(breakdown_df_restaurant_rest, \n",
        "                                                                                                                              shap_df_restaurant_rest, \n",
        "                                                                                                                              lime_df_restaurant_rest, \n",
        "                                                                                                                              num_features, top_num_features)\n",
        "print('----------------------------------------------')\n",
        "print(breakdown_df_restaurant_rest)\n",
        "print('----------------------------------------------')\n",
        "print(shap_df_restaurant_rest)\n",
        "print('----------------------------------------------')\n",
        "print(lime_df_restaurant_rest)"
      ]
    },
    {
      "cell_type": "code",
      "execution_count": null,
      "metadata": {},
      "outputs": [],
      "source": [
        "df_final_rf_restaurant_rest"
      ]
    },
    {
      "cell_type": "code",
      "execution_count": null,
      "metadata": {},
      "outputs": [],
      "source": [
        "breakdown_df_restaurant_shop, shap_df_restaurant_shop, lime_df_restaurant_shop, df_final_rf_restaurant_shop = preprocess_dfs(breakdown_df_restaurant_shop, \n",
        "                                                                                                                              shap_df_restaurant_shop, \n",
        "                                                                                                                              lime_df_restaurant_shop, \n",
        "                                                                                                                              num_features, top_num_features)\n",
        "print('----------------------------------------------')\n",
        "print(breakdown_df_restaurant_shop)\n",
        "print('----------------------------------------------')\n",
        "print(shap_df_restaurant_shop)\n",
        "print('----------------------------------------------')\n",
        "print(lime_df_restaurant_shop)"
      ]
    },
    {
      "cell_type": "code",
      "execution_count": null,
      "metadata": {},
      "outputs": [],
      "source": [
        "df_final_rf_restaurant_shop"
      ]
    },
    {
      "cell_type": "code",
      "execution_count": null,
      "metadata": {},
      "outputs": [],
      "source": [
        "breakdown_df_restaurant_smart, shap_df_restaurant_smart, lime_df_restaurant_smart, df_final_rf_restaurant_smart = preprocess_dfs(breakdown_df_restaurant_smart, \n",
        "                                                                                                                                  shap_df_restaurant_smart, \n",
        "                                                                                                                                  lime_df_restaurant_smart, \n",
        "                                                                                                                                  num_features, top_num_features)\n",
        "print('----------------------------------------------')\n",
        "print(breakdown_df_restaurant_smart)\n",
        "print('----------------------------------------------')\n",
        "print(shap_df_restaurant_smart)\n",
        "print('----------------------------------------------')\n",
        "print(lime_df_restaurant_smart)"
      ]
    },
    {
      "cell_type": "code",
      "execution_count": null,
      "metadata": {},
      "outputs": [],
      "source": [
        "df_final_rf_restaurant_smart"
      ]
    },
    {
      "cell_type": "markdown",
      "metadata": {},
      "source": [
        "### **Results Restaurant:**"
      ]
    },
    {
      "cell_type": "code",
      "execution_count": null,
      "metadata": {},
      "outputs": [],
      "source": [
        "df_topfeatures_restaurant_comparch = top5_features(df_final_rf_restaurant_comparch, 'Restaurant - Class: ComputerArchitecture')\n",
        "df_topfeatures_restaurant_emp = top5_features(df_final_rf_restaurant_emp, 'Restaurant - Class: Employee')\n",
        "df_topfeatures_restaurant_rest = top5_features(df_final_rf_restaurant_rest, 'Restaurant- Class: Restaurant')\n",
        "df_topfeatures_restaurant_shop = top5_features(df_final_rf_restaurant_shop, 'Restaurant - Class: Shopping')\n",
        "df_topfeatures_restaurant_smart = top5_features(df_final_rf_restaurant_smart, 'Restaurant - Class: Smarthouse')\n",
        "\n",
        "df_topfeatures_restaurant = pd.concat([df_topfeatures_restaurant_comparch, df_topfeatures_restaurant_emp, df_topfeatures_restaurant_rest, \n",
        "                                       df_topfeatures_restaurant_shop, df_topfeatures_restaurant_smart])\n",
        "df_topfeatures_restaurant"
      ]
    },
    {
      "cell_type": "code",
      "execution_count": null,
      "metadata": {},
      "outputs": [],
      "source": [
        "df_topfeatures_restaurant_comparch_rank = top5_rank(df_final_rf_restaurant_comparch, 'Restaurant- Class: ComputerArchitecture')\n",
        "df_topfeatures_restaurant_emp_rank = top5_rank(df_final_rf_restaurant_emp, 'Restaurant - Class: Employee')\n",
        "df_topfeatures_restaurant_rest_rank = top5_rank(df_final_rf_restaurant_rest, 'Restaurant - Class: Restaurant')\n",
        "df_topfeatures_restaurant_shop_rank = top5_rank(df_final_rf_restaurant_shop, 'Restaurant - Class: Shopping')\n",
        "df_topfeatures_restaurant_smart_rank = top5_rank(df_final_rf_restaurant_smart, 'Restaurant - Class: Smarthouse')\n",
        "\n",
        "df_topfeatures_rank_restaurant= pd.concat([df_topfeatures_restaurant_comparch_rank, df_topfeatures_restaurant_emp_rank, \n",
        "                                           df_topfeatures_restaurant_rest_rank, df_topfeatures_restaurant_shop_rank, df_topfeatures_restaurant_smart_rank])\n",
        "df_topfeatures_rank_restaurant"
      ]
    },
    {
      "cell_type": "code",
      "execution_count": null,
      "metadata": {},
      "outputs": [],
      "source": [
        "df_topfeatures_restaurant_comparch_sign = top5_sign(df_final_rf_restaurant_comparch, 'Restaurant - Class: ComputerArchitecture')\n",
        "df_topfeatures_restaurant_emp_sign = top5_sign(df_final_rf_restaurant_emp, 'Restaurant - Class: Employee')\n",
        "df_topfeatures_restaurant_rest_sign = top5_sign(df_final_rf_restaurant_rest, 'Restaurant - Class: Restaurant')\n",
        "df_topfeatures_restaurant_shop_sign = top5_sign(df_final_rf_restaurant_shop, 'Restaurant - Class: Shopping')\n",
        "df_topfeatures_restaurant_smart_sign = top5_sign(df_final_rf_restaurant_smart, 'Restaurant - Class: Smarthouse')\n",
        "\n",
        "df_topfeatures_sign_restaurant = pd.concat([df_topfeatures_restaurant_comparch_sign, df_topfeatures_restaurant_emp_sign, \n",
        "                                            df_topfeatures_restaurant_rest_sign, df_topfeatures_restaurant_shop_sign, df_topfeatures_restaurant_smart_sign])\n",
        "df_topfeatures_sign_restaurant"
      ]
    },
    {
      "cell_type": "code",
      "execution_count": null,
      "metadata": {},
      "outputs": [],
      "source": [
        "df_topfeatures_restaurant_comparch_rank_sign = top5_rank_sign(df_final_rf_restaurant_comparch, 'Restaurant - Class: ComputerArchitecture')\n",
        "df_topfeatures_restaurant_emp_rank_sign = top5_rank_sign(df_final_rf_restaurant_emp, 'Restaurant - Class: Employee')\n",
        "df_topfeatures_restaurant_rest_rank_sign = top5_rank_sign(df_final_rf_restaurant_rest, 'Restaurant - Class: Restaurant')\n",
        "df_topfeatures_restaurant_shop_rank_sign = top5_rank_sign(df_final_rf_restaurant_shop, 'Restaurant - Class: Shopping')\n",
        "df_topfeatures_restaurant_smart_rank_sign = top5_rank_sign(df_final_rf_restaurant_smart, 'Restaurant - Class: Smarthouse')\n",
        "\n",
        "df_topfeatures_rank_sign_restaurant = pd.concat([df_topfeatures_restaurant_comparch_rank_sign, df_topfeatures_restaurant_emp_rank_sign, \n",
        "                                                 df_topfeatures_restaurant_rest_rank_sign, df_topfeatures_restaurant_shop_rank_sign, \n",
        "                                                 df_topfeatures_restaurant_smart_rank_sign])\n",
        "df_topfeatures_rank_sign_restaurant"
      ]
    },
    {
      "cell_type": "markdown",
      "metadata": {},
      "source": [
        "### **Shopping:**"
      ]
    },
    {
      "cell_type": "code",
      "execution_count": null,
      "metadata": {},
      "outputs": [],
      "source": [
        "breakdown_df_shopping_comparch = rf_exp_results['breakdown_shopping'][2].result\n",
        "shap_df_shopping_comparch = rf_exp_results['shap_shopping'][2].result\n",
        "lime_df_shopping_comparch = rf_exp_results['lime_shopping'][2].result"
      ]
    },
    {
      "cell_type": "code",
      "execution_count": null,
      "metadata": {},
      "outputs": [],
      "source": [
        "breakdown_df_shopping_emp = rf_exp_results['breakdown_shopping'][4].result\n",
        "shap_df_shopping_emp = rf_exp_results['shap_shopping'][4].result\n",
        "lime_df_shopping_emp = rf_exp_results['lime_shopping'][4].result"
      ]
    },
    {
      "cell_type": "code",
      "execution_count": null,
      "metadata": {},
      "outputs": [],
      "source": [
        "breakdown_df_shopping_rest = rf_exp_results['breakdown_shopping'][7].result\n",
        "shap_df_shopping_rest = rf_exp_results['shap_shopping'][7].result\n",
        "lime_df_shopping_rest = rf_exp_results['lime_shopping'][7].result"
      ]
    },
    {
      "cell_type": "code",
      "execution_count": null,
      "metadata": {},
      "outputs": [],
      "source": [
        "breakdown_df_shopping_shop = rf_exp_results['breakdown_shopping'][8].result\n",
        "shap_df_shopping_shop = rf_exp_results['shap_shopping'][8].result\n",
        "lime_df_shopping_shop = rf_exp_results['lime_shopping'][8].result"
      ]
    },
    {
      "cell_type": "code",
      "execution_count": null,
      "metadata": {},
      "outputs": [],
      "source": [
        "breakdown_df_shopping_smart = rf_exp_results['breakdown_shopping'][9].result\n",
        "shap_df_shopping_smart = rf_exp_results['shap_shopping'][9].result\n",
        "lime_df_shopping_smart = rf_exp_results['lime_shopping'][9].result"
      ]
    },
    {
      "cell_type": "code",
      "execution_count": null,
      "metadata": {},
      "outputs": [],
      "source": [
        "exp_plots_bd = [rf_exp_results['breakdown_shopping'][i] for i in class_index]\n",
        "exp_plots_bd[0].plot(exp_plots_bd[1:])"
      ]
    },
    {
      "cell_type": "code",
      "execution_count": null,
      "metadata": {},
      "outputs": [],
      "source": [
        "exp_plots_shap = [rf_exp_results['shap_shopping'][i] for i in class_index]\n",
        "exp_plots_shap[0].plot(exp_plots_shap[1:])"
      ]
    },
    {
      "cell_type": "code",
      "execution_count": null,
      "metadata": {},
      "outputs": [],
      "source": [
        "for i in class_index:\n",
        "  rf_exp_results['lime_shopping'][i].plot()"
      ]
    },
    {
      "cell_type": "code",
      "execution_count": null,
      "metadata": {},
      "outputs": [],
      "source": [
        "breakdown_df_shopping_comparch, shap_df_shopping_comparch, lime_df_shopping_comparch, df_final_rf_shopping_comparch = preprocess_dfs(breakdown_df_shopping_comparch, \n",
        "                                                                                                                                              shap_df_shopping_comparch, \n",
        "                                                                                                                                              lime_df_shopping_comparch, \n",
        "                                                                                                                                              num_features, top_num_features)\n",
        "print('----------------------------------------------')\n",
        "print(breakdown_df_shopping_comparch)\n",
        "print('----------------------------------------------')\n",
        "print(shap_df_shopping_comparch)\n",
        "print('----------------------------------------------')\n",
        "print(lime_df_shopping_comparch)"
      ]
    },
    {
      "cell_type": "code",
      "execution_count": null,
      "metadata": {},
      "outputs": [],
      "source": [
        "df_final_rf_shopping_comparch"
      ]
    },
    {
      "cell_type": "code",
      "execution_count": null,
      "metadata": {},
      "outputs": [],
      "source": [
        "breakdown_df_shopping_emp, shap_df_shopping_emp, lime_df_shopping_emp, df_final_rf_shopping_emp = preprocess_dfs(breakdown_df_shopping_emp, \n",
        "                                                                                                                          shap_df_shopping_emp, \n",
        "                                                                                                                          lime_df_shopping_emp, \n",
        "                                                                                                                          num_features, top_num_features)\n",
        "print('----------------------------------------------')\n",
        "print(breakdown_df_shopping_emp)\n",
        "print('----------------------------------------------')\n",
        "print(shap_df_shopping_emp)\n",
        "print('----------------------------------------------')\n",
        "print(lime_df_shopping_emp)"
      ]
    },
    {
      "cell_type": "code",
      "execution_count": null,
      "metadata": {},
      "outputs": [],
      "source": [
        "df_final_rf_shopping_emp"
      ]
    },
    {
      "cell_type": "code",
      "execution_count": null,
      "metadata": {},
      "outputs": [],
      "source": [
        "breakdown_df_shopping_rest, shap_df_shopping_rest, lime_df_shopping_rest, df_final_rf_shopping_rest = preprocess_dfs(breakdown_df_shopping_rest, \n",
        "                                                                                                                              shap_df_shopping_rest, \n",
        "                                                                                                                              lime_df_shopping_rest, \n",
        "                                                                                                                              num_features, top_num_features)\n",
        "print('----------------------------------------------')\n",
        "print(breakdown_df_shopping_rest)\n",
        "print('----------------------------------------------')\n",
        "print(shap_df_shopping_rest)\n",
        "print('----------------------------------------------')\n",
        "print(lime_df_shopping_rest)"
      ]
    },
    {
      "cell_type": "code",
      "execution_count": null,
      "metadata": {},
      "outputs": [],
      "source": [
        "df_final_rf_shopping_rest"
      ]
    },
    {
      "cell_type": "code",
      "execution_count": null,
      "metadata": {},
      "outputs": [],
      "source": [
        "breakdown_df_shopping_shop, shap_df_shopping_shop, lime_df_shopping_shop, df_final_rf_shopping_shop = preprocess_dfs(breakdown_df_shopping_shop, \n",
        "                                                                                                                              shap_df_shopping_shop, \n",
        "                                                                                                                              lime_df_shopping_shop, \n",
        "                                                                                                                              num_features, top_num_features)\n",
        "print('----------------------------------------------')\n",
        "print(breakdown_df_shopping_shop)\n",
        "print('----------------------------------------------')\n",
        "print(shap_df_shopping_shop)\n",
        "print('----------------------------------------------')\n",
        "print(lime_df_shopping_shop)"
      ]
    },
    {
      "cell_type": "code",
      "execution_count": null,
      "metadata": {},
      "outputs": [],
      "source": [
        "df_final_rf_shopping_shop"
      ]
    },
    {
      "cell_type": "code",
      "execution_count": null,
      "metadata": {},
      "outputs": [],
      "source": [
        "breakdown_df_shopping_smart, shap_df_shopping_smart, lime_df_shopping_smart, df_final_rf_shopping_smart = preprocess_dfs(breakdown_df_shopping_smart, \n",
        "                                                                                                                                  shap_df_shopping_smart, \n",
        "                                                                                                                                  lime_df_shopping_smart, \n",
        "                                                                                                                                  num_features, top_num_features)\n",
        "print('----------------------------------------------')\n",
        "print(breakdown_df_shopping_smart)\n",
        "print('----------------------------------------------')\n",
        "print(shap_df_shopping_smart)\n",
        "print('----------------------------------------------')\n",
        "print(lime_df_shopping_smart)"
      ]
    },
    {
      "cell_type": "code",
      "execution_count": null,
      "metadata": {},
      "outputs": [],
      "source": [
        "df_final_rf_shopping_smart"
      ]
    },
    {
      "cell_type": "markdown",
      "metadata": {},
      "source": [
        "### **Results Shopping:**"
      ]
    },
    {
      "cell_type": "code",
      "execution_count": null,
      "metadata": {},
      "outputs": [],
      "source": [
        "df_topfeatures_shopping_comparch = top5_features(df_final_rf_shopping_comparch, 'Shopping - Class: ComputerArchitecture')\n",
        "df_topfeatures_shopping_emp = top5_features(df_final_rf_shopping_emp, 'Shopping  - Class: Employee')\n",
        "df_topfeatures_shopping_rest = top5_features(df_final_rf_shopping_rest, 'Shopping - Class: Restaurant')\n",
        "df_topfeatures_shopping_shop = top5_features(df_final_rf_shopping_shop, 'Shopping  - Class: Shopping')\n",
        "df_topfeatures_shopping_smart = top5_features(df_final_rf_shopping_smart, 'Shopping  - Class: Smarthouse')\n",
        "\n",
        "df_topfeatures_shopping = pd.concat([df_topfeatures_shopping_comparch, df_topfeatures_shopping_emp, df_topfeatures_shopping_rest, \n",
        "                                       df_topfeatures_shopping_shop, df_topfeatures_shopping_smart])\n",
        "df_topfeatures_shopping"
      ]
    },
    {
      "cell_type": "code",
      "execution_count": null,
      "metadata": {},
      "outputs": [],
      "source": [
        "df_topfeatures_shopping_comparch_rank = top5_rank(df_final_rf_shopping_comparch, 'Shopping - Class: ComputerArchitecture')\n",
        "df_topfeatures_shopping_emp_rank = top5_rank(df_final_rf_shopping_emp, 'Shopping  - Class: Employee')\n",
        "df_topfeatures_shopping_rest_rank = top5_rank(df_final_rf_shopping_rest, 'Shopping  - Class: Restaurant')\n",
        "df_topfeatures_shopping_shop_rank = top5_rank(df_final_rf_shopping_shop, 'Shopping  - Class: Shopping')\n",
        "df_topfeatures_shopping_smart_rank = top5_rank(df_final_rf_shopping_smart, 'Shopping  - Class: Smarthouse')\n",
        "\n",
        "df_topfeatures_rank_shopping= pd.concat([df_topfeatures_shopping_comparch_rank, df_topfeatures_shopping_emp_rank, \n",
        "                                           df_topfeatures_shopping_rest_rank, df_topfeatures_shopping_shop_rank, df_topfeatures_shopping_smart_rank])\n",
        "df_topfeatures_rank_shopping"
      ]
    },
    {
      "cell_type": "code",
      "execution_count": null,
      "metadata": {},
      "outputs": [],
      "source": [
        "df_topfeatures_shopping_comparch_sign = top5_sign(df_final_rf_shopping_comparch, 'Shopping  - Class: ComputerArchitecture')\n",
        "df_topfeatures_shopping_emp_sign = top5_sign(df_final_rf_shopping_emp, 'Shopping  - Class: Employee')\n",
        "df_topfeatures_shopping_rest_sign = top5_sign(df_final_rf_shopping_rest, 'Shopping  - Class: Restaurant')\n",
        "df_topfeatures_shopping_shop_sign = top5_sign(df_final_rf_shopping_shop, 'Shopping  - Class: Shopping')\n",
        "df_topfeatures_shopping_smart_sign = top5_sign(df_final_rf_shopping_smart, 'Shopping  - Class: Smarthouse')\n",
        "\n",
        "df_topfeatures_sign_shopping = pd.concat([df_topfeatures_shopping_comparch_sign, df_topfeatures_shopping_emp_sign, \n",
        "                                            df_topfeatures_shopping_rest_sign, df_topfeatures_shopping_shop_sign, df_topfeatures_shopping_smart_sign])\n",
        "df_topfeatures_sign_shopping"
      ]
    },
    {
      "cell_type": "code",
      "execution_count": null,
      "metadata": {},
      "outputs": [],
      "source": [
        "df_topfeatures_shopping_comparch_rank_sign = top5_rank_sign(df_final_rf_shopping_comparch, 'Shopping  - Class: ComputerArchitecture')\n",
        "df_topfeatures_shopping_emp_rank_sign = top5_rank_sign(df_final_rf_shopping_emp, 'Shopping  - Class: Employee')\n",
        "df_topfeatures_shopping_rest_rank_sign = top5_rank_sign(df_final_rf_shopping_rest, 'Shopping  - Class: Restaurant')\n",
        "df_topfeatures_shopping_shop_rank_sign = top5_rank_sign(df_final_rf_shopping_shop, 'Shopping  - Class: Shopping')\n",
        "df_topfeatures_shopping_smart_rank_sign = top5_rank_sign(df_final_rf_shopping_smart, 'Shopping  - Class: Smarthouse')\n",
        "\n",
        "df_topfeatures_rank_sign_shopping = pd.concat([df_topfeatures_shopping_comparch_rank_sign, df_topfeatures_shopping_emp_rank_sign, \n",
        "                                                 df_topfeatures_shopping_rest_rank_sign, df_topfeatures_shopping_shop_rank_sign, \n",
        "                                                 df_topfeatures_shopping_smart_rank_sign])\n",
        "df_topfeatures_rank_sign_shopping"
      ]
    },
    {
      "cell_type": "markdown",
      "metadata": {},
      "source": [
        "### **SmartHouse:**"
      ]
    },
    {
      "cell_type": "code",
      "execution_count": null,
      "metadata": {},
      "outputs": [],
      "source": [
        "breakdown_df_smarthouse_comparch = rf_exp_results['breakdown_smarthouse'][2].result\n",
        "shap_df_smarthouse_comparch = rf_exp_results['shap_smarthouse'][2].result\n",
        "lime_df_smarthouse_comparch = rf_exp_results['lime_smarthouse'][2].result"
      ]
    },
    {
      "cell_type": "code",
      "execution_count": null,
      "metadata": {},
      "outputs": [],
      "source": [
        "breakdown_df_smarthouse_emp = rf_exp_results['breakdown_smarthouse'][4].result\n",
        "shap_df_smarthouse_emp = rf_exp_results['shap_smarthouse'][4].result\n",
        "lime_df_smarthouse_emp = rf_exp_results['lime_smarthouse'][4].result"
      ]
    },
    {
      "cell_type": "code",
      "execution_count": null,
      "metadata": {},
      "outputs": [],
      "source": [
        "breakdown_df_smarthouse_rest = rf_exp_results['breakdown_smarthouse'][7].result\n",
        "shap_df_smarthouse_rest = rf_exp_results['shap_smarthouse'][7].result\n",
        "lime_df_smarthouse_rest = rf_exp_results['lime_smarthouse'][7].result"
      ]
    },
    {
      "cell_type": "code",
      "execution_count": null,
      "metadata": {},
      "outputs": [],
      "source": [
        "breakdown_df_smarthouse_shop = rf_exp_results['breakdown_smarthouse'][8].result\n",
        "shap_df_smarthouse_shop = rf_exp_results['shap_smarthouse'][8].result\n",
        "lime_df_smarthouse_shop = rf_exp_results['lime_smarthouse'][8].result"
      ]
    },
    {
      "cell_type": "code",
      "execution_count": null,
      "metadata": {},
      "outputs": [],
      "source": [
        "breakdown_df_smarthouse_smart = rf_exp_results['breakdown_smarthouse'][9].result\n",
        "shap_df_smarthouse_smart = rf_exp_results['shap_smarthouse'][9].result\n",
        "lime_df_smarthouse_smart = rf_exp_results['lime_smarthouse'][9].result"
      ]
    },
    {
      "cell_type": "code",
      "execution_count": null,
      "metadata": {},
      "outputs": [],
      "source": [
        "exp_plots_bd = [rf_exp_results['breakdown_smarthouse'][i] for i in class_index]\n",
        "exp_plots_bd[0].plot(exp_plots_bd[1:])"
      ]
    },
    {
      "cell_type": "code",
      "execution_count": null,
      "metadata": {},
      "outputs": [],
      "source": [
        "exp_plots_shap = [rf_exp_results['shap_smarthouse'][i] for i in class_index]\n",
        "exp_plots_shap[0].plot(exp_plots_shap[1:])"
      ]
    },
    {
      "cell_type": "code",
      "execution_count": null,
      "metadata": {},
      "outputs": [],
      "source": [
        "for i in class_index:\n",
        "  rf_exp_results['lime_smarthouse'][i].plot()"
      ]
    },
    {
      "cell_type": "code",
      "execution_count": null,
      "metadata": {},
      "outputs": [],
      "source": [
        "breakdown_df_smarthouse_comparch, shap_df_smarthouse_comparch, lime_df_smarthouse_comparch, df_final_rf_smarthouse_comparch = preprocess_dfs(breakdown_df_smarthouse_comparch, \n",
        "                                                                                                                                      shap_df_smarthouse_comparch, \n",
        "                                                                                                                                      lime_df_smarthouse_comparch, \n",
        "                                                                                                                                      num_features, top_num_features)\n",
        "print('----------------------------------------------')\n",
        "print(breakdown_df_smarthouse_comparch)\n",
        "print('----------------------------------------------')\n",
        "print(shap_df_smarthouse_comparch)\n",
        "print('----------------------------------------------')\n",
        "print(lime_df_smarthouse_comparch)"
      ]
    },
    {
      "cell_type": "code",
      "execution_count": null,
      "metadata": {},
      "outputs": [],
      "source": [
        "df_final_rf_smarthouse_comparch"
      ]
    },
    {
      "cell_type": "code",
      "execution_count": null,
      "metadata": {},
      "outputs": [],
      "source": [
        "breakdown_df_smarthouse_emp, shap_df_smarthouse_emp, lime_df_smarthouse_emp, df_final_rf_smarthouse_emp = preprocess_dfs(breakdown_df_smarthouse_emp, \n",
        "                                                                                                                  shap_df_smarthouse_emp, \n",
        "                                                                                                                  lime_df_smarthouse_emp, \n",
        "                                                                                                                  num_features, top_num_features)\n",
        "print('----------------------------------------------')\n",
        "print(breakdown_df_smarthouse_emp)\n",
        "print('----------------------------------------------')\n",
        "print(shap_df_smarthouse_emp)\n",
        "print('----------------------------------------------')\n",
        "print(lime_df_smarthouse_emp)"
      ]
    },
    {
      "cell_type": "code",
      "execution_count": null,
      "metadata": {},
      "outputs": [],
      "source": [
        "df_final_rf_smarthouse_emp"
      ]
    },
    {
      "cell_type": "code",
      "execution_count": null,
      "metadata": {},
      "outputs": [],
      "source": [
        "breakdown_df_smarthouse_rest, shap_df_smarthouse_rest, lime_df_smarthouse_rest, df_final_rf_smarthouse_rest = preprocess_dfs(breakdown_df_smarthouse_rest, \n",
        "                                                                                                                      shap_df_smarthouse_rest, \n",
        "                                                                                                                      lime_df_smarthouse_rest, \n",
        "                                                                                                                      num_features, top_num_features)\n",
        "print('----------------------------------------------')\n",
        "print(breakdown_df_smarthouse_rest)\n",
        "print('----------------------------------------------')\n",
        "print(shap_df_smarthouse_rest)\n",
        "print('----------------------------------------------')\n",
        "print(lime_df_smarthouse_rest)"
      ]
    },
    {
      "cell_type": "code",
      "execution_count": null,
      "metadata": {},
      "outputs": [],
      "source": [
        "df_final_rf_smarthouse_rest"
      ]
    },
    {
      "cell_type": "code",
      "execution_count": null,
      "metadata": {},
      "outputs": [],
      "source": [
        "breakdown_df_smarthouse_shop, shap_df_smarthouse_shop, lime_df_smarthouse_shop, df_final_rf_smarthouse_shop = preprocess_dfs(breakdown_df_smarthouse_shop, \n",
        "                                                                                                                      shap_df_smarthouse_shop, \n",
        "                                                                                                                      lime_df_smarthouse_shop, \n",
        "                                                                                                                      num_features, top_num_features)\n",
        "print('----------------------------------------------')\n",
        "print(breakdown_df_smarthouse_shop)\n",
        "print('----------------------------------------------')\n",
        "print(shap_df_smarthouse_shop)\n",
        "print('----------------------------------------------')\n",
        "print(lime_df_smarthouse_shop)"
      ]
    },
    {
      "cell_type": "code",
      "execution_count": null,
      "metadata": {},
      "outputs": [],
      "source": [
        "df_final_rf_smarthouse_shop"
      ]
    },
    {
      "cell_type": "code",
      "execution_count": null,
      "metadata": {},
      "outputs": [],
      "source": [
        "breakdown_df_smarthouse_smart, shap_df_smarthouse_smart, lime_df_smarthouse_smart, df_final_rf_smarthouse_smart = preprocess_dfs(breakdown_df_smarthouse_smart, \n",
        "                                                                                                                          shap_df_smarthouse_smart, \n",
        "                                                                                                                          lime_df_smarthouse_smart, \n",
        "                                                                                                                          num_features, top_num_features)\n",
        "print('----------------------------------------------')\n",
        "print(breakdown_df_smarthouse_smart)\n",
        "print('----------------------------------------------')\n",
        "print(shap_df_smarthouse_smart)\n",
        "print('----------------------------------------------')\n",
        "print(lime_df_smarthouse_smart)"
      ]
    },
    {
      "cell_type": "code",
      "execution_count": null,
      "metadata": {},
      "outputs": [],
      "source": [
        "df_final_rf_smarthouse_smart"
      ]
    },
    {
      "cell_type": "markdown",
      "metadata": {},
      "source": [
        "### **Results SmartHouse:**"
      ]
    },
    {
      "cell_type": "code",
      "execution_count": null,
      "metadata": {},
      "outputs": [],
      "source": [
        "df_topfeatures_smarthouse_comparch = top5_features(df_final_rf_smarthouse_comparch, 'SmartHouse - Class: ComputerArchitecture')\n",
        "df_topfeatures_smarthouse_emp = top5_features(df_final_rf_smarthouse_emp, 'SmartHouse - Class: Employee')\n",
        "df_topfeatures_smarthouse_rest = top5_features(df_final_rf_smarthouse_rest, 'SmartHouse - Class: Restaurant')\n",
        "df_topfeatures_smarthouse_shop = top5_features(df_final_rf_smarthouse_shop, 'SmartHouse - Class: Shopping')\n",
        "df_topfeatures_smarthouse_smart = top5_features(df_final_rf_smarthouse_smart, 'SmartHouse - Class: Smarthouse')\n",
        "\n",
        "df_topfeatures_smarthouse = pd.concat([df_topfeatures_smarthouse_comparch, df_topfeatures_smarthouse_emp, df_topfeatures_smarthouse_rest, \n",
        "                                     df_topfeatures_smarthouse_shop, df_topfeatures_smarthouse_smart])\n",
        "df_topfeatures_smarthouse"
      ]
    },
    {
      "cell_type": "code",
      "execution_count": null,
      "metadata": {},
      "outputs": [],
      "source": [
        "df_topfeatures_smarthouse_comparch_rank = top5_rank(df_final_rf_smarthouse_comparch, 'SmartHouse - Class: ComputerArchitecture')\n",
        "df_topfeatures_smarthouse_emp_rank = top5_rank(df_final_rf_smarthouse_emp, 'SmartHouse - Class: Employee')\n",
        "df_topfeatures_smarthouse_rest_rank = top5_rank(df_final_rf_smarthouse_rest, 'SmartHouse - Class: Restaurant')\n",
        "df_topfeatures_smarthouse_shop_rank = top5_rank(df_final_rf_smarthouse_shop, 'SmartHouse - Class: Shopping')\n",
        "df_topfeatures_smarthouse_smart_rank = top5_rank(df_final_rf_smarthouse_smart, 'SmartHouse - Class: Smarthouse')\n",
        "\n",
        "df_topfeatures_rank_smarthouse = pd.concat([df_topfeatures_smarthouse_comparch_rank, df_topfeatures_smarthouse_emp_rank, \n",
        "                                          df_topfeatures_smarthouse_rest_rank, df_topfeatures_smarthouse_shop_rank, df_topfeatures_smarthouse_smart_rank])\n",
        "df_topfeatures_rank_smarthouse"
      ]
    },
    {
      "cell_type": "code",
      "execution_count": null,
      "metadata": {},
      "outputs": [],
      "source": [
        "df_topfeatures_smarthouse_comparch_sign = top5_sign(df_final_rf_smarthouse_comparch, 'SmartHouse - Class: ComputerArchitecture')\n",
        "df_topfeatures_smarthouse_emp_sign = top5_sign(df_final_rf_smarthouse_emp, 'SmartHouse - Class: Employee')\n",
        "df_topfeatures_smarthouse_rest_sign = top5_sign(df_final_rf_smarthouse_rest, 'SmartHouse - Class: Restaurant')\n",
        "df_topfeatures_smarthouse_shop_sign = top5_sign(df_final_rf_smarthouse_shop, 'SmartHouse - Class: Shopping')\n",
        "df_topfeatures_smarthouse_smart_sign = top5_sign(df_final_rf_smarthouse_smart, 'SmartHouse - Class: Smarthouse')\n",
        "\n",
        "df_topfeatures_sign_smarthouse = pd.concat([df_topfeatures_smarthouse_comparch_sign, df_topfeatures_smarthouse_emp_sign, \n",
        "                                          df_topfeatures_smarthouse_rest_sign, df_topfeatures_smarthouse_shop_sign, df_topfeatures_smarthouse_smart_sign])\n",
        "df_topfeatures_sign_smarthouse"
      ]
    },
    {
      "cell_type": "code",
      "execution_count": null,
      "metadata": {},
      "outputs": [],
      "source": [
        "df_topfeatures_smarthouse_comparch_rank_sign = top5_rank_sign(df_final_rf_smarthouse_comparch, 'SmartHouse - Class: ComputerArchitecture')\n",
        "df_topfeatures_smarthouse_emp_rank_sign = top5_rank_sign(df_final_rf_smarthouse_emp, 'SmartHouse - Class: Employee')\n",
        "df_topfeatures_smarthouse_rest_rank_sign = top5_rank_sign(df_final_rf_smarthouse_rest, 'SmartHouse - Class: Restaurant')\n",
        "df_topfeatures_smarthouse_shop_rank_sign = top5_rank_sign(df_final_rf_smarthouse_shop, 'SmartHouse - Class: Shopping')\n",
        "df_topfeatures_smarthouse_smart_rank_sign = top5_rank_sign(df_final_rf_smarthouse_smart, 'SmartHouse - Class: Smarthouse')\n",
        "\n",
        "df_topfeatures_rank_sign_smarthouse = pd.concat([df_topfeatures_smarthouse_comparch_rank_sign, df_topfeatures_smarthouse_emp_rank_sign, \n",
        "                                              df_topfeatures_smarthouse_rest_rank_sign, df_topfeatures_smarthouse_shop_rank_sign, \n",
        "                                              df_topfeatures_smarthouse_smart_rank_sign])\n",
        "df_topfeatures_rank_sign_smarthouse"
      ]
    },
    {
      "cell_type": "markdown",
      "metadata": {
        "id": "JYUeHHFBL7aX"
      },
      "source": [
        "## KNN:"
      ]
    },
    {
      "cell_type": "code",
      "execution_count": null,
      "metadata": {
        "colab": {
          "base_uri": "https://localhost:8080/"
        },
        "id": "2TxzJkdQZ2qB",
        "outputId": "ac395ba4-ed30-4ee9-db88-c924ef0152b8"
      },
      "outputs": [],
      "source": [
        "exp_list_knn = []\n",
        "\n",
        "for i in range(len(unique_values)):\n",
        "    class_value = unique_values[i]\n",
        "    pf = lambda m, d, i=i: m.predict_proba(d)[:, i]\n",
        "    e = dx.Explainer(\n",
        "        model_knn, X_train,\n",
        "        y_train,\n",
        "        predict_function=pf,\n",
        "        label=f'KNNClassifier: class {class_value}',\n",
        "        verbose=False\n",
        "    )\n",
        "    exp_list_knn += [e]\n",
        "\n",
        "exp_list_knn"
      ]
    },
    {
      "cell_type": "code",
      "execution_count": null,
      "metadata": {
        "id": "lrPKYAuKZ2qB"
      },
      "outputs": [],
      "source": [
        "inst_computerarchitecture = X_test.loc[inst_comp_knn]\n",
        "inst_restaurant = X_test.loc[inst_rest_knn]\n",
        "inst_shopping = X_test.loc[inst_shop_knn]\n",
        "inst_employee = X_test.loc[inst_emp_knn]\n",
        "inst_smarthouse = X_test.loc[inst_smart_knn]"
      ]
    },
    {
      "cell_type": "code",
      "execution_count": null,
      "metadata": {
        "id": "RtBazeFJZ2qB"
      },
      "outputs": [],
      "source": [
        "knn_exp_results = {}\n",
        "\n",
        "for instance in inst_names:\n",
        "    breakdown_exp = [exp.predict_parts(eval(f\"inst_{instance}\"), type='break_down', random_state=42) for exp in exp_list_knn]\n",
        "    knn_exp_results[f\"breakdown_{instance}\"] = breakdown_exp\n",
        "\n",
        "    shap_exp = [exp.predict_parts(eval(f\"inst_{instance}\"), type='shap', random_state=42) for exp in exp_list_knn]\n",
        "    knn_exp_results[f\"shap_{instance}\"] = shap_exp\n",
        "\n",
        "    lime_exp = [exp.predict_surrogate(eval(f\"inst_{instance}\"), random_state=42, class_names=[0, unique_values[i]]) for i, exp in enumerate(exp_list_knn)]\n",
        "    knn_exp_results[f\"lime_{instance}\"] = lime_exp"
      ]
    },
    {
      "cell_type": "markdown",
      "metadata": {},
      "source": [
        "### **Computer-architecture:**"
      ]
    },
    {
      "cell_type": "code",
      "execution_count": null,
      "metadata": {},
      "outputs": [],
      "source": [
        "breakdown_df_computerarchitecture_comparch = knn_exp_results['breakdown_computerarchitecture'][2].result\n",
        "shap_df_computerarchitecture_comparch = knn_exp_results['shap_computerarchitecture'][2].result\n",
        "lime_df_computerarchitecture_comparch = knn_exp_results['lime_computerarchitecture'][2].result"
      ]
    },
    {
      "cell_type": "code",
      "execution_count": null,
      "metadata": {},
      "outputs": [],
      "source": [
        "breakdown_df_computerarchitecture_emp = knn_exp_results['breakdown_computerarchitecture'][4].result\n",
        "shap_df_computerarchitecture_emp = knn_exp_results['shap_computerarchitecture'][4].result\n",
        "lime_df_computerarchitecture_emp = knn_exp_results['lime_computerarchitecture'][4].result"
      ]
    },
    {
      "cell_type": "code",
      "execution_count": null,
      "metadata": {},
      "outputs": [],
      "source": [
        "breakdown_df_computerarchitecture_rest = knn_exp_results['breakdown_computerarchitecture'][7].result\n",
        "shap_df_computerarchitecture_rest = knn_exp_results['shap_computerarchitecture'][7].result\n",
        "lime_df_computerarchitecture_rest = knn_exp_results['lime_computerarchitecture'][7].result"
      ]
    },
    {
      "cell_type": "code",
      "execution_count": null,
      "metadata": {},
      "outputs": [],
      "source": [
        "breakdown_df_computerarchitecture_shop = knn_exp_results['breakdown_computerarchitecture'][8].result\n",
        "shap_df_computerarchitecture_shop = knn_exp_results['shap_computerarchitecture'][8].result\n",
        "lime_df_computerarchitecture_shop = knn_exp_results['lime_computerarchitecture'][8].result"
      ]
    },
    {
      "cell_type": "code",
      "execution_count": null,
      "metadata": {},
      "outputs": [],
      "source": [
        "breakdown_df_computerarchitecture_smart = knn_exp_results['breakdown_computerarchitecture'][9].result\n",
        "shap_df_computerarchitecture_smart = knn_exp_results['shap_computerarchitecture'][9].result\n",
        "lime_df_computerarchitecture_smart = knn_exp_results['lime_computerarchitecture'][9].result"
      ]
    },
    {
      "cell_type": "code",
      "execution_count": null,
      "metadata": {},
      "outputs": [],
      "source": [
        "exp_plots_bd = [knn_exp_results['breakdown_computerarchitecture'][i] for i in class_index]\n",
        "exp_plots_bd[0].plot(exp_plots_bd[1:])"
      ]
    },
    {
      "cell_type": "code",
      "execution_count": null,
      "metadata": {},
      "outputs": [],
      "source": [
        "exp_plots_shap = [knn_exp_results['shap_computerarchitecture'][i] for i in class_index]\n",
        "exp_plots_shap[0].plot(exp_plots_shap[1:])"
      ]
    },
    {
      "cell_type": "code",
      "execution_count": null,
      "metadata": {},
      "outputs": [],
      "source": [
        "for i in class_index:\n",
        "  knn_exp_results['lime_computerarchitecture'][i].plot()"
      ]
    },
    {
      "cell_type": "code",
      "execution_count": null,
      "metadata": {},
      "outputs": [],
      "source": [
        "breakdown_df_computerarchitecture_comparch, shap_df_computerarchitecture_comparch, lime_df_computerarchitecture_comparch, df_final_knn_computerarchitecture_comparch = preprocess_dfs(breakdown_df_computerarchitecture_comparch, \n",
        "                                                                                                                                                                                      shap_df_computerarchitecture_comparch, \n",
        "                                                                                                                                                                                      lime_df_computerarchitecture_comparch, \n",
        "                                                                                                                                                                                      num_features, top_num_features)\n",
        "print('----------------------------------------------')\n",
        "print(breakdown_df_computerarchitecture_comparch)\n",
        "print('----------------------------------------------')\n",
        "print(shap_df_computerarchitecture_comparch)\n",
        "print('----------------------------------------------')\n",
        "print(lime_df_computerarchitecture_comparch)"
      ]
    },
    {
      "cell_type": "code",
      "execution_count": null,
      "metadata": {},
      "outputs": [],
      "source": [
        "df_final_knn_computerarchitecture_comparch"
      ]
    },
    {
      "cell_type": "code",
      "execution_count": null,
      "metadata": {},
      "outputs": [],
      "source": [
        "breakdown_df_computerarchitecture_emp, shap_df_computerarchitecture_emp, lime_df_computerarchitecture_emp, df_final_knn_computerarchitecture_emp = preprocess_dfs(breakdown_df_computerarchitecture_emp, \n",
        "                                                                                                                                                                                      shap_df_computerarchitecture_emp, \n",
        "                                                                                                                                                                                      lime_df_computerarchitecture_emp, \n",
        "                                                                                                                                                                                      num_features, top_num_features)\n",
        "print('----------------------------------------------')\n",
        "print(breakdown_df_computerarchitecture_emp)\n",
        "print('----------------------------------------------')\n",
        "print(shap_df_computerarchitecture_emp)\n",
        "print('----------------------------------------------')\n",
        "print(lime_df_computerarchitecture_emp)"
      ]
    },
    {
      "cell_type": "code",
      "execution_count": null,
      "metadata": {},
      "outputs": [],
      "source": [
        "df_final_knn_computerarchitecture_emp"
      ]
    },
    {
      "cell_type": "code",
      "execution_count": null,
      "metadata": {},
      "outputs": [],
      "source": [
        "breakdown_df_computerarchitecture_rest, shap_df_computerarchitecture_rest, lime_df_computerarchitecture_rest, df_final_knn_computerarchitecture_rest = preprocess_dfs(breakdown_df_computerarchitecture_rest, \n",
        "                                                                                                                                                                                      shap_df_computerarchitecture_rest, \n",
        "                                                                                                                                                                                      lime_df_computerarchitecture_rest, \n",
        "                                                                                                                                                                                      num_features, top_num_features)\n",
        "print('----------------------------------------------')\n",
        "print(breakdown_df_computerarchitecture_rest)\n",
        "print('----------------------------------------------')\n",
        "print(shap_df_computerarchitecture_rest)\n",
        "print('----------------------------------------------')\n",
        "print(lime_df_computerarchitecture_rest)"
      ]
    },
    {
      "cell_type": "code",
      "execution_count": null,
      "metadata": {},
      "outputs": [],
      "source": [
        "df_final_knn_computerarchitecture_rest"
      ]
    },
    {
      "cell_type": "code",
      "execution_count": null,
      "metadata": {},
      "outputs": [],
      "source": [
        "breakdown_df_computerarchitecture_shop, shap_df_computerarchitecture_shop, lime_df_computerarchitecture_shop, df_final_knn_computerarchitecture_shop = preprocess_dfs(breakdown_df_computerarchitecture_shop, \n",
        "                                                                                                                                                                                      shap_df_computerarchitecture_shop, \n",
        "                                                                                                                                                                                      lime_df_computerarchitecture_shop, \n",
        "                                                                                                                                                                                      num_features, top_num_features)\n",
        "print('----------------------------------------------')\n",
        "print(breakdown_df_computerarchitecture_shop)\n",
        "print('----------------------------------------------')\n",
        "print(shap_df_computerarchitecture_shop)\n",
        "print('----------------------------------------------')\n",
        "print(lime_df_computerarchitecture_shop)"
      ]
    },
    {
      "cell_type": "code",
      "execution_count": null,
      "metadata": {},
      "outputs": [],
      "source": [
        "df_final_knn_computerarchitecture_shop"
      ]
    },
    {
      "cell_type": "code",
      "execution_count": null,
      "metadata": {},
      "outputs": [],
      "source": [
        "breakdown_df_computerarchitecture_smart, shap_df_computerarchitecture_smart, lime_df_computerarchitecture_smart, df_final_knn_computerarchitecture_smart = preprocess_dfs(breakdown_df_computerarchitecture_smart, \n",
        "                                                                                                                                                                                      shap_df_computerarchitecture_smart, \n",
        "                                                                                                                                                                                      lime_df_computerarchitecture_smart, \n",
        "                                                                                                                                                                                      num_features, top_num_features)\n",
        "print('----------------------------------------------')\n",
        "print(breakdown_df_computerarchitecture_smart)\n",
        "print('----------------------------------------------')\n",
        "print(shap_df_computerarchitecture_smart)\n",
        "print('----------------------------------------------')\n",
        "print(lime_df_computerarchitecture_smart)"
      ]
    },
    {
      "cell_type": "code",
      "execution_count": null,
      "metadata": {},
      "outputs": [],
      "source": [
        "df_final_knn_computerarchitecture_smart"
      ]
    },
    {
      "cell_type": "markdown",
      "metadata": {},
      "source": [
        "### **Results Computer-architecture:**"
      ]
    },
    {
      "cell_type": "code",
      "execution_count": null,
      "metadata": {},
      "outputs": [],
      "source": [
        "df_topfeatures_comparch_comparch = top5_features(df_final_knn_computerarchitecture_comparch, 'ComputerArchitecture - Class: ComputerArchitecture')\n",
        "df_topfeatures_comparch_emp = top5_features(df_final_knn_computerarchitecture_emp, 'ComputerArchitecture - Class: Employee')\n",
        "df_topfeatures_comparch_rest = top5_features(df_final_knn_computerarchitecture_rest, 'ComputerArchitecture - Class: Restaurant')\n",
        "df_topfeatures_comparch_shop = top5_features(df_final_knn_computerarchitecture_shop, 'ComputerArchitecture - Class: Shopping')\n",
        "df_topfeatures_comparch_smart = top5_features(df_final_knn_computerarchitecture_smart, 'ComputerArchitecture - Class: Smarthouse')\n",
        "\n",
        "df_topfeatures_computerarchitecture = pd.concat([df_topfeatures_comparch_comparch, df_topfeatures_comparch_emp, df_topfeatures_comparch_rest, \n",
        "                                                 df_topfeatures_comparch_shop, df_topfeatures_comparch_smart])\n",
        "df_topfeatures_computerarchitecture"
      ]
    },
    {
      "cell_type": "code",
      "execution_count": null,
      "metadata": {},
      "outputs": [],
      "source": [
        "df_topfeatures_comparch_comparch_rank = top5_rank(df_final_knn_computerarchitecture_comparch, 'ComputerArchitecture - Class: ComputerArchitecture')\n",
        "df_topfeatures_comparch_emp_rank = top5_rank(df_final_knn_computerarchitecture_emp, 'ComputerArchitecture - Class: Employee')\n",
        "df_topfeatures_comparch_rest_rank = top5_rank(df_final_knn_computerarchitecture_rest, 'ComputerArchitecture - Class: Restaurant')\n",
        "df_topfeatures_comparch_shop_rank = top5_rank(df_final_knn_computerarchitecture_shop, 'ComputerArchitecture - Class: Shopping')\n",
        "df_topfeatures_comparch_smart_rank = top5_rank(df_final_knn_computerarchitecture_smart, 'ComputerArchitecture - Class: Smarthouse')\n",
        "\n",
        "df_topfeatures_rank_computerarchitecture = pd.concat([df_topfeatures_comparch_comparch_rank, df_topfeatures_comparch_emp_rank, \n",
        "                                                      df_topfeatures_comparch_rest_rank, df_topfeatures_comparch_shop_rank, df_topfeatures_comparch_smart_rank])\n",
        "df_topfeatures_rank_computerarchitecture"
      ]
    },
    {
      "cell_type": "code",
      "execution_count": null,
      "metadata": {},
      "outputs": [],
      "source": [
        "df_topfeatures_comparch_comparch_sign = top5_sign(df_final_knn_computerarchitecture_comparch, 'ComputerArchitecture - Class: ComputerArchitecture')\n",
        "df_topfeatures_comparch_emp_sign = top5_sign(df_final_knn_computerarchitecture_emp, 'ComputerArchitecture - Class: Employee')\n",
        "df_topfeatures_comparch_rest_sign = top5_sign(df_final_knn_computerarchitecture_rest, 'ComputerArchitecture - Class: Restaurant')\n",
        "df_topfeatures_comparch_shop_sign = top5_sign(df_final_knn_computerarchitecture_shop, 'ComputerArchitecture - Class: Shopping')\n",
        "df_topfeatures_comparch_smart_sign = top5_sign(df_final_knn_computerarchitecture_smart, 'ComputerArchitecture - Class: Smarthouse')\n",
        "\n",
        "df_topfeatures_sign_computerarchitecture = pd.concat([df_topfeatures_comparch_comparch_sign, df_topfeatures_comparch_emp_sign, \n",
        "                                                      df_topfeatures_comparch_rest_sign, df_topfeatures_comparch_shop_sign, df_topfeatures_comparch_smart_sign])\n",
        "df_topfeatures_sign_computerarchitecture"
      ]
    },
    {
      "cell_type": "code",
      "execution_count": null,
      "metadata": {},
      "outputs": [],
      "source": [
        "df_topfeatures_comparch_comparch_rank_sign = top5_rank_sign(df_final_knn_computerarchitecture_comparch, 'ComputerArchitecture - Class: ComputerArchitecture')\n",
        "df_topfeatures_comparch_emp_rank_sign = top5_rank_sign(df_final_knn_computerarchitecture_emp, 'ComputerArchitecture - Class: Employee')\n",
        "df_topfeatures_comparch_rest_rank_sign = top5_rank_sign(df_final_knn_computerarchitecture_rest, 'ComputerArchitecture - Class: Restaurant')\n",
        "df_topfeatures_comparch_shop_rank_sign = top5_rank_sign(df_final_knn_computerarchitecture_shop, 'ComputerArchitecture - Class: Shopping')\n",
        "df_topfeatures_comparch_smart_rank_sign = top5_rank_sign(df_final_knn_computerarchitecture_smart, 'ComputerArchitecture - Class: Smarthouse')\n",
        "\n",
        "df_topfeatures_rank_sign_computerarchitecture = pd.concat([df_topfeatures_comparch_comparch_rank_sign, df_topfeatures_comparch_emp_rank_sign, \n",
        "                                                           df_topfeatures_comparch_rest_rank_sign, df_topfeatures_comparch_shop_rank_sign, \n",
        "                                                           df_topfeatures_comparch_smart_rank_sign])\n",
        "df_topfeatures_rank_sign_computerarchitecture"
      ]
    },
    {
      "cell_type": "markdown",
      "metadata": {},
      "source": [
        "### **Employee:**"
      ]
    },
    {
      "cell_type": "code",
      "execution_count": null,
      "metadata": {},
      "outputs": [],
      "source": [
        "breakdown_df_employee_comparch = knn_exp_results['breakdown_employee'][2].result\n",
        "shap_df_employee_comparch = knn_exp_results['shap_employee'][2].result\n",
        "lime_df_employee_comparch = knn_exp_results['lime_employee'][2].result"
      ]
    },
    {
      "cell_type": "code",
      "execution_count": null,
      "metadata": {},
      "outputs": [],
      "source": [
        "breakdown_df_employee_emp = knn_exp_results['breakdown_employee'][4].result\n",
        "shap_df_employee_emp = knn_exp_results['shap_employee'][4].result\n",
        "lime_df_employee_emp = knn_exp_results['lime_employee'][4].result"
      ]
    },
    {
      "cell_type": "code",
      "execution_count": null,
      "metadata": {},
      "outputs": [],
      "source": [
        "breakdown_df_employee_rest = knn_exp_results['breakdown_employee'][7].result\n",
        "shap_df_employee_rest = knn_exp_results['shap_employee'][7].result\n",
        "lime_df_employee_rest = knn_exp_results['lime_employee'][7].result"
      ]
    },
    {
      "cell_type": "code",
      "execution_count": null,
      "metadata": {},
      "outputs": [],
      "source": [
        "breakdown_df_employee_shop = knn_exp_results['breakdown_employee'][8].result\n",
        "shap_df_employee_shop = knn_exp_results['shap_employee'][8].result\n",
        "lime_df_employee_shop = knn_exp_results['lime_employee'][8].result"
      ]
    },
    {
      "cell_type": "code",
      "execution_count": null,
      "metadata": {},
      "outputs": [],
      "source": [
        "breakdown_df_employee_smart = knn_exp_results['breakdown_employee'][9].result\n",
        "shap_df_employee_smart = knn_exp_results['shap_employee'][9].result\n",
        "lime_df_employee_smart = knn_exp_results['lime_employee'][9].result"
      ]
    },
    {
      "cell_type": "code",
      "execution_count": null,
      "metadata": {},
      "outputs": [],
      "source": [
        "exp_plots_bd = [knn_exp_results['breakdown_employee'][i] for i in class_index]\n",
        "exp_plots_bd[0].plot(exp_plots_bd[1:])"
      ]
    },
    {
      "cell_type": "code",
      "execution_count": null,
      "metadata": {},
      "outputs": [],
      "source": [
        "exp_plots_shap = [knn_exp_results['shap_employee'][i] for i in class_index]\n",
        "exp_plots_shap[0].plot(exp_plots_shap[1:])"
      ]
    },
    {
      "cell_type": "code",
      "execution_count": null,
      "metadata": {},
      "outputs": [],
      "source": [
        "for i in class_index:\n",
        "  knn_exp_results['lime_employee'][i].plot()"
      ]
    },
    {
      "cell_type": "code",
      "execution_count": null,
      "metadata": {},
      "outputs": [],
      "source": [
        "breakdown_df_employee_comparch, shap_df_employee_comparch, lime_df_employee_comparch, df_final_knn_employee_comparch = preprocess_dfs(breakdown_df_employee_comparch, \n",
        "                                                                                                                                      shap_df_employee_comparch, \n",
        "                                                                                                                                      lime_df_employee_comparch, \n",
        "                                                                                                                                      num_features, top_num_features)\n",
        "print('----------------------------------------------')\n",
        "print(breakdown_df_employee_comparch)\n",
        "print('----------------------------------------------')\n",
        "print(shap_df_employee_comparch)\n",
        "print('----------------------------------------------')\n",
        "print(lime_df_employee_comparch)"
      ]
    },
    {
      "cell_type": "code",
      "execution_count": null,
      "metadata": {},
      "outputs": [],
      "source": [
        "df_final_knn_employee_comparch"
      ]
    },
    {
      "cell_type": "code",
      "execution_count": null,
      "metadata": {},
      "outputs": [],
      "source": [
        "breakdown_df_employee_emp, shap_df_employee_emp, lime_df_employee_emp, df_final_knn_employee_emp = preprocess_dfs(breakdown_df_employee_emp, \n",
        "                                                                                                                  shap_df_employee_emp, \n",
        "                                                                                                                  lime_df_employee_emp, \n",
        "                                                                                                                  num_features, top_num_features)\n",
        "print('----------------------------------------------')\n",
        "print(breakdown_df_employee_emp)\n",
        "print('----------------------------------------------')\n",
        "print(shap_df_employee_emp)\n",
        "print('----------------------------------------------')\n",
        "print(lime_df_employee_emp)"
      ]
    },
    {
      "cell_type": "code",
      "execution_count": null,
      "metadata": {},
      "outputs": [],
      "source": [
        "df_final_knn_employee_emp"
      ]
    },
    {
      "cell_type": "code",
      "execution_count": null,
      "metadata": {},
      "outputs": [],
      "source": [
        "breakdown_df_employee_rest, shap_df_employee_rest, lime_df_employee_rest, df_final_knn_employee_rest = preprocess_dfs(breakdown_df_employee_rest, \n",
        "                                                                                                                      shap_df_employee_rest, \n",
        "                                                                                                                      lime_df_employee_rest, \n",
        "                                                                                                                      num_features, top_num_features)\n",
        "print('----------------------------------------------')\n",
        "print(breakdown_df_employee_rest)\n",
        "print('----------------------------------------------')\n",
        "print(shap_df_employee_rest)\n",
        "print('----------------------------------------------')\n",
        "print(lime_df_employee_rest)"
      ]
    },
    {
      "cell_type": "code",
      "execution_count": null,
      "metadata": {},
      "outputs": [],
      "source": [
        "df_final_knn_employee_rest"
      ]
    },
    {
      "cell_type": "code",
      "execution_count": null,
      "metadata": {},
      "outputs": [],
      "source": [
        "breakdown_df_employee_shop, shap_df_employee_shop, lime_df_employee_shop, df_final_knn_employee_shop = preprocess_dfs(breakdown_df_employee_shop, \n",
        "                                                                                                                      shap_df_employee_shop, \n",
        "                                                                                                                      lime_df_employee_shop, \n",
        "                                                                                                                      num_features, top_num_features)\n",
        "print('----------------------------------------------')\n",
        "print(breakdown_df_employee_shop)\n",
        "print('----------------------------------------------')\n",
        "print(shap_df_employee_shop)\n",
        "print('----------------------------------------------')\n",
        "print(lime_df_employee_shop)"
      ]
    },
    {
      "cell_type": "code",
      "execution_count": null,
      "metadata": {},
      "outputs": [],
      "source": [
        "df_final_knn_employee_shop"
      ]
    },
    {
      "cell_type": "code",
      "execution_count": null,
      "metadata": {},
      "outputs": [],
      "source": [
        "breakdown_df_employee_smart, shap_df_employee_smart, lime_df_employee_smart, df_final_knn_employee_smart = preprocess_dfs(breakdown_df_employee_smart, \n",
        "                                                                                                                          shap_df_employee_smart, \n",
        "                                                                                                                          lime_df_employee_smart, \n",
        "                                                                                                                          num_features, top_num_features)\n",
        "print('----------------------------------------------')\n",
        "print(breakdown_df_employee_smart)\n",
        "print('----------------------------------------------')\n",
        "print(shap_df_employee_smart)\n",
        "print('----------------------------------------------')\n",
        "print(lime_df_employee_smart)"
      ]
    },
    {
      "cell_type": "code",
      "execution_count": null,
      "metadata": {},
      "outputs": [],
      "source": [
        "df_final_knn_employee_smart"
      ]
    },
    {
      "cell_type": "markdown",
      "metadata": {},
      "source": [
        "### **Results Employee:**"
      ]
    },
    {
      "cell_type": "code",
      "execution_count": null,
      "metadata": {},
      "outputs": [],
      "source": [
        "df_topfeatures_employee_comparch = top5_features(df_final_knn_employee_comparch, 'Employee - Class: ComputerArchitecture')\n",
        "df_topfeatures_employee_emp = top5_features(df_final_knn_employee_emp, 'Employee - Class: Employee')\n",
        "df_topfeatures_employee_rest = top5_features(df_final_knn_employee_rest, 'Employee - Class: Restaurant')\n",
        "df_topfeatures_employee_shop = top5_features(df_final_knn_employee_shop, 'Employee - Class: Shopping')\n",
        "df_topfeatures_employee_smart = top5_features(df_final_knn_employee_smart, 'Employee - Class: Smarthouse')\n",
        "\n",
        "df_topfeatures_employee = pd.concat([df_topfeatures_employee_comparch, df_topfeatures_employee_emp, df_topfeatures_employee_rest, \n",
        "                                     df_topfeatures_employee_shop, df_topfeatures_employee_smart])\n",
        "df_topfeatures_employee"
      ]
    },
    {
      "cell_type": "code",
      "execution_count": null,
      "metadata": {},
      "outputs": [],
      "source": [
        "df_topfeatures_employee_comparch_rank = top5_rank(df_final_knn_employee_comparch, 'Employee - Class: ComputerArchitecture')\n",
        "df_topfeatures_employee_emp_rank = top5_rank(df_final_knn_employee_emp, 'Employee - Class: Employee')\n",
        "df_topfeatures_employee_rest_rank = top5_rank(df_final_knn_employee_rest, 'Employee - Class: Restaurant')\n",
        "df_topfeatures_employee_shop_rank = top5_rank(df_final_knn_employee_shop, 'Employee - Class: Shopping')\n",
        "df_topfeatures_employee_smart_rank = top5_rank(df_final_knn_employee_smart, 'Employee - Class: Smarthouse')\n",
        "\n",
        "df_topfeatures_rank_employee = pd.concat([df_topfeatures_employee_comparch_rank, df_topfeatures_employee_emp_rank, \n",
        "                                          df_topfeatures_employee_rest_rank, df_topfeatures_employee_shop_rank, df_topfeatures_employee_smart_rank])\n",
        "df_topfeatures_rank_employee"
      ]
    },
    {
      "cell_type": "code",
      "execution_count": null,
      "metadata": {},
      "outputs": [],
      "source": [
        "df_topfeatures_employee_comparch_sign = top5_sign(df_final_knn_employee_comparch, 'Employee - Class: ComputerArchitecture')\n",
        "df_topfeatures_employee_emp_sign = top5_sign(df_final_knn_employee_emp, 'Employee - Class: Employee')\n",
        "df_topfeatures_employee_rest_sign = top5_sign(df_final_knn_employee_rest, 'Employee - Class: Restaurant')\n",
        "df_topfeatures_employee_shop_sign = top5_sign(df_final_knn_employee_shop, 'Employee - Class: Shopping')\n",
        "df_topfeatures_employee_smart_sign = top5_sign(df_final_knn_employee_smart, 'Employee - Class: Smarthouse')\n",
        "\n",
        "df_topfeatures_sign_employee = pd.concat([df_topfeatures_employee_comparch_sign, df_topfeatures_employee_emp_sign, \n",
        "                                          df_topfeatures_employee_rest_sign, df_topfeatures_employee_shop_sign, df_topfeatures_employee_smart_sign])\n",
        "df_topfeatures_sign_employee"
      ]
    },
    {
      "cell_type": "code",
      "execution_count": null,
      "metadata": {},
      "outputs": [],
      "source": [
        "df_topfeatures_employee_comparch_rank_sign = top5_rank_sign(df_final_knn_employee_comparch, 'Employee - Class: ComputerArchitecture')\n",
        "df_topfeatures_employee_emp_rank_sign = top5_rank_sign(df_final_knn_employee_emp, 'Employee - Class: Employee')\n",
        "df_topfeatures_employee_rest_rank_sign = top5_rank_sign(df_final_knn_employee_rest, 'Employee - Class: Restaurant')\n",
        "df_topfeatures_employee_shop_rank_sign = top5_rank_sign(df_final_knn_employee_shop, 'Employee - Class: Shopping')\n",
        "df_topfeatures_employee_smart_rank_sign = top5_rank_sign(df_final_knn_employee_smart, 'Employee - Class: Smarthouse')\n",
        "\n",
        "df_topfeatures_rank_sign_employee = pd.concat([df_topfeatures_employee_comparch_rank_sign, df_topfeatures_employee_emp_rank_sign, \n",
        "                                              df_topfeatures_employee_rest_rank_sign, df_topfeatures_employee_shop_rank_sign, \n",
        "                                              df_topfeatures_employee_smart_rank_sign])\n",
        "df_topfeatures_rank_sign_employee"
      ]
    },
    {
      "cell_type": "markdown",
      "metadata": {},
      "source": [
        "### **Restaurant:**"
      ]
    },
    {
      "cell_type": "code",
      "execution_count": null,
      "metadata": {},
      "outputs": [],
      "source": [
        "breakdown_df_restaurant_comparch = knn_exp_results['breakdown_restaurant'][2].result\n",
        "shap_df_restaurant_comparch = knn_exp_results['shap_restaurant'][2].result\n",
        "lime_df_restaurant_comparch = knn_exp_results['lime_restaurant'][2].result"
      ]
    },
    {
      "cell_type": "code",
      "execution_count": null,
      "metadata": {},
      "outputs": [],
      "source": [
        "breakdown_df_restaurant_emp = knn_exp_results['breakdown_restaurant'][4].result\n",
        "shap_df_restaurant_emp = knn_exp_results['shap_restaurant'][4].result\n",
        "lime_df_restaurant_emp = knn_exp_results['lime_restaurant'][4].result"
      ]
    },
    {
      "cell_type": "code",
      "execution_count": null,
      "metadata": {},
      "outputs": [],
      "source": [
        "breakdown_df_restaurant_rest = knn_exp_results['breakdown_restaurant'][7].result\n",
        "shap_df_restaurant_rest = knn_exp_results['shap_restaurant'][7].result\n",
        "lime_df_restaurant_rest = knn_exp_results['lime_restaurant'][7].result"
      ]
    },
    {
      "cell_type": "code",
      "execution_count": null,
      "metadata": {},
      "outputs": [],
      "source": [
        "breakdown_df_restaurant_shop = knn_exp_results['breakdown_restaurant'][8].result\n",
        "shap_df_restaurant_shop = knn_exp_results['shap_restaurant'][8].result\n",
        "lime_df_restaurant_shop = knn_exp_results['lime_restaurant'][8].result"
      ]
    },
    {
      "cell_type": "code",
      "execution_count": null,
      "metadata": {},
      "outputs": [],
      "source": [
        "breakdown_df_restaurant_smart = knn_exp_results['breakdown_restaurant'][9].result\n",
        "shap_df_restaurant_smart = knn_exp_results['shap_restaurant'][9].result\n",
        "lime_df_restaurant_smart = knn_exp_results['lime_restaurant'][9].result"
      ]
    },
    {
      "cell_type": "code",
      "execution_count": null,
      "metadata": {},
      "outputs": [],
      "source": [
        "exp_plots_bd = [knn_exp_results['breakdown_restaurant'][i] for i in class_index]\n",
        "exp_plots_bd[0].plot(exp_plots_bd[1:])"
      ]
    },
    {
      "cell_type": "code",
      "execution_count": null,
      "metadata": {},
      "outputs": [],
      "source": [
        "exp_plots_shap = [knn_exp_results['shap_restaurant'][i] for i in class_index]\n",
        "exp_plots_shap[0].plot(exp_plots_shap[1:])"
      ]
    },
    {
      "cell_type": "code",
      "execution_count": null,
      "metadata": {},
      "outputs": [],
      "source": [
        "for i in class_index:\n",
        "  knn_exp_results['lime_restaurant'][i].plot()"
      ]
    },
    {
      "cell_type": "code",
      "execution_count": null,
      "metadata": {},
      "outputs": [],
      "source": [
        "breakdown_df_restaurant_comparch, shap_df_restaurant_comparch, lime_df_restaurant_comparch, df_final_knn_restaurant_comparch = preprocess_dfs(breakdown_df_restaurant_comparch, \n",
        "                                                                                                                                              shap_df_restaurant_comparch, \n",
        "                                                                                                                                              lime_df_restaurant_comparch, \n",
        "                                                                                                                                              num_features, top_num_features)\n",
        "print('----------------------------------------------')\n",
        "print(breakdown_df_restaurant_comparch)\n",
        "print('----------------------------------------------')\n",
        "print(shap_df_restaurant_comparch)\n",
        "print('----------------------------------------------')\n",
        "print(lime_df_restaurant_comparch)"
      ]
    },
    {
      "cell_type": "code",
      "execution_count": null,
      "metadata": {},
      "outputs": [],
      "source": [
        "df_final_knn_restaurant_comparch"
      ]
    },
    {
      "cell_type": "code",
      "execution_count": null,
      "metadata": {},
      "outputs": [],
      "source": [
        "breakdown_df_restaurant_emp, shap_df_restaurant_emp, lime_df_restaurant_emp, df_final_knn_restaurant_emp = preprocess_dfs(breakdown_df_restaurant_emp, \n",
        "                                                                                                                          shap_df_restaurant_emp, \n",
        "                                                                                                                          lime_df_restaurant_emp, \n",
        "                                                                                                                          num_features, top_num_features)\n",
        "print('----------------------------------------------')\n",
        "print(breakdown_df_restaurant_emp)\n",
        "print('----------------------------------------------')\n",
        "print(shap_df_restaurant_emp)\n",
        "print('----------------------------------------------')\n",
        "print(lime_df_restaurant_emp)"
      ]
    },
    {
      "cell_type": "code",
      "execution_count": null,
      "metadata": {},
      "outputs": [],
      "source": [
        "df_final_knn_restaurant_emp"
      ]
    },
    {
      "cell_type": "code",
      "execution_count": null,
      "metadata": {},
      "outputs": [],
      "source": [
        "breakdown_df_restaurant_rest, shap_df_restaurant_rest, lime_df_restaurant_rest, df_final_knn_restaurant_rest = preprocess_dfs(breakdown_df_restaurant_rest, \n",
        "                                                                                                                              shap_df_restaurant_rest, \n",
        "                                                                                                                              lime_df_restaurant_rest, \n",
        "                                                                                                                              num_features, top_num_features)\n",
        "print('----------------------------------------------')\n",
        "print(breakdown_df_restaurant_rest)\n",
        "print('----------------------------------------------')\n",
        "print(shap_df_restaurant_rest)\n",
        "print('----------------------------------------------')\n",
        "print(lime_df_restaurant_rest)"
      ]
    },
    {
      "cell_type": "code",
      "execution_count": null,
      "metadata": {},
      "outputs": [],
      "source": [
        "df_final_knn_restaurant_rest"
      ]
    },
    {
      "cell_type": "code",
      "execution_count": null,
      "metadata": {},
      "outputs": [],
      "source": [
        "breakdown_df_restaurant_shop, shap_df_restaurant_shop, lime_df_restaurant_shop, df_final_knn_restaurant_shop = preprocess_dfs(breakdown_df_restaurant_shop, \n",
        "                                                                                                                              shap_df_restaurant_shop, \n",
        "                                                                                                                              lime_df_restaurant_shop, \n",
        "                                                                                                                              num_features, top_num_features)\n",
        "print('----------------------------------------------')\n",
        "print(breakdown_df_restaurant_shop)\n",
        "print('----------------------------------------------')\n",
        "print(shap_df_restaurant_shop)\n",
        "print('----------------------------------------------')\n",
        "print(lime_df_restaurant_shop)"
      ]
    },
    {
      "cell_type": "code",
      "execution_count": null,
      "metadata": {},
      "outputs": [],
      "source": [
        "df_final_knn_restaurant_shop"
      ]
    },
    {
      "cell_type": "code",
      "execution_count": null,
      "metadata": {},
      "outputs": [],
      "source": [
        "breakdown_df_restaurant_smart, shap_df_restaurant_smart, lime_df_restaurant_smart, df_final_knn_restaurant_smart = preprocess_dfs(breakdown_df_restaurant_smart, \n",
        "                                                                                                                                  shap_df_restaurant_smart, \n",
        "                                                                                                                                  lime_df_restaurant_smart, \n",
        "                                                                                                                                  num_features, top_num_features)\n",
        "print('----------------------------------------------')\n",
        "print(breakdown_df_restaurant_smart)\n",
        "print('----------------------------------------------')\n",
        "print(shap_df_restaurant_smart)\n",
        "print('----------------------------------------------')\n",
        "print(lime_df_restaurant_smart)"
      ]
    },
    {
      "cell_type": "code",
      "execution_count": null,
      "metadata": {},
      "outputs": [],
      "source": [
        "df_final_knn_restaurant_smart"
      ]
    },
    {
      "cell_type": "markdown",
      "metadata": {},
      "source": [
        "### **Results Restaurant:**"
      ]
    },
    {
      "cell_type": "code",
      "execution_count": null,
      "metadata": {},
      "outputs": [],
      "source": [
        "df_topfeatures_restaurant_comparch = top5_features(df_final_knn_restaurant_comparch, 'Restaurant - Class: ComputerArchitecture')\n",
        "df_topfeatures_restaurant_emp = top5_features(df_final_knn_restaurant_emp, 'Restaurant - Class: Employee')\n",
        "df_topfeatures_restaurant_rest = top5_features(df_final_knn_restaurant_rest, 'Restaurant- Class: Restaurant')\n",
        "df_topfeatures_restaurant_shop = top5_features(df_final_knn_restaurant_shop, 'Restaurant - Class: Shopping')\n",
        "df_topfeatures_restaurant_smart = top5_features(df_final_knn_restaurant_smart, 'Restaurant - Class: Smarthouse')\n",
        "\n",
        "df_topfeatures_restaurant = pd.concat([df_topfeatures_restaurant_comparch, df_topfeatures_restaurant_emp, df_topfeatures_restaurant_rest, \n",
        "                                       df_topfeatures_restaurant_shop, df_topfeatures_restaurant_smart])\n",
        "df_topfeatures_restaurant"
      ]
    },
    {
      "cell_type": "code",
      "execution_count": null,
      "metadata": {},
      "outputs": [],
      "source": [
        "df_topfeatures_restaurant_comparch_rank = top5_rank(df_final_knn_restaurant_comparch, 'Restaurant- Class: ComputerArchitecture')\n",
        "df_topfeatures_restaurant_emp_rank = top5_rank(df_final_knn_restaurant_emp, 'Restaurant - Class: Employee')\n",
        "df_topfeatures_restaurant_rest_rank = top5_rank(df_final_knn_restaurant_rest, 'Restaurant - Class: Restaurant')\n",
        "df_topfeatures_restaurant_shop_rank = top5_rank(df_final_knn_restaurant_shop, 'Restaurant - Class: Shopping')\n",
        "df_topfeatures_restaurant_smart_rank = top5_rank(df_final_knn_restaurant_smart, 'Restaurant - Class: Smarthouse')\n",
        "\n",
        "df_topfeatures_rank_restaurant= pd.concat([df_topfeatures_restaurant_comparch_rank, df_topfeatures_restaurant_emp_rank, \n",
        "                                           df_topfeatures_restaurant_rest_rank, df_topfeatures_restaurant_shop_rank, df_topfeatures_restaurant_smart_rank])\n",
        "df_topfeatures_rank_restaurant"
      ]
    },
    {
      "cell_type": "code",
      "execution_count": null,
      "metadata": {},
      "outputs": [],
      "source": [
        "df_topfeatures_restaurant_comparch_sign = top5_sign(df_final_knn_restaurant_comparch, 'Restaurant - Class: ComputerArchitecture')\n",
        "df_topfeatures_restaurant_emp_sign = top5_sign(df_final_knn_restaurant_emp, 'Restaurant - Class: Employee')\n",
        "df_topfeatures_restaurant_rest_sign = top5_sign(df_final_knn_restaurant_rest, 'Restaurant - Class: Restaurant')\n",
        "df_topfeatures_restaurant_shop_sign = top5_sign(df_final_knn_restaurant_shop, 'Restaurant - Class: Shopping')\n",
        "df_topfeatures_restaurant_smart_sign = top5_sign(df_final_knn_restaurant_smart, 'Restaurant - Class: Smarthouse')\n",
        "\n",
        "df_topfeatures_sign_restaurant = pd.concat([df_topfeatures_restaurant_comparch_sign, df_topfeatures_restaurant_emp_sign, \n",
        "                                            df_topfeatures_restaurant_rest_sign, df_topfeatures_restaurant_shop_sign, df_topfeatures_restaurant_smart_sign])\n",
        "df_topfeatures_sign_restaurant"
      ]
    },
    {
      "cell_type": "code",
      "execution_count": null,
      "metadata": {},
      "outputs": [],
      "source": [
        "df_topfeatures_restaurant_comparch_rank_sign = top5_rank_sign(df_final_knn_restaurant_comparch, 'Restaurant - Class: ComputerArchitecture')\n",
        "df_topfeatures_restaurant_emp_rank_sign = top5_rank_sign(df_final_knn_restaurant_emp, 'Restaurant - Class: Employee')\n",
        "df_topfeatures_restaurant_rest_rank_sign = top5_rank_sign(df_final_knn_restaurant_rest, 'Restaurant - Class: Restaurant')\n",
        "df_topfeatures_restaurant_shop_rank_sign = top5_rank_sign(df_final_knn_restaurant_shop, 'Restaurant - Class: Shopping')\n",
        "df_topfeatures_restaurant_smart_rank_sign = top5_rank_sign(df_final_knn_restaurant_smart, 'Restaurant - Class: Smarthouse')\n",
        "\n",
        "df_topfeatures_rank_sign_restaurant = pd.concat([df_topfeatures_restaurant_comparch_rank_sign, df_topfeatures_restaurant_emp_rank_sign, \n",
        "                                                 df_topfeatures_restaurant_rest_rank_sign, df_topfeatures_restaurant_shop_rank_sign, \n",
        "                                                 df_topfeatures_restaurant_smart_rank_sign])\n",
        "df_topfeatures_rank_sign_restaurant"
      ]
    },
    {
      "cell_type": "markdown",
      "metadata": {},
      "source": [
        "### **Shopping:**"
      ]
    },
    {
      "cell_type": "code",
      "execution_count": null,
      "metadata": {},
      "outputs": [],
      "source": [
        "breakdown_df_shopping_comparch = knn_exp_results['breakdown_shopping'][2].result\n",
        "shap_df_shopping_comparch = knn_exp_results['shap_shopping'][2].result\n",
        "lime_df_shopping_comparch = knn_exp_results['lime_shopping'][2].result"
      ]
    },
    {
      "cell_type": "code",
      "execution_count": null,
      "metadata": {},
      "outputs": [],
      "source": [
        "breakdown_df_shopping_emp = knn_exp_results['breakdown_shopping'][4].result\n",
        "shap_df_shopping_emp = knn_exp_results['shap_shopping'][4].result\n",
        "lime_df_shopping_emp = knn_exp_results['lime_shopping'][4].result"
      ]
    },
    {
      "cell_type": "code",
      "execution_count": null,
      "metadata": {},
      "outputs": [],
      "source": [
        "breakdown_df_shopping_rest = knn_exp_results['breakdown_shopping'][7].result\n",
        "shap_df_shopping_rest = knn_exp_results['shap_shopping'][7].result\n",
        "lime_df_shopping_rest = knn_exp_results['lime_shopping'][7].result"
      ]
    },
    {
      "cell_type": "code",
      "execution_count": null,
      "metadata": {},
      "outputs": [],
      "source": [
        "breakdown_df_shopping_shop = knn_exp_results['breakdown_shopping'][8].result\n",
        "shap_df_shopping_shop = knn_exp_results['shap_shopping'][8].result\n",
        "lime_df_shopping_shop = knn_exp_results['lime_shopping'][8].result"
      ]
    },
    {
      "cell_type": "code",
      "execution_count": null,
      "metadata": {},
      "outputs": [],
      "source": [
        "breakdown_df_shopping_smart = knn_exp_results['breakdown_shopping'][9].result\n",
        "shap_df_shopping_smart = knn_exp_results['shap_shopping'][9].result\n",
        "lime_df_shopping_smart = knn_exp_results['lime_shopping'][9].result"
      ]
    },
    {
      "cell_type": "code",
      "execution_count": null,
      "metadata": {},
      "outputs": [],
      "source": [
        "exp_plots_bd = [knn_exp_results['breakdown_shopping'][i] for i in class_index]\n",
        "exp_plots_bd[0].plot(exp_plots_bd[1:])"
      ]
    },
    {
      "cell_type": "code",
      "execution_count": null,
      "metadata": {},
      "outputs": [],
      "source": [
        "exp_plots_shap = [knn_exp_results['shap_shopping'][i] for i in class_index]\n",
        "exp_plots_shap[0].plot(exp_plots_shap[1:])"
      ]
    },
    {
      "cell_type": "code",
      "execution_count": null,
      "metadata": {},
      "outputs": [],
      "source": [
        "for i in class_index:\n",
        "  knn_exp_results['lime_shopping'][i].plot()"
      ]
    },
    {
      "cell_type": "code",
      "execution_count": null,
      "metadata": {},
      "outputs": [],
      "source": [
        "breakdown_df_shopping_comparch, shap_df_shopping_comparch, lime_df_shopping_comparch, df_final_knn_shopping_comparch = preprocess_dfs(breakdown_df_shopping_comparch, \n",
        "                                                                                                                                              shap_df_shopping_comparch, \n",
        "                                                                                                                                              lime_df_shopping_comparch, \n",
        "                                                                                                                                              num_features, top_num_features)\n",
        "print('----------------------------------------------')\n",
        "print(breakdown_df_shopping_comparch)\n",
        "print('----------------------------------------------')\n",
        "print(shap_df_shopping_comparch)\n",
        "print('----------------------------------------------')\n",
        "print(lime_df_shopping_comparch)"
      ]
    },
    {
      "cell_type": "code",
      "execution_count": null,
      "metadata": {},
      "outputs": [],
      "source": [
        "df_final_knn_shopping_comparch"
      ]
    },
    {
      "cell_type": "code",
      "execution_count": null,
      "metadata": {},
      "outputs": [],
      "source": [
        "breakdown_df_shopping_emp, shap_df_shopping_emp, lime_df_shopping_emp, df_final_knn_shopping_emp = preprocess_dfs(breakdown_df_shopping_emp, \n",
        "                                                                                                                          shap_df_shopping_emp, \n",
        "                                                                                                                          lime_df_shopping_emp, \n",
        "                                                                                                                          num_features, top_num_features)\n",
        "print('----------------------------------------------')\n",
        "print(breakdown_df_shopping_emp)\n",
        "print('----------------------------------------------')\n",
        "print(shap_df_shopping_emp)\n",
        "print('----------------------------------------------')\n",
        "print(lime_df_shopping_emp)"
      ]
    },
    {
      "cell_type": "code",
      "execution_count": null,
      "metadata": {},
      "outputs": [],
      "source": [
        "df_final_knn_shopping_emp"
      ]
    },
    {
      "cell_type": "code",
      "execution_count": null,
      "metadata": {},
      "outputs": [],
      "source": [
        "breakdown_df_shopping_rest, shap_df_shopping_rest, lime_df_shopping_rest, df_final_knn_shopping_rest = preprocess_dfs(breakdown_df_shopping_rest, \n",
        "                                                                                                                              shap_df_shopping_rest, \n",
        "                                                                                                                              lime_df_shopping_rest, \n",
        "                                                                                                                              num_features, top_num_features)\n",
        "print('----------------------------------------------')\n",
        "print(breakdown_df_shopping_rest)\n",
        "print('----------------------------------------------')\n",
        "print(shap_df_shopping_rest)\n",
        "print('----------------------------------------------')\n",
        "print(lime_df_shopping_rest)"
      ]
    },
    {
      "cell_type": "code",
      "execution_count": null,
      "metadata": {},
      "outputs": [],
      "source": [
        "df_final_knn_shopping_rest"
      ]
    },
    {
      "cell_type": "code",
      "execution_count": null,
      "metadata": {},
      "outputs": [],
      "source": [
        "breakdown_df_shopping_shop, shap_df_shopping_shop, lime_df_shopping_shop, df_final_knn_shopping_shop = preprocess_dfs(breakdown_df_shopping_shop, \n",
        "                                                                                                                              shap_df_shopping_shop, \n",
        "                                                                                                                              lime_df_shopping_shop, \n",
        "                                                                                                                              num_features, top_num_features)\n",
        "print('----------------------------------------------')\n",
        "print(breakdown_df_shopping_shop)\n",
        "print('----------------------------------------------')\n",
        "print(shap_df_shopping_shop)\n",
        "print('----------------------------------------------')\n",
        "print(lime_df_shopping_shop)"
      ]
    },
    {
      "cell_type": "code",
      "execution_count": null,
      "metadata": {},
      "outputs": [],
      "source": [
        "df_final_knn_shopping_shop"
      ]
    },
    {
      "cell_type": "code",
      "execution_count": null,
      "metadata": {},
      "outputs": [],
      "source": [
        "breakdown_df_shopping_smart, shap_df_shopping_smart, lime_df_shopping_smart, df_final_knn_shopping_smart = preprocess_dfs(breakdown_df_shopping_smart, \n",
        "                                                                                                                                  shap_df_shopping_smart, \n",
        "                                                                                                                                  lime_df_shopping_smart, \n",
        "                                                                                                                                  num_features, top_num_features)\n",
        "print('----------------------------------------------')\n",
        "print(breakdown_df_shopping_smart)\n",
        "print('----------------------------------------------')\n",
        "print(shap_df_shopping_smart)\n",
        "print('----------------------------------------------')\n",
        "print(lime_df_shopping_smart)"
      ]
    },
    {
      "cell_type": "code",
      "execution_count": null,
      "metadata": {},
      "outputs": [],
      "source": [
        "df_final_knn_shopping_smart"
      ]
    },
    {
      "cell_type": "markdown",
      "metadata": {},
      "source": [
        "### **Results Shopping:**"
      ]
    },
    {
      "cell_type": "code",
      "execution_count": null,
      "metadata": {},
      "outputs": [],
      "source": [
        "df_topfeatures_shopping_comparch = top5_features(df_final_knn_shopping_comparch, 'Shopping - Class: ComputerArchitecture')\n",
        "df_topfeatures_shopping_emp = top5_features(df_final_knn_shopping_emp, 'Shopping  - Class: Employee')\n",
        "df_topfeatures_shopping_rest = top5_features(df_final_knn_shopping_rest, 'Shopping - Class: Restaurant')\n",
        "df_topfeatures_shopping_shop = top5_features(df_final_knn_shopping_shop, 'Shopping  - Class: Shopping')\n",
        "df_topfeatures_shopping_smart = top5_features(df_final_knn_shopping_smart, 'Shopping  - Class: Smarthouse')\n",
        "\n",
        "df_topfeatures_shopping = pd.concat([df_topfeatures_shopping_comparch, df_topfeatures_shopping_emp, df_topfeatures_shopping_rest, \n",
        "                                       df_topfeatures_shopping_shop, df_topfeatures_shopping_smart])\n",
        "df_topfeatures_shopping"
      ]
    },
    {
      "cell_type": "code",
      "execution_count": null,
      "metadata": {},
      "outputs": [],
      "source": [
        "df_topfeatures_shopping_comparch_rank = top5_rank(df_final_knn_shopping_comparch, 'Shopping - Class: ComputerArchitecture')\n",
        "df_topfeatures_shopping_emp_rank = top5_rank(df_final_knn_shopping_emp, 'Shopping  - Class: Employee')\n",
        "df_topfeatures_shopping_rest_rank = top5_rank(df_final_knn_shopping_rest, 'Shopping  - Class: Restaurant')\n",
        "df_topfeatures_shopping_shop_rank = top5_rank(df_final_knn_shopping_shop, 'Shopping  - Class: Shopping')\n",
        "df_topfeatures_shopping_smart_rank = top5_rank(df_final_knn_shopping_smart, 'Shopping  - Class: Smarthouse')\n",
        "\n",
        "df_topfeatures_rank_shopping= pd.concat([df_topfeatures_shopping_comparch_rank, df_topfeatures_shopping_emp_rank, \n",
        "                                           df_topfeatures_shopping_rest_rank, df_topfeatures_shopping_shop_rank, df_topfeatures_shopping_smart_rank])\n",
        "df_topfeatures_rank_shopping"
      ]
    },
    {
      "cell_type": "code",
      "execution_count": null,
      "metadata": {},
      "outputs": [],
      "source": [
        "df_topfeatures_shopping_comparch_sign = top5_sign(df_final_knn_shopping_comparch, 'Shopping  - Class: ComputerArchitecture')\n",
        "df_topfeatures_shopping_emp_sign = top5_sign(df_final_knn_shopping_emp, 'Shopping  - Class: Employee')\n",
        "df_topfeatures_shopping_rest_sign = top5_sign(df_final_knn_shopping_rest, 'Shopping  - Class: Restaurant')\n",
        "df_topfeatures_shopping_shop_sign = top5_sign(df_final_knn_shopping_shop, 'Shopping  - Class: Shopping')\n",
        "df_topfeatures_shopping_smart_sign = top5_sign(df_final_knn_shopping_smart, 'Shopping  - Class: Smarthouse')\n",
        "\n",
        "df_topfeatures_sign_shopping = pd.concat([df_topfeatures_shopping_comparch_sign, df_topfeatures_shopping_emp_sign, \n",
        "                                            df_topfeatures_shopping_rest_sign, df_topfeatures_shopping_shop_sign, df_topfeatures_shopping_smart_sign])\n",
        "df_topfeatures_sign_shopping"
      ]
    },
    {
      "cell_type": "code",
      "execution_count": null,
      "metadata": {},
      "outputs": [],
      "source": [
        "df_topfeatures_shopping_comparch_rank_sign = top5_rank_sign(df_final_knn_shopping_comparch, 'Shopping  - Class: ComputerArchitecture')\n",
        "df_topfeatures_shopping_emp_rank_sign = top5_rank_sign(df_final_knn_shopping_emp, 'Shopping  - Class: Employee')\n",
        "df_topfeatures_shopping_rest_rank_sign = top5_rank_sign(df_final_knn_shopping_rest, 'Shopping  - Class: Restaurant')\n",
        "df_topfeatures_shopping_shop_rank_sign = top5_rank_sign(df_final_knn_shopping_shop, 'Shopping  - Class: Shopping')\n",
        "df_topfeatures_shopping_smart_rank_sign = top5_rank_sign(df_final_knn_shopping_smart, 'Shopping  - Class: Smarthouse')\n",
        "\n",
        "df_topfeatures_rank_sign_shopping = pd.concat([df_topfeatures_shopping_comparch_rank_sign, df_topfeatures_shopping_emp_rank_sign, \n",
        "                                                 df_topfeatures_shopping_rest_rank_sign, df_topfeatures_shopping_shop_rank_sign, \n",
        "                                                 df_topfeatures_shopping_smart_rank_sign])\n",
        "df_topfeatures_rank_sign_shopping"
      ]
    },
    {
      "cell_type": "markdown",
      "metadata": {},
      "source": [
        "### **SmartHouse:**"
      ]
    },
    {
      "cell_type": "code",
      "execution_count": null,
      "metadata": {},
      "outputs": [],
      "source": [
        "breakdown_df_smarthouse_comparch = knn_exp_results['breakdown_smarthouse'][2].result\n",
        "shap_df_smarthouse_comparch = knn_exp_results['shap_smarthouse'][2].result\n",
        "lime_df_smarthouse_comparch = knn_exp_results['lime_smarthouse'][2].result"
      ]
    },
    {
      "cell_type": "code",
      "execution_count": null,
      "metadata": {},
      "outputs": [],
      "source": [
        "breakdown_df_smarthouse_emp = knn_exp_results['breakdown_smarthouse'][4].result\n",
        "shap_df_smarthouse_emp = knn_exp_results['shap_smarthouse'][4].result\n",
        "lime_df_smarthouse_emp = knn_exp_results['lime_smarthouse'][4].result"
      ]
    },
    {
      "cell_type": "code",
      "execution_count": null,
      "metadata": {},
      "outputs": [],
      "source": [
        "breakdown_df_smarthouse_rest = knn_exp_results['breakdown_smarthouse'][7].result\n",
        "shap_df_smarthouse_rest = knn_exp_results['shap_smarthouse'][7].result\n",
        "lime_df_smarthouse_rest = knn_exp_results['lime_smarthouse'][7].result"
      ]
    },
    {
      "cell_type": "code",
      "execution_count": null,
      "metadata": {},
      "outputs": [],
      "source": [
        "breakdown_df_smarthouse_shop = knn_exp_results['breakdown_smarthouse'][8].result\n",
        "shap_df_smarthouse_shop = knn_exp_results['shap_smarthouse'][8].result\n",
        "lime_df_smarthouse_shop = knn_exp_results['lime_smarthouse'][8].result"
      ]
    },
    {
      "cell_type": "code",
      "execution_count": null,
      "metadata": {},
      "outputs": [],
      "source": [
        "breakdown_df_smarthouse_smart = knn_exp_results['breakdown_smarthouse'][9].result\n",
        "shap_df_smarthouse_smart = knn_exp_results['shap_smarthouse'][9].result\n",
        "lime_df_smarthouse_smart = knn_exp_results['lime_smarthouse'][9].result"
      ]
    },
    {
      "cell_type": "code",
      "execution_count": null,
      "metadata": {},
      "outputs": [],
      "source": [
        "exp_plots_bd = [knn_exp_results['breakdown_smarthouse'][i] for i in class_index]\n",
        "exp_plots_bd[0].plot(exp_plots_bd[1:])"
      ]
    },
    {
      "cell_type": "code",
      "execution_count": null,
      "metadata": {},
      "outputs": [],
      "source": [
        "exp_plots_shap = [knn_exp_results['shap_smarthouse'][i] for i in class_index]\n",
        "exp_plots_shap[0].plot(exp_plots_shap[1:])"
      ]
    },
    {
      "cell_type": "code",
      "execution_count": null,
      "metadata": {},
      "outputs": [],
      "source": [
        "for i in class_index:\n",
        "  knn_exp_results['lime_smarthouse'][i].plot()"
      ]
    },
    {
      "cell_type": "code",
      "execution_count": null,
      "metadata": {},
      "outputs": [],
      "source": [
        "breakdown_df_smarthouse_comparch, shap_df_smarthouse_comparch, lime_df_smarthouse_comparch, df_final_knn_smarthouse_comparch = preprocess_dfs(breakdown_df_smarthouse_comparch, \n",
        "                                                                                                                                      shap_df_smarthouse_comparch, \n",
        "                                                                                                                                      lime_df_smarthouse_comparch, \n",
        "                                                                                                                                      num_features, top_num_features)\n",
        "print('----------------------------------------------')\n",
        "print(breakdown_df_smarthouse_comparch)\n",
        "print('----------------------------------------------')\n",
        "print(shap_df_smarthouse_comparch)\n",
        "print('----------------------------------------------')\n",
        "print(lime_df_smarthouse_comparch)"
      ]
    },
    {
      "cell_type": "code",
      "execution_count": null,
      "metadata": {},
      "outputs": [],
      "source": [
        "df_final_knn_smarthouse_comparch"
      ]
    },
    {
      "cell_type": "code",
      "execution_count": null,
      "metadata": {},
      "outputs": [],
      "source": [
        "breakdown_df_smarthouse_emp, shap_df_smarthouse_emp, lime_df_smarthouse_emp, df_final_knn_smarthouse_emp = preprocess_dfs(breakdown_df_smarthouse_emp, \n",
        "                                                                                                                  shap_df_smarthouse_emp, \n",
        "                                                                                                                  lime_df_smarthouse_emp, \n",
        "                                                                                                                  num_features, top_num_features)\n",
        "print('----------------------------------------------')\n",
        "print(breakdown_df_smarthouse_emp)\n",
        "print('----------------------------------------------')\n",
        "print(shap_df_smarthouse_emp)\n",
        "print('----------------------------------------------')\n",
        "print(lime_df_smarthouse_emp)"
      ]
    },
    {
      "cell_type": "code",
      "execution_count": null,
      "metadata": {},
      "outputs": [],
      "source": [
        "df_final_knn_smarthouse_emp"
      ]
    },
    {
      "cell_type": "code",
      "execution_count": null,
      "metadata": {},
      "outputs": [],
      "source": [
        "breakdown_df_smarthouse_rest, shap_df_smarthouse_rest, lime_df_smarthouse_rest, df_final_knn_smarthouse_rest = preprocess_dfs(breakdown_df_smarthouse_rest, \n",
        "                                                                                                                      shap_df_smarthouse_rest, \n",
        "                                                                                                                      lime_df_smarthouse_rest, \n",
        "                                                                                                                      num_features, top_num_features)\n",
        "print('----------------------------------------------')\n",
        "print(breakdown_df_smarthouse_rest)\n",
        "print('----------------------------------------------')\n",
        "print(shap_df_smarthouse_rest)\n",
        "print('----------------------------------------------')\n",
        "print(lime_df_smarthouse_rest)"
      ]
    },
    {
      "cell_type": "code",
      "execution_count": null,
      "metadata": {},
      "outputs": [],
      "source": [
        "df_final_knn_smarthouse_rest"
      ]
    },
    {
      "cell_type": "code",
      "execution_count": null,
      "metadata": {},
      "outputs": [],
      "source": [
        "breakdown_df_smarthouse_shop, shap_df_smarthouse_shop, lime_df_smarthouse_shop, df_final_knn_smarthouse_shop = preprocess_dfs(breakdown_df_smarthouse_shop, \n",
        "                                                                                                                      shap_df_smarthouse_shop, \n",
        "                                                                                                                      lime_df_smarthouse_shop, \n",
        "                                                                                                                      num_features, top_num_features)\n",
        "print('----------------------------------------------')\n",
        "print(breakdown_df_smarthouse_shop)\n",
        "print('----------------------------------------------')\n",
        "print(shap_df_smarthouse_shop)\n",
        "print('----------------------------------------------')\n",
        "print(lime_df_smarthouse_shop)"
      ]
    },
    {
      "cell_type": "code",
      "execution_count": null,
      "metadata": {},
      "outputs": [],
      "source": [
        "df_final_knn_smarthouse_shop"
      ]
    },
    {
      "cell_type": "code",
      "execution_count": null,
      "metadata": {},
      "outputs": [],
      "source": [
        "breakdown_df_smarthouse_smart, shap_df_smarthouse_smart, lime_df_smarthouse_smart, df_final_knn_smarthouse_smart = preprocess_dfs(breakdown_df_smarthouse_smart, \n",
        "                                                                                                                          shap_df_smarthouse_smart, \n",
        "                                                                                                                          lime_df_smarthouse_smart, \n",
        "                                                                                                                          num_features, top_num_features)\n",
        "print('----------------------------------------------')\n",
        "print(breakdown_df_smarthouse_smart)\n",
        "print('----------------------------------------------')\n",
        "print(shap_df_smarthouse_smart)\n",
        "print('----------------------------------------------')\n",
        "print(lime_df_smarthouse_smart)"
      ]
    },
    {
      "cell_type": "code",
      "execution_count": null,
      "metadata": {},
      "outputs": [],
      "source": [
        "df_final_knn_smarthouse_smart"
      ]
    },
    {
      "cell_type": "markdown",
      "metadata": {},
      "source": [
        "### **Results SmartHouse:**"
      ]
    },
    {
      "cell_type": "code",
      "execution_count": null,
      "metadata": {},
      "outputs": [],
      "source": [
        "df_topfeatures_smarthouse_comparch = top5_features(df_final_knn_smarthouse_comparch, 'SmartHouse - Class: ComputerArchitecture')\n",
        "df_topfeatures_smarthouse_emp = top5_features(df_final_knn_smarthouse_emp, 'SmartHouse - Class: Employee')\n",
        "df_topfeatures_smarthouse_rest = top5_features(df_final_knn_smarthouse_rest, 'SmartHouse - Class: Restaurant')\n",
        "df_topfeatures_smarthouse_shop = top5_features(df_final_knn_smarthouse_shop, 'SmartHouse - Class: Shopping')\n",
        "df_topfeatures_smarthouse_smart = top5_features(df_final_knn_smarthouse_smart, 'SmartHouse - Class: Smarthouse')\n",
        "\n",
        "df_topfeatures_smarthouse = pd.concat([df_topfeatures_smarthouse_comparch, df_topfeatures_smarthouse_emp, df_topfeatures_smarthouse_rest, \n",
        "                                     df_topfeatures_smarthouse_shop, df_topfeatures_smarthouse_smart])\n",
        "df_topfeatures_smarthouse"
      ]
    },
    {
      "cell_type": "code",
      "execution_count": null,
      "metadata": {},
      "outputs": [],
      "source": [
        "df_topfeatures_smarthouse_comparch_rank = top5_rank(df_final_knn_smarthouse_comparch, 'SmartHouse - Class: ComputerArchitecture')\n",
        "df_topfeatures_smarthouse_emp_rank = top5_rank(df_final_knn_smarthouse_emp, 'SmartHouse - Class: Employee')\n",
        "df_topfeatures_smarthouse_rest_rank = top5_rank(df_final_knn_smarthouse_rest, 'SmartHouse - Class: Restaurant')\n",
        "df_topfeatures_smarthouse_shop_rank = top5_rank(df_final_knn_smarthouse_shop, 'SmartHouse - Class: Shopping')\n",
        "df_topfeatures_smarthouse_smart_rank = top5_rank(df_final_knn_smarthouse_smart, 'SmartHouse - Class: Smarthouse')\n",
        "\n",
        "df_topfeatures_rank_smarthouse = pd.concat([df_topfeatures_smarthouse_comparch_rank, df_topfeatures_smarthouse_emp_rank, \n",
        "                                          df_topfeatures_smarthouse_rest_rank, df_topfeatures_smarthouse_shop_rank, df_topfeatures_smarthouse_smart_rank])\n",
        "df_topfeatures_rank_smarthouse"
      ]
    },
    {
      "cell_type": "code",
      "execution_count": null,
      "metadata": {},
      "outputs": [],
      "source": [
        "df_topfeatures_smarthouse_comparch_sign = top5_sign(df_final_knn_smarthouse_comparch, 'SmartHouse - Class: ComputerArchitecture')\n",
        "df_topfeatures_smarthouse_emp_sign = top5_sign(df_final_knn_smarthouse_emp, 'SmartHouse - Class: Employee')\n",
        "df_topfeatures_smarthouse_rest_sign = top5_sign(df_final_knn_smarthouse_rest, 'SmartHouse - Class: Restaurant')\n",
        "df_topfeatures_smarthouse_shop_sign = top5_sign(df_final_knn_smarthouse_shop, 'SmartHouse - Class: Shopping')\n",
        "df_topfeatures_smarthouse_smart_sign = top5_sign(df_final_knn_smarthouse_smart, 'SmartHouse - Class: Smarthouse')\n",
        "\n",
        "df_topfeatures_sign_smarthouse = pd.concat([df_topfeatures_smarthouse_comparch_sign, df_topfeatures_smarthouse_emp_sign, \n",
        "                                          df_topfeatures_smarthouse_rest_sign, df_topfeatures_smarthouse_shop_sign, df_topfeatures_smarthouse_smart_sign])\n",
        "df_topfeatures_sign_smarthouse"
      ]
    },
    {
      "cell_type": "code",
      "execution_count": null,
      "metadata": {},
      "outputs": [],
      "source": [
        "df_topfeatures_smarthouse_comparch_rank_sign = top5_rank_sign(df_final_knn_smarthouse_comparch, 'SmartHouse - Class: ComputerArchitecture')\n",
        "df_topfeatures_smarthouse_emp_rank_sign = top5_rank_sign(df_final_knn_smarthouse_emp, 'SmartHouse - Class: Employee')\n",
        "df_topfeatures_smarthouse_rest_rank_sign = top5_rank_sign(df_final_knn_smarthouse_rest, 'SmartHouse - Class: Restaurant')\n",
        "df_topfeatures_smarthouse_shop_rank_sign = top5_rank_sign(df_final_knn_smarthouse_shop, 'SmartHouse - Class: Shopping')\n",
        "df_topfeatures_smarthouse_smart_rank_sign = top5_rank_sign(df_final_knn_smarthouse_smart, 'SmartHouse - Class: Smarthouse')\n",
        "\n",
        "df_topfeatures_rank_sign_smarthouse = pd.concat([df_topfeatures_smarthouse_comparch_rank_sign, df_topfeatures_smarthouse_emp_rank_sign, \n",
        "                                              df_topfeatures_smarthouse_rest_rank_sign, df_topfeatures_smarthouse_shop_rank_sign, \n",
        "                                              df_topfeatures_smarthouse_smart_rank_sign])\n",
        "df_topfeatures_rank_sign_smarthouse"
      ]
    }
  ],
  "metadata": {
    "colab": {
      "collapsed_sections": [
        "43uij0ADRn8c",
        "lnZF5LXUDLT-",
        "XxWMqJgNKnHr",
        "eCcvYc_CKnHv",
        "mYsvgBWcKnHy",
        "fpt8LoAOZyEA",
        "-S-mIgpSKnH3",
        "NY4SN2PtKnH7",
        "72pGAtBJKnID",
        "nUeFPStzzijE",
        "r727InsWCQPc",
        "_Fk6nK2tEY-s",
        "DgoHpc_3KnIR",
        "TKfhVKASGtQp",
        "H27QjylfWHKc",
        "eV45OUHhWHKj",
        "_FvQx_n1Ug4-",
        "4C5bhoSpUg5I",
        "SOiKHKq4ZaKF",
        "Bt-09jprZaKQ",
        "G90jtmhYZbvw",
        "EBCdLPHvZbv5",
        "-Xq639Ni36Va",
        "d7wOUkMf36Vj",
        "Uf41eSzBLm5Z",
        "8QQ3_Nlr9cKz",
        "bp_RivV09cK4",
        "aeuIyhnV9cK5",
        "puNeZoS_9cK-",
        "lCGsYK3K9cK_",
        "HR-rpt4Y9cLC",
        "xcH1RVuF9cLD",
        "HkrU7Ew-9cLG",
        "s97ZY6wO9cLG",
        "GjV-yH9S9cLJ",
        "JYUeHHFBL7aX",
        "QGQdZMZqZ2qB",
        "WCSW_noyZ2qE",
        "-rwKVpJNZ2qE",
        "dzK5R5UJZ2qH",
        "gNVGYSvFZ2qI",
        "LGn5Xi7eZ2qM",
        "LxveInlVZ2qN",
        "ORux7UQfZ2qS",
        "NxwkNEfGZ2qS",
        "LGRZfUfRZ2qV"
      ],
      "provenance": []
    },
    "kernelspec": {
      "display_name": "Modelset",
      "language": "python",
      "name": "python3"
    },
    "language_info": {
      "codemirror_mode": {
        "name": "ipython",
        "version": 3
      },
      "file_extension": ".py",
      "mimetype": "text/x-python",
      "name": "python",
      "nbconvert_exporter": "python",
      "pygments_lexer": "ipython3",
      "version": "3.10.16"
    }
  },
  "nbformat": 4,
  "nbformat_minor": 0
}
